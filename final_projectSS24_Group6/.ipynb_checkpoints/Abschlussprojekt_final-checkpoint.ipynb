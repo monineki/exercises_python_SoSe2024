{
 "cells": [
  {
   "cell_type": "markdown",
   "id": "59dbdcb7",
   "metadata": {
    "slideshow": {
     "slide_type": ""
    },
    "tags": []
   },
   "source": [
    "# Bereinigung der Datensätze"
   ]
  },
  {
   "cell_type": "markdown",
   "id": "6914f38d-04c5-455d-9a44-06bb29483ed6",
   "metadata": {},
   "source": [
    "## 1. Importieren der Pakete"
   ]
  },
  {
   "cell_type": "code",
   "execution_count": 1,
   "id": "611b4ad8-8f0d-42ca-8be6-2314d95e6e6f",
   "metadata": {},
   "outputs": [],
   "source": [
    "import pandas as pd\n",
    "import matplotlib.pyplot as plt\n",
    "import numpy as np\n",
    "from scipy import stats\n",
    "import statsmodels.api as sm\n",
    "from sklearn.preprocessing import StandardScaler\n",
    "import statsmodels.formula.api as smf \n",
    "import seaborn as sns\n"
   ]
  },
  {
   "cell_type": "markdown",
   "id": "20b5f2d9",
   "metadata": {},
   "source": [
    "## 2. Kundendaten"
   ]
  },
  {
   "cell_type": "markdown",
   "id": "0eac4c81-703d-4aff-a26d-7372a53f7a21",
   "metadata": {},
   "source": [
    "### 2.1 Kundendatei einlesen"
   ]
  },
  {
   "cell_type": "code",
   "execution_count": 2,
   "id": "fad08255",
   "metadata": {},
   "outputs": [
    {
     "data": {
      "text/html": [
       "<div>\n",
       "<style scoped>\n",
       "    .dataframe tbody tr th:only-of-type {\n",
       "        vertical-align: middle;\n",
       "    }\n",
       "\n",
       "    .dataframe tbody tr th {\n",
       "        vertical-align: top;\n",
       "    }\n",
       "\n",
       "    .dataframe thead th {\n",
       "        text-align: right;\n",
       "    }\n",
       "</style>\n",
       "<table border=\"1\" class=\"dataframe\">\n",
       "  <thead>\n",
       "    <tr style=\"text-align: right;\">\n",
       "      <th></th>\n",
       "      <th>Alter</th>\n",
       "      <th>Einkommen</th>\n",
       "      <th>Preis</th>\n",
       "      <th>Geschlecht</th>\n",
       "      <th>Zeit</th>\n",
       "      <th>KundeNr</th>\n",
       "    </tr>\n",
       "  </thead>\n",
       "  <tbody>\n",
       "    <tr>\n",
       "      <th>0</th>\n",
       "      <td>64</td>\n",
       "      <td>66894.0</td>\n",
       "      <td>88160.31</td>\n",
       "      <td>1.0</td>\n",
       "      <td>43.0</td>\n",
       "      <td>K0310</td>\n",
       "    </tr>\n",
       "    <tr>\n",
       "      <th>1</th>\n",
       "      <td>54</td>\n",
       "      <td>77644.0</td>\n",
       "      <td>103145.70</td>\n",
       "      <td>1.0</td>\n",
       "      <td>40.0</td>\n",
       "      <td>K1042</td>\n",
       "    </tr>\n",
       "    <tr>\n",
       "      <th>2</th>\n",
       "      <td>55</td>\n",
       "      <td>44341.0</td>\n",
       "      <td>80565.16</td>\n",
       "      <td>0.0</td>\n",
       "      <td>37.0</td>\n",
       "      <td>K0382</td>\n",
       "    </tr>\n",
       "    <tr>\n",
       "      <th>3</th>\n",
       "      <td>49</td>\n",
       "      <td>67271.0</td>\n",
       "      <td>83949.89</td>\n",
       "      <td>0.0</td>\n",
       "      <td>42.0</td>\n",
       "      <td>K0498</td>\n",
       "    </tr>\n",
       "    <tr>\n",
       "      <th>4</th>\n",
       "      <td>46</td>\n",
       "      <td>49832.0</td>\n",
       "      <td>93781.58</td>\n",
       "      <td>0.0</td>\n",
       "      <td>41.0</td>\n",
       "      <td>K0552</td>\n",
       "    </tr>\n",
       "  </tbody>\n",
       "</table>\n",
       "</div>"
      ],
      "text/plain": [
       "   Alter  Einkommen      Preis  Geschlecht  Zeit KundeNr\n",
       "0     64    66894.0   88160.31         1.0  43.0   K0310\n",
       "1     54    77644.0  103145.70         1.0  40.0   K1042\n",
       "2     55    44341.0   80565.16         0.0  37.0   K0382\n",
       "3     49    67271.0   83949.89         0.0  42.0   K0498\n",
       "4     46    49832.0   93781.58         0.0  41.0   K0552"
      ]
     },
     "execution_count": 2,
     "metadata": {},
     "output_type": "execute_result"
    }
   ],
   "source": [
    "kunden = pd.read_csv(\"kunden.csv\", decimal = '.', sep = \";\")\n",
    "kunden.head()"
   ]
  },
  {
   "cell_type": "markdown",
   "id": "d5022e9a-b102-4ea9-ae5c-0f5ea84f4577",
   "metadata": {},
   "source": [
    "### 2.2 Überblick über Datentypen"
   ]
  },
  {
   "cell_type": "code",
   "execution_count": 3,
   "id": "1f0a053f",
   "metadata": {},
   "outputs": [
    {
     "data": {
      "text/plain": [
       "Alter           int64\n",
       "Einkommen     float64\n",
       "Preis         float64\n",
       "Geschlecht    float64\n",
       "Zeit          float64\n",
       "KundeNr        object\n",
       "dtype: object"
      ]
     },
     "execution_count": 3,
     "metadata": {},
     "output_type": "execute_result"
    }
   ],
   "source": [
    "kunden.dtypes"
   ]
  },
  {
   "cell_type": "markdown",
   "id": "21b4b255-768d-4e12-9ac0-fac3cc16fe16",
   "metadata": {},
   "source": [
    "### 2.3. Bereinigung"
   ]
  },
  {
   "cell_type": "markdown",
   "id": "dfc76067",
   "metadata": {},
   "source": [
    "### 2.3.1 Fehlende Datenpunkte ermitteln und ersetzen"
   ]
  },
  {
   "cell_type": "code",
   "execution_count": 4,
   "id": "0a459b24",
   "metadata": {},
   "outputs": [
    {
     "data": {
      "text/plain": [
       "Alter         0\n",
       "Einkommen     0\n",
       "Preis         0\n",
       "Geschlecht    5\n",
       "Zeit          0\n",
       "KundeNr       0\n",
       "dtype: int64"
      ]
     },
     "execution_count": 4,
     "metadata": {},
     "output_type": "execute_result"
    }
   ],
   "source": [
    "kunden.isnull().sum()"
   ]
  },
  {
   "cell_type": "code",
   "execution_count": 5,
   "id": "8e5bfd33",
   "metadata": {},
   "outputs": [],
   "source": [
    "# Finden des Modalwertes:"
   ]
  },
  {
   "cell_type": "code",
   "execution_count": 6,
   "id": "eb4d8d0c",
   "metadata": {},
   "outputs": [],
   "source": [
    "modalwert_kunden = kunden['Geschlecht'].mode()[0]"
   ]
  },
  {
   "cell_type": "code",
   "execution_count": 7,
   "id": "281480c0",
   "metadata": {},
   "outputs": [
    {
     "data": {
      "text/plain": [
       "1.0"
      ]
     },
     "execution_count": 7,
     "metadata": {},
     "output_type": "execute_result"
    }
   ],
   "source": [
    "modalwert_kunden"
   ]
  },
  {
   "cell_type": "code",
   "execution_count": 8,
   "id": "c6bf589f",
   "metadata": {},
   "outputs": [],
   "source": [
    "# Ersetzen der 5 fehlenden Geschlechtseinträge mit dem Modalwert 1.0"
   ]
  },
  {
   "cell_type": "code",
   "execution_count": 9,
   "id": "d2af5f2d",
   "metadata": {},
   "outputs": [],
   "source": [
    "kunden.fillna(value = modalwert_kunden, axis = 0, inplace = True)"
   ]
  },
  {
   "cell_type": "code",
   "execution_count": 10,
   "id": "7f5e11fc-a22e-4c13-91f1-f1b5ac573517",
   "metadata": {},
   "outputs": [],
   "source": [
    "# Überprüfung"
   ]
  },
  {
   "cell_type": "code",
   "execution_count": 11,
   "id": "08ccd3d1",
   "metadata": {},
   "outputs": [
    {
     "data": {
      "text/plain": [
       "Alter         0\n",
       "Einkommen     0\n",
       "Preis         0\n",
       "Geschlecht    0\n",
       "Zeit          0\n",
       "KundeNr       0\n",
       "dtype: int64"
      ]
     },
     "execution_count": 11,
     "metadata": {},
     "output_type": "execute_result"
    }
   ],
   "source": [
    "kunden.isnull().sum()"
   ]
  },
  {
   "cell_type": "markdown",
   "id": "e4febb36-807b-4f50-bd57-b643bb53b7d1",
   "metadata": {},
   "source": [
    "### 2.3.2 Ausreißer ermitteln und entfernen"
   ]
  },
  {
   "cell_type": "code",
   "execution_count": 12,
   "id": "fd6815eb-a49b-4ddd-b6c6-a302ba14f04f",
   "metadata": {},
   "outputs": [
    {
     "data": {
      "text/html": [
       "<div>\n",
       "<style scoped>\n",
       "    .dataframe tbody tr th:only-of-type {\n",
       "        vertical-align: middle;\n",
       "    }\n",
       "\n",
       "    .dataframe tbody tr th {\n",
       "        vertical-align: top;\n",
       "    }\n",
       "\n",
       "    .dataframe thead th {\n",
       "        text-align: right;\n",
       "    }\n",
       "</style>\n",
       "<table border=\"1\" class=\"dataframe\">\n",
       "  <thead>\n",
       "    <tr style=\"text-align: right;\">\n",
       "      <th></th>\n",
       "      <th>count</th>\n",
       "      <th>mean</th>\n",
       "      <th>std</th>\n",
       "      <th>min</th>\n",
       "      <th>25%</th>\n",
       "      <th>50%</th>\n",
       "      <th>75%</th>\n",
       "      <th>max</th>\n",
       "    </tr>\n",
       "  </thead>\n",
       "  <tbody>\n",
       "    <tr>\n",
       "      <th>Alter</th>\n",
       "      <td>1104.0</td>\n",
       "      <td>50.481884</td>\n",
       "      <td>1.222506e+01</td>\n",
       "      <td>30.000000</td>\n",
       "      <td>40.0000</td>\n",
       "      <td>51.000</td>\n",
       "      <td>61.000</td>\n",
       "      <td>1.200000e+02</td>\n",
       "    </tr>\n",
       "    <tr>\n",
       "      <th>Einkommen</th>\n",
       "      <td>1104.0</td>\n",
       "      <td>964474.817596</td>\n",
       "      <td>3.009470e+07</td>\n",
       "      <td>-62840.374523</td>\n",
       "      <td>46638.5000</td>\n",
       "      <td>59013.000</td>\n",
       "      <td>70298.000</td>\n",
       "      <td>1.000000e+09</td>\n",
       "    </tr>\n",
       "    <tr>\n",
       "      <th>Preis</th>\n",
       "      <td>1104.0</td>\n",
       "      <td>88975.198714</td>\n",
       "      <td>2.446407e+04</td>\n",
       "      <td>21471.650000</td>\n",
       "      <td>70609.4225</td>\n",
       "      <td>88931.455</td>\n",
       "      <td>107093.375</td>\n",
       "      <td>1.654823e+05</td>\n",
       "    </tr>\n",
       "    <tr>\n",
       "      <th>Geschlecht</th>\n",
       "      <td>1104.0</td>\n",
       "      <td>0.639493</td>\n",
       "      <td>4.803653e-01</td>\n",
       "      <td>0.000000</td>\n",
       "      <td>0.0000</td>\n",
       "      <td>1.000</td>\n",
       "      <td>1.000</td>\n",
       "      <td>1.000000e+00</td>\n",
       "    </tr>\n",
       "    <tr>\n",
       "      <th>Zeit</th>\n",
       "      <td>1104.0</td>\n",
       "      <td>44.375906</td>\n",
       "      <td>1.084804e+01</td>\n",
       "      <td>12.000000</td>\n",
       "      <td>37.0000</td>\n",
       "      <td>44.000</td>\n",
       "      <td>52.000</td>\n",
       "      <td>8.000000e+01</td>\n",
       "    </tr>\n",
       "  </tbody>\n",
       "</table>\n",
       "</div>"
      ],
      "text/plain": [
       "             count           mean           std           min         25%  \\\n",
       "Alter       1104.0      50.481884  1.222506e+01     30.000000     40.0000   \n",
       "Einkommen   1104.0  964474.817596  3.009470e+07 -62840.374523  46638.5000   \n",
       "Preis       1104.0   88975.198714  2.446407e+04  21471.650000  70609.4225   \n",
       "Geschlecht  1104.0       0.639493  4.803653e-01      0.000000      0.0000   \n",
       "Zeit        1104.0      44.375906  1.084804e+01     12.000000     37.0000   \n",
       "\n",
       "                  50%         75%           max  \n",
       "Alter          51.000      61.000  1.200000e+02  \n",
       "Einkommen   59013.000   70298.000  1.000000e+09  \n",
       "Preis       88931.455  107093.375  1.654823e+05  \n",
       "Geschlecht      1.000       1.000  1.000000e+00  \n",
       "Zeit           44.000      52.000  8.000000e+01  "
      ]
     },
     "execution_count": 12,
     "metadata": {},
     "output_type": "execute_result"
    }
   ],
   "source": [
    "# Außreißer ermitteln\n",
    "kunden.describe().T"
   ]
  },
  {
   "cell_type": "markdown",
   "id": "ad1750cc-c3b7-4508-96b3-3019e9b3d607",
   "metadata": {},
   "source": [
    "### 2.3.2.1 Alter "
   ]
  },
  {
   "cell_type": "code",
   "execution_count": 13,
   "id": "c6a280a6",
   "metadata": {},
   "outputs": [
    {
     "data": {
      "image/png": "[encoded data removed]",
      "text/plain": [
       "<Figure size 640x480 with 1 Axes>"
      ]
     },
     "metadata": {},
     "output_type": "display_data"
    }
   ],
   "source": [
    "boxplot_alter = kunden.boxplot(column = 'Alter')\n",
    "plt.show()"
   ]
  },
  {
   "cell_type": "code",
   "execution_count": 14,
   "id": "849f2d87-21fa-4f0a-a2c4-fd3b7dca90de",
   "metadata": {},
   "outputs": [],
   "source": [
    "# zwei Ausreißer zu erkennen"
   ]
  },
  {
   "cell_type": "code",
   "execution_count": 15,
   "id": "81eb8902-104b-4ac0-a4a3-3313711eb073",
   "metadata": {},
   "outputs": [
    {
     "data": {
      "text/plain": [
       "Ausreißer\n",
       "False    1102\n",
       "True        2\n",
       "Name: count, dtype: int64"
      ]
     },
     "execution_count": 15,
     "metadata": {},
     "output_type": "execute_result"
    }
   ],
   "source": [
    "# Berechnung von Q1, Q3 und IQR\n",
    "Q1_Alter = kunden['Alter'].quantile(0.25)\n",
    "Q3_Alter = kunden['Alter'].quantile(0.75)\n",
    "IQR_Alter = Q3_Alter - Q1_Alter\n",
    "# Berechnung der Ausreißer-Grenzen\n",
    "untere_grenze_Alter = Q1_Alter - 1.5 * IQR_Alter\n",
    "obere_grenze_Alter = Q3_Alter + 1.5 * IQR_Alter\n",
    "kunden['Ausreißer'] = (kunden['Alter'] < untere_grenze_Alter) | (kunden['Alter'] > obere_grenze_Alter)\n",
    "ausreißer_alter = kunden.Ausreißer.value_counts()\n",
    "ausreißer_alter"
   ]
  },
  {
   "cell_type": "code",
   "execution_count": 16,
   "id": "0df22729-c6e0-490c-bf09-04a119fd87ed",
   "metadata": {},
   "outputs": [],
   "source": [
    "# Ermitteln der genauen Werte der Ausreißer"
   ]
  },
  {
   "cell_type": "code",
   "execution_count": 17,
   "id": "9b3acc1f-9773-4b15-9e2b-8ba478c0108c",
   "metadata": {},
   "outputs": [
    {
     "data": {
      "text/html": [
       "<div>\n",
       "<style scoped>\n",
       "    .dataframe tbody tr th:only-of-type {\n",
       "        vertical-align: middle;\n",
       "    }\n",
       "\n",
       "    .dataframe tbody tr th {\n",
       "        vertical-align: top;\n",
       "    }\n",
       "\n",
       "    .dataframe thead th {\n",
       "        text-align: right;\n",
       "    }\n",
       "</style>\n",
       "<table border=\"1\" class=\"dataframe\">\n",
       "  <thead>\n",
       "    <tr style=\"text-align: right;\">\n",
       "      <th></th>\n",
       "      <th>Alter</th>\n",
       "      <th>Einkommen</th>\n",
       "      <th>Preis</th>\n",
       "      <th>Geschlecht</th>\n",
       "      <th>Zeit</th>\n",
       "      <th>KundeNr</th>\n",
       "      <th>Ausreißer</th>\n",
       "    </tr>\n",
       "  </thead>\n",
       "  <tbody>\n",
       "    <tr>\n",
       "      <th>142</th>\n",
       "      <td>100</td>\n",
       "      <td>88749.0</td>\n",
       "      <td>119134.23</td>\n",
       "      <td>0.0</td>\n",
       "      <td>64.0</td>\n",
       "      <td>K0494</td>\n",
       "      <td>True</td>\n",
       "    </tr>\n",
       "    <tr>\n",
       "      <th>711</th>\n",
       "      <td>120</td>\n",
       "      <td>61857.0</td>\n",
       "      <td>104214.07</td>\n",
       "      <td>1.0</td>\n",
       "      <td>52.0</td>\n",
       "      <td>K0039</td>\n",
       "      <td>True</td>\n",
       "    </tr>\n",
       "  </tbody>\n",
       "</table>\n",
       "</div>"
      ],
      "text/plain": [
       "     Alter  Einkommen      Preis  Geschlecht  Zeit KundeNr  Ausreißer\n",
       "142    100    88749.0  119134.23         0.0  64.0   K0494       True\n",
       "711    120    61857.0  104214.07         1.0  52.0   K0039       True"
      ]
     },
     "execution_count": 17,
     "metadata": {},
     "output_type": "execute_result"
    }
   ],
   "source": [
    "kunden.loc[kunden['Ausreißer'] == True]"
   ]
  },
  {
   "cell_type": "code",
   "execution_count": 18,
   "id": "c7fccb9c-604a-493b-a158-05cbb6fa9b21",
   "metadata": {},
   "outputs": [],
   "source": [
    "# Personen im Alter von 100 und 120 Jahren werden kein Auto mehr kaufen"
   ]
  },
  {
   "cell_type": "code",
   "execution_count": 19,
   "id": "8c56494b-9d00-43dd-a4a6-016fc3a1b581",
   "metadata": {},
   "outputs": [],
   "source": [
    "# Ersetzen der Ausreißer in der Alters-Spalte durch Medianwert\n",
    "alter_median = kunden['Alter'].median()\n",
    "kunden.replace([120, 100], alter_median, inplace=True)"
   ]
  },
  {
   "cell_type": "code",
   "execution_count": 20,
   "id": "847ba99c-589e-4419-bd7d-a775c36fdbb0",
   "metadata": {},
   "outputs": [
    {
     "data": {
      "text/plain": [
       "Ausreißer\n",
       "False    1104\n",
       "Name: count, dtype: int64"
      ]
     },
     "execution_count": 20,
     "metadata": {},
     "output_type": "execute_result"
    }
   ],
   "source": [
    "# Überprüfen ob noch Ausreißer vorhanden sind\n",
    "kunden['Ausreißer'] = (kunden['Alter'] < untere_grenze_Alter) | (kunden['Alter'] > obere_grenze_Alter)\n",
    "ausreißer_alter = kunden.Ausreißer.value_counts()\n",
    "ausreißer_alter"
   ]
  },
  {
   "cell_type": "code",
   "execution_count": 21,
   "id": "8a2eb429-37fa-4b82-953d-004dc34ccb0d",
   "metadata": {},
   "outputs": [],
   "source": [
    "# keine Ausreißer mehr vorhanden"
   ]
  },
  {
   "cell_type": "markdown",
   "id": "f6ed8f33-4fdc-4fae-acd0-85c09cf88baf",
   "metadata": {},
   "source": [
    "## 2.3.2.2 Einkommen "
   ]
  },
  {
   "cell_type": "code",
   "execution_count": 22,
   "id": "0cfec3d4",
   "metadata": {},
   "outputs": [
    {
     "data": {
      "image/png": "[encoded data removed]",
      "text/plain": [
       "<Figure size 640x480 with 1 Axes>"
      ]
     },
     "metadata": {},
     "output_type": "display_data"
    }
   ],
   "source": [
    "boxplot_einkommen = kunden.boxplot(column = 'Einkommen')\n",
    "plt.show()"
   ]
  },
  {
   "cell_type": "code",
   "execution_count": 23,
   "id": "0e47b07c-b6d2-4fb7-8cbd-d445bddf10ec",
   "metadata": {},
   "outputs": [],
   "source": [
    "# 4 Ausreißer (aufgrund der Skalierung schwer zu erkennen)"
   ]
  },
  {
   "cell_type": "code",
   "execution_count": 24,
   "id": "44411014-f36c-449e-8a87-ecc56796cf43",
   "metadata": {},
   "outputs": [
    {
     "data": {
      "text/plain": [
       "Ausreißer\n",
       "False    1100\n",
       "True        4\n",
       "Name: count, dtype: int64"
      ]
     },
     "execution_count": 24,
     "metadata": {},
     "output_type": "execute_result"
    }
   ],
   "source": [
    "# Berechnung von Q1, Q3 und IQR der Einkommens-Spalte\n",
    "Q1_einkommen = kunden['Einkommen'].quantile(0.25)\n",
    "Q3_einkommen = kunden['Einkommen'].quantile(0.75)\n",
    "IQR_einkommen = Q3_einkommen - Q1_einkommen\n",
    "IQR_einkommen\n",
    "untere_grenze_einkommen = Q1_einkommen - 1.5 * IQR_einkommen\n",
    "obere_grenze_einkommen = Q3_einkommen + 1.5 * IQR_einkommen\n",
    "kunden['Ausreißer'] = (kunden['Einkommen'] < untere_grenze_einkommen) | (kunden['Einkommen'] > obere_grenze_einkommen)\n",
    "ausreißer_einkommen = kunden.Ausreißer.value_counts()\n",
    "ausreißer_einkommen"
   ]
  },
  {
   "cell_type": "code",
   "execution_count": 25,
   "id": "fd5cbd2c-a93b-4a93-82e1-f014bdc99d82",
   "metadata": {},
   "outputs": [
    {
     "data": {
      "text/html": [
       "<div>\n",
       "<style scoped>\n",
       "    .dataframe tbody tr th:only-of-type {\n",
       "        vertical-align: middle;\n",
       "    }\n",
       "\n",
       "    .dataframe tbody tr th {\n",
       "        vertical-align: top;\n",
       "    }\n",
       "\n",
       "    .dataframe thead th {\n",
       "        text-align: right;\n",
       "    }\n",
       "</style>\n",
       "<table border=\"1\" class=\"dataframe\">\n",
       "  <thead>\n",
       "    <tr style=\"text-align: right;\">\n",
       "      <th></th>\n",
       "      <th>Alter</th>\n",
       "      <th>Einkommen</th>\n",
       "      <th>Preis</th>\n",
       "      <th>Geschlecht</th>\n",
       "      <th>Zeit</th>\n",
       "      <th>KundeNr</th>\n",
       "      <th>Ausreißer</th>\n",
       "    </tr>\n",
       "  </thead>\n",
       "  <tbody>\n",
       "    <tr>\n",
       "      <th>408</th>\n",
       "      <td>68</td>\n",
       "      <td>1.000000e+09</td>\n",
       "      <td>87209.72</td>\n",
       "      <td>0.0</td>\n",
       "      <td>52.0</td>\n",
       "      <td>K0701</td>\n",
       "      <td>True</td>\n",
       "    </tr>\n",
       "    <tr>\n",
       "      <th>834</th>\n",
       "      <td>68</td>\n",
       "      <td>1.076890e+05</td>\n",
       "      <td>165482.31</td>\n",
       "      <td>1.0</td>\n",
       "      <td>60.0</td>\n",
       "      <td>K0415</td>\n",
       "      <td>True</td>\n",
       "    </tr>\n",
       "    <tr>\n",
       "      <th>966</th>\n",
       "      <td>69</td>\n",
       "      <td>0.000000e+00</td>\n",
       "      <td>125140.05</td>\n",
       "      <td>1.0</td>\n",
       "      <td>65.0</td>\n",
       "      <td>K1021</td>\n",
       "      <td>True</td>\n",
       "    </tr>\n",
       "    <tr>\n",
       "      <th>1082</th>\n",
       "      <td>59</td>\n",
       "      <td>-6.284037e+04</td>\n",
       "      <td>92837.59</td>\n",
       "      <td>0.0</td>\n",
       "      <td>46.0</td>\n",
       "      <td>K1083</td>\n",
       "      <td>True</td>\n",
       "    </tr>\n",
       "  </tbody>\n",
       "</table>\n",
       "</div>"
      ],
      "text/plain": [
       "      Alter     Einkommen      Preis  Geschlecht  Zeit KundeNr  Ausreißer\n",
       "408      68  1.000000e+09   87209.72         0.0  52.0   K0701       True\n",
       "834      68  1.076890e+05  165482.31         1.0  60.0   K0415       True\n",
       "966      69  0.000000e+00  125140.05         1.0  65.0   K1021       True\n",
       "1082     59 -6.284037e+04   92837.59         0.0  46.0   K1083       True"
      ]
     },
     "execution_count": 25,
     "metadata": {},
     "output_type": "execute_result"
    }
   ],
   "source": [
    "# Ermitteln der genauen Werte der Ausreißer\n",
    "kunden.loc[kunden['Ausreißer'] == True]"
   ]
  },
  {
   "cell_type": "code",
   "execution_count": 26,
   "id": "1ed00e1b-cdd4-4330-95d8-0735de9a6369",
   "metadata": {},
   "outputs": [],
   "source": [
    "# Ersetzen der Ausreißer in der Einkommens-Spalte durch Medianwert\n",
    "einkommen_median = kunden['Einkommen'].median()\n",
    "kunden.replace({'Einkommen': [1.000000e+09, 1.076890e+05, 0.000000e+00, -62840.374523]}, einkommen_median, inplace=True)"
   ]
  },
  {
   "cell_type": "code",
   "execution_count": 27,
   "id": "d50a1586-2c17-45d9-b780-8be7fa7081ee",
   "metadata": {},
   "outputs": [
    {
     "data": {
      "text/plain": [
       "Ausreißer\n",
       "False    1104\n",
       "Name: count, dtype: int64"
      ]
     },
     "execution_count": 27,
     "metadata": {},
     "output_type": "execute_result"
    }
   ],
   "source": [
    "# Überprüfen ob noch Ausreißer vorhanden sind\n",
    "kunden['Ausreißer'] = (kunden['Einkommen'] < untere_grenze_einkommen) | (kunden['Einkommen'] > obere_grenze_einkommen)\n",
    "ausreißer_einkommen = kunden.Ausreißer.value_counts()\n",
    "ausreißer_einkommen"
   ]
  },
  {
   "cell_type": "code",
   "execution_count": 28,
   "id": "4da5fe78-4a32-4387-8a29-4c9d3b8144d9",
   "metadata": {},
   "outputs": [],
   "source": [
    "# keine Ausreißer mehr vorhanden"
   ]
  },
  {
   "cell_type": "markdown",
   "id": "9894d36d-9c58-4ec2-89a3-aa82dbda8c5d",
   "metadata": {},
   "source": [
    "### 2.3.2.3 Preis"
   ]
  },
  {
   "cell_type": "code",
   "execution_count": 29,
   "id": "b6b5af6c",
   "metadata": {},
   "outputs": [
    {
     "data": {
      "image/png": "[encoded data removed]",
      "text/plain": [
       "<Figure size 640x480 with 1 Axes>"
      ]
     },
     "metadata": {},
     "output_type": "display_data"
    }
   ],
   "source": [
    "boxplot_preis = kunden.boxplot(column = 'Preis')\n",
    "plt.show()"
   ]
  },
  {
   "cell_type": "code",
   "execution_count": 30,
   "id": "200399fa-2f9d-4913-84b9-da295cf3e215",
   "metadata": {},
   "outputs": [],
   "source": [
    "# ein Ausreißer zu erkennen"
   ]
  },
  {
   "cell_type": "code",
   "execution_count": 31,
   "id": "3364ad26-e096-464b-8568-5a7f30087a86",
   "metadata": {},
   "outputs": [
    {
     "data": {
      "text/plain": [
       "Ausreißer\n",
       "False    1103\n",
       "True        1\n",
       "Name: count, dtype: int64"
      ]
     },
     "execution_count": 31,
     "metadata": {},
     "output_type": "execute_result"
    }
   ],
   "source": [
    "Q1_preis = kunden['Preis'].quantile(0.25)\n",
    "Q3_preis = kunden['Preis'].quantile(0.75)\n",
    "IQR_preis = Q3_preis - Q1_preis\n",
    "IQR_preis\n",
    "untere_grenze_preis = Q1_preis - 1.5 * IQR_preis\n",
    "obere_grenze_preis = Q3_preis + 1.5 * IQR_preis\n",
    "kunden['Ausreißer'] = (kunden['Preis'] < untere_grenze_preis) | (kunden['Preis'] > obere_grenze_preis)\n",
    "ausreißer_preis = kunden.Ausreißer.value_counts()\n",
    "ausreißer_preis"
   ]
  },
  {
   "cell_type": "code",
   "execution_count": 32,
   "id": "c1b8f91f-954a-4c43-837d-53ed898ccb35",
   "metadata": {},
   "outputs": [
    {
     "data": {
      "text/html": [
       "<div>\n",
       "<style scoped>\n",
       "    .dataframe tbody tr th:only-of-type {\n",
       "        vertical-align: middle;\n",
       "    }\n",
       "\n",
       "    .dataframe tbody tr th {\n",
       "        vertical-align: top;\n",
       "    }\n",
       "\n",
       "    .dataframe thead th {\n",
       "        text-align: right;\n",
       "    }\n",
       "</style>\n",
       "<table border=\"1\" class=\"dataframe\">\n",
       "  <thead>\n",
       "    <tr style=\"text-align: right;\">\n",
       "      <th></th>\n",
       "      <th>Alter</th>\n",
       "      <th>Einkommen</th>\n",
       "      <th>Preis</th>\n",
       "      <th>Geschlecht</th>\n",
       "      <th>Zeit</th>\n",
       "      <th>KundeNr</th>\n",
       "      <th>Ausreißer</th>\n",
       "    </tr>\n",
       "  </thead>\n",
       "  <tbody>\n",
       "    <tr>\n",
       "      <th>834</th>\n",
       "      <td>68</td>\n",
       "      <td>59013.0</td>\n",
       "      <td>165482.31</td>\n",
       "      <td>1.0</td>\n",
       "      <td>60.0</td>\n",
       "      <td>K0415</td>\n",
       "      <td>True</td>\n",
       "    </tr>\n",
       "  </tbody>\n",
       "</table>\n",
       "</div>"
      ],
      "text/plain": [
       "     Alter  Einkommen      Preis  Geschlecht  Zeit KundeNr  Ausreißer\n",
       "834     68    59013.0  165482.31         1.0  60.0   K0415       True"
      ]
     },
     "execution_count": 32,
     "metadata": {},
     "output_type": "execute_result"
    }
   ],
   "source": [
    "# Ermitteln der genauen Werte der Ausreißer\n",
    "kunden.loc[kunden['Ausreißer'] == True]"
   ]
  },
  {
   "cell_type": "code",
   "execution_count": 33,
   "id": "1ae4b8c2-5fea-4cbe-aa0c-76bd554c13f1",
   "metadata": {},
   "outputs": [],
   "source": [
    "# bei einem Einkommen von 59.013 ist es überraschend sich ein Auto im Preis von 165.482,31 zu kaufen, aber möglich, daher wird der Wert behalten\n"
   ]
  },
  {
   "cell_type": "markdown",
   "id": "9811adce",
   "metadata": {},
   "source": [
    "### 2.3.2.4 Zeit"
   ]
  },
  {
   "cell_type": "code",
   "execution_count": 34,
   "id": "1b839bcc-3072-4950-9d2f-49d271671c40",
   "metadata": {},
   "outputs": [
    {
     "data": {
      "image/png": "[encoded data removed]",
      "text/plain": [
       "<Figure size 640x480 with 1 Axes>"
      ]
     },
     "metadata": {},
     "output_type": "display_data"
    }
   ],
   "source": [
    "boxplot_preis = kunden.boxplot(column = 'Zeit')\n",
    "plt.show()"
   ]
  },
  {
   "cell_type": "code",
   "execution_count": 35,
   "id": "fecd704e-a27e-44d0-83cf-0a8a32ff1aab",
   "metadata": {},
   "outputs": [],
   "source": [
    "# mehrere Ausreißer zu erkennen"
   ]
  },
  {
   "cell_type": "code",
   "execution_count": 36,
   "id": "18f08f32",
   "metadata": {},
   "outputs": [
    {
     "data": {
      "text/plain": [
       "Ausreißer\n",
       "False    1098\n",
       "True        6\n",
       "Name: count, dtype: int64"
      ]
     },
     "execution_count": 36,
     "metadata": {},
     "output_type": "execute_result"
    }
   ],
   "source": [
    "# Berechnung von Q1, Q3 und IQR der Zeit-Spalte\n",
    "Q1_zeit = kunden['Zeit'].quantile(0.25)\n",
    "Q3_zeit = kunden['Zeit'].quantile(0.75)\n",
    "IQR_zeit = Q3_zeit - Q1_zeit\n",
    "IQR_zeit\n",
    "untere_grenze_zeit = Q1_zeit - 1.5 * IQR_zeit\n",
    "obere_grenze_zeit = Q3_zeit + 1.5 * IQR_zeit\n",
    "kunden['Ausreißer'] = (kunden['Zeit'] < untere_grenze_zeit) | (kunden['Zeit'] > obere_grenze_zeit)\n",
    "ausreißer_zeit = kunden.Ausreißer.value_counts()\n",
    "ausreißer_zeit"
   ]
  },
  {
   "cell_type": "code",
   "execution_count": 37,
   "id": "2e63e8d9",
   "metadata": {},
   "outputs": [
    {
     "data": {
      "text/html": [
       "<div>\n",
       "<style scoped>\n",
       "    .dataframe tbody tr th:only-of-type {\n",
       "        vertical-align: middle;\n",
       "    }\n",
       "\n",
       "    .dataframe tbody tr th {\n",
       "        vertical-align: top;\n",
       "    }\n",
       "\n",
       "    .dataframe thead th {\n",
       "        text-align: right;\n",
       "    }\n",
       "</style>\n",
       "<table border=\"1\" class=\"dataframe\">\n",
       "  <thead>\n",
       "    <tr style=\"text-align: right;\">\n",
       "      <th></th>\n",
       "      <th>Alter</th>\n",
       "      <th>Einkommen</th>\n",
       "      <th>Preis</th>\n",
       "      <th>Geschlecht</th>\n",
       "      <th>Zeit</th>\n",
       "      <th>KundeNr</th>\n",
       "      <th>Ausreißer</th>\n",
       "    </tr>\n",
       "  </thead>\n",
       "  <tbody>\n",
       "    <tr>\n",
       "      <th>218</th>\n",
       "      <td>33</td>\n",
       "      <td>38675.0</td>\n",
       "      <td>56493.40</td>\n",
       "      <td>1.0</td>\n",
       "      <td>13.0</td>\n",
       "      <td>K0983</td>\n",
       "      <td>True</td>\n",
       "    </tr>\n",
       "    <tr>\n",
       "      <th>313</th>\n",
       "      <td>62</td>\n",
       "      <td>96569.0</td>\n",
       "      <td>140745.65</td>\n",
       "      <td>0.0</td>\n",
       "      <td>80.0</td>\n",
       "      <td>K0249</td>\n",
       "      <td>True</td>\n",
       "    </tr>\n",
       "    <tr>\n",
       "      <th>327</th>\n",
       "      <td>34</td>\n",
       "      <td>24811.0</td>\n",
       "      <td>57541.73</td>\n",
       "      <td>1.0</td>\n",
       "      <td>12.0</td>\n",
       "      <td>K0395</td>\n",
       "      <td>True</td>\n",
       "    </tr>\n",
       "    <tr>\n",
       "      <th>542</th>\n",
       "      <td>67</td>\n",
       "      <td>89170.0</td>\n",
       "      <td>123408.48</td>\n",
       "      <td>1.0</td>\n",
       "      <td>76.0</td>\n",
       "      <td>K1093</td>\n",
       "      <td>True</td>\n",
       "    </tr>\n",
       "    <tr>\n",
       "      <th>553</th>\n",
       "      <td>38</td>\n",
       "      <td>33666.0</td>\n",
       "      <td>50494.07</td>\n",
       "      <td>1.0</td>\n",
       "      <td>13.0</td>\n",
       "      <td>K0384</td>\n",
       "      <td>True</td>\n",
       "    </tr>\n",
       "    <tr>\n",
       "      <th>805</th>\n",
       "      <td>64</td>\n",
       "      <td>91409.0</td>\n",
       "      <td>140161.07</td>\n",
       "      <td>1.0</td>\n",
       "      <td>76.0</td>\n",
       "      <td>K0897</td>\n",
       "      <td>True</td>\n",
       "    </tr>\n",
       "  </tbody>\n",
       "</table>\n",
       "</div>"
      ],
      "text/plain": [
       "     Alter  Einkommen      Preis  Geschlecht  Zeit KundeNr  Ausreißer\n",
       "218     33    38675.0   56493.40         1.0  13.0   K0983       True\n",
       "313     62    96569.0  140745.65         0.0  80.0   K0249       True\n",
       "327     34    24811.0   57541.73         1.0  12.0   K0395       True\n",
       "542     67    89170.0  123408.48         1.0  76.0   K1093       True\n",
       "553     38    33666.0   50494.07         1.0  13.0   K0384       True\n",
       "805     64    91409.0  140161.07         1.0  76.0   K0897       True"
      ]
     },
     "execution_count": 37,
     "metadata": {},
     "output_type": "execute_result"
    }
   ],
   "source": [
    "# Ermittlung der genauen Werte der Ausreißer\n",
    "kunden.loc[kunden['Ausreißer'] == True]"
   ]
  },
  {
   "cell_type": "code",
   "execution_count": 38,
   "id": "30c658a9-67f0-4ef4-b6d6-1be025559ab0",
   "metadata": {},
   "outputs": [],
   "source": [
    "# Die Zeiten sind möglich, z.B. 12 Minuten weil keine Probefahrt gemacht wurde oder 80 Minuten weil eine lange gemacht wurde, Werte bleiben erhalten"
   ]
  },
  {
   "cell_type": "code",
   "execution_count": 39,
   "id": "ba356621-0127-4ec9-b073-11219a996223",
   "metadata": {},
   "outputs": [
    {
     "data": {
      "text/html": [
       "<div>\n",
       "<style scoped>\n",
       "    .dataframe tbody tr th:only-of-type {\n",
       "        vertical-align: middle;\n",
       "    }\n",
       "\n",
       "    .dataframe tbody tr th {\n",
       "        vertical-align: top;\n",
       "    }\n",
       "\n",
       "    .dataframe thead th {\n",
       "        text-align: right;\n",
       "    }\n",
       "</style>\n",
       "<table border=\"1\" class=\"dataframe\">\n",
       "  <thead>\n",
       "    <tr style=\"text-align: right;\">\n",
       "      <th></th>\n",
       "      <th>Alter</th>\n",
       "      <th>Einkommen</th>\n",
       "      <th>Preis</th>\n",
       "      <th>Geschlecht</th>\n",
       "      <th>Zeit</th>\n",
       "      <th>KundeNr</th>\n",
       "      <th>Ausreißer</th>\n",
       "    </tr>\n",
       "  </thead>\n",
       "  <tbody>\n",
       "    <tr>\n",
       "      <th>0</th>\n",
       "      <td>64</td>\n",
       "      <td>66894.0</td>\n",
       "      <td>88160.31</td>\n",
       "      <td>1.0</td>\n",
       "      <td>43.0</td>\n",
       "      <td>K0310</td>\n",
       "      <td>False</td>\n",
       "    </tr>\n",
       "    <tr>\n",
       "      <th>1</th>\n",
       "      <td>54</td>\n",
       "      <td>77644.0</td>\n",
       "      <td>103145.70</td>\n",
       "      <td>1.0</td>\n",
       "      <td>40.0</td>\n",
       "      <td>K1042</td>\n",
       "      <td>False</td>\n",
       "    </tr>\n",
       "    <tr>\n",
       "      <th>2</th>\n",
       "      <td>55</td>\n",
       "      <td>44341.0</td>\n",
       "      <td>80565.16</td>\n",
       "      <td>0.0</td>\n",
       "      <td>37.0</td>\n",
       "      <td>K0382</td>\n",
       "      <td>False</td>\n",
       "    </tr>\n",
       "    <tr>\n",
       "      <th>3</th>\n",
       "      <td>49</td>\n",
       "      <td>67271.0</td>\n",
       "      <td>83949.89</td>\n",
       "      <td>0.0</td>\n",
       "      <td>42.0</td>\n",
       "      <td>K0498</td>\n",
       "      <td>False</td>\n",
       "    </tr>\n",
       "    <tr>\n",
       "      <th>4</th>\n",
       "      <td>46</td>\n",
       "      <td>49832.0</td>\n",
       "      <td>93781.58</td>\n",
       "      <td>0.0</td>\n",
       "      <td>41.0</td>\n",
       "      <td>K0552</td>\n",
       "      <td>False</td>\n",
       "    </tr>\n",
       "    <tr>\n",
       "      <th>...</th>\n",
       "      <td>...</td>\n",
       "      <td>...</td>\n",
       "      <td>...</td>\n",
       "      <td>...</td>\n",
       "      <td>...</td>\n",
       "      <td>...</td>\n",
       "      <td>...</td>\n",
       "    </tr>\n",
       "    <tr>\n",
       "      <th>1099</th>\n",
       "      <td>70</td>\n",
       "      <td>69581.0</td>\n",
       "      <td>103751.58</td>\n",
       "      <td>1.0</td>\n",
       "      <td>51.0</td>\n",
       "      <td>K0467</td>\n",
       "      <td>False</td>\n",
       "    </tr>\n",
       "    <tr>\n",
       "      <th>1100</th>\n",
       "      <td>38</td>\n",
       "      <td>48301.0</td>\n",
       "      <td>64230.98</td>\n",
       "      <td>1.0</td>\n",
       "      <td>33.0</td>\n",
       "      <td>K0122</td>\n",
       "      <td>False</td>\n",
       "    </tr>\n",
       "    <tr>\n",
       "      <th>1101</th>\n",
       "      <td>67</td>\n",
       "      <td>63547.0</td>\n",
       "      <td>103123.57</td>\n",
       "      <td>1.0</td>\n",
       "      <td>41.0</td>\n",
       "      <td>K1045</td>\n",
       "      <td>False</td>\n",
       "    </tr>\n",
       "    <tr>\n",
       "      <th>1102</th>\n",
       "      <td>37</td>\n",
       "      <td>32686.0</td>\n",
       "      <td>49215.87</td>\n",
       "      <td>1.0</td>\n",
       "      <td>36.0</td>\n",
       "      <td>K1096</td>\n",
       "      <td>False</td>\n",
       "    </tr>\n",
       "    <tr>\n",
       "      <th>1103</th>\n",
       "      <td>55</td>\n",
       "      <td>71240.0</td>\n",
       "      <td>106132.59</td>\n",
       "      <td>1.0</td>\n",
       "      <td>49.0</td>\n",
       "      <td>K0861</td>\n",
       "      <td>False</td>\n",
       "    </tr>\n",
       "  </tbody>\n",
       "</table>\n",
       "<p>1104 rows × 7 columns</p>\n",
       "</div>"
      ],
      "text/plain": [
       "      Alter  Einkommen      Preis  Geschlecht  Zeit KundeNr  Ausreißer\n",
       "0        64    66894.0   88160.31         1.0  43.0   K0310      False\n",
       "1        54    77644.0  103145.70         1.0  40.0   K1042      False\n",
       "2        55    44341.0   80565.16         0.0  37.0   K0382      False\n",
       "3        49    67271.0   83949.89         0.0  42.0   K0498      False\n",
       "4        46    49832.0   93781.58         0.0  41.0   K0552      False\n",
       "...     ...        ...        ...         ...   ...     ...        ...\n",
       "1099     70    69581.0  103751.58         1.0  51.0   K0467      False\n",
       "1100     38    48301.0   64230.98         1.0  33.0   K0122      False\n",
       "1101     67    63547.0  103123.57         1.0  41.0   K1045      False\n",
       "1102     37    32686.0   49215.87         1.0  36.0   K1096      False\n",
       "1103     55    71240.0  106132.59         1.0  49.0   K0861      False\n",
       "\n",
       "[1104 rows x 7 columns]"
      ]
     },
     "execution_count": 39,
     "metadata": {},
     "output_type": "execute_result"
    }
   ],
   "source": [
    "kunden"
   ]
  },
  {
   "cell_type": "code",
   "execution_count": 40,
   "id": "8c444290",
   "metadata": {},
   "outputs": [
    {
     "data": {
      "text/html": [
       "<div>\n",
       "<style scoped>\n",
       "    .dataframe tbody tr th:only-of-type {\n",
       "        vertical-align: middle;\n",
       "    }\n",
       "\n",
       "    .dataframe tbody tr th {\n",
       "        vertical-align: top;\n",
       "    }\n",
       "\n",
       "    .dataframe thead th {\n",
       "        text-align: right;\n",
       "    }\n",
       "</style>\n",
       "<table border=\"1\" class=\"dataframe\">\n",
       "  <thead>\n",
       "    <tr style=\"text-align: right;\">\n",
       "      <th></th>\n",
       "      <th>Alter</th>\n",
       "      <th>Einkommen</th>\n",
       "      <th>Preis</th>\n",
       "      <th>Geschlecht</th>\n",
       "      <th>Zeit</th>\n",
       "      <th>KundeNr</th>\n",
       "    </tr>\n",
       "  </thead>\n",
       "  <tbody>\n",
       "    <tr>\n",
       "      <th>0</th>\n",
       "      <td>64</td>\n",
       "      <td>66894.0</td>\n",
       "      <td>88160.31</td>\n",
       "      <td>1.0</td>\n",
       "      <td>43.0</td>\n",
       "      <td>K0310</td>\n",
       "    </tr>\n",
       "    <tr>\n",
       "      <th>1</th>\n",
       "      <td>54</td>\n",
       "      <td>77644.0</td>\n",
       "      <td>103145.70</td>\n",
       "      <td>1.0</td>\n",
       "      <td>40.0</td>\n",
       "      <td>K1042</td>\n",
       "    </tr>\n",
       "    <tr>\n",
       "      <th>2</th>\n",
       "      <td>55</td>\n",
       "      <td>44341.0</td>\n",
       "      <td>80565.16</td>\n",
       "      <td>0.0</td>\n",
       "      <td>37.0</td>\n",
       "      <td>K0382</td>\n",
       "    </tr>\n",
       "    <tr>\n",
       "      <th>3</th>\n",
       "      <td>49</td>\n",
       "      <td>67271.0</td>\n",
       "      <td>83949.89</td>\n",
       "      <td>0.0</td>\n",
       "      <td>42.0</td>\n",
       "      <td>K0498</td>\n",
       "    </tr>\n",
       "    <tr>\n",
       "      <th>4</th>\n",
       "      <td>46</td>\n",
       "      <td>49832.0</td>\n",
       "      <td>93781.58</td>\n",
       "      <td>0.0</td>\n",
       "      <td>41.0</td>\n",
       "      <td>K0552</td>\n",
       "    </tr>\n",
       "    <tr>\n",
       "      <th>...</th>\n",
       "      <td>...</td>\n",
       "      <td>...</td>\n",
       "      <td>...</td>\n",
       "      <td>...</td>\n",
       "      <td>...</td>\n",
       "      <td>...</td>\n",
       "    </tr>\n",
       "    <tr>\n",
       "      <th>1099</th>\n",
       "      <td>70</td>\n",
       "      <td>69581.0</td>\n",
       "      <td>103751.58</td>\n",
       "      <td>1.0</td>\n",
       "      <td>51.0</td>\n",
       "      <td>K0467</td>\n",
       "    </tr>\n",
       "    <tr>\n",
       "      <th>1100</th>\n",
       "      <td>38</td>\n",
       "      <td>48301.0</td>\n",
       "      <td>64230.98</td>\n",
       "      <td>1.0</td>\n",
       "      <td>33.0</td>\n",
       "      <td>K0122</td>\n",
       "    </tr>\n",
       "    <tr>\n",
       "      <th>1101</th>\n",
       "      <td>67</td>\n",
       "      <td>63547.0</td>\n",
       "      <td>103123.57</td>\n",
       "      <td>1.0</td>\n",
       "      <td>41.0</td>\n",
       "      <td>K1045</td>\n",
       "    </tr>\n",
       "    <tr>\n",
       "      <th>1102</th>\n",
       "      <td>37</td>\n",
       "      <td>32686.0</td>\n",
       "      <td>49215.87</td>\n",
       "      <td>1.0</td>\n",
       "      <td>36.0</td>\n",
       "      <td>K1096</td>\n",
       "    </tr>\n",
       "    <tr>\n",
       "      <th>1103</th>\n",
       "      <td>55</td>\n",
       "      <td>71240.0</td>\n",
       "      <td>106132.59</td>\n",
       "      <td>1.0</td>\n",
       "      <td>49.0</td>\n",
       "      <td>K0861</td>\n",
       "    </tr>\n",
       "  </tbody>\n",
       "</table>\n",
       "<p>1104 rows × 6 columns</p>\n",
       "</div>"
      ],
      "text/plain": [
       "      Alter  Einkommen      Preis  Geschlecht  Zeit KundeNr\n",
       "0        64    66894.0   88160.31         1.0  43.0   K0310\n",
       "1        54    77644.0  103145.70         1.0  40.0   K1042\n",
       "2        55    44341.0   80565.16         0.0  37.0   K0382\n",
       "3        49    67271.0   83949.89         0.0  42.0   K0498\n",
       "4        46    49832.0   93781.58         0.0  41.0   K0552\n",
       "...     ...        ...        ...         ...   ...     ...\n",
       "1099     70    69581.0  103751.58         1.0  51.0   K0467\n",
       "1100     38    48301.0   64230.98         1.0  33.0   K0122\n",
       "1101     67    63547.0  103123.57         1.0  41.0   K1045\n",
       "1102     37    32686.0   49215.87         1.0  36.0   K1096\n",
       "1103     55    71240.0  106132.59         1.0  49.0   K0861\n",
       "\n",
       "[1104 rows x 6 columns]"
      ]
     },
     "execution_count": 40,
     "metadata": {},
     "output_type": "execute_result"
    }
   ],
   "source": [
    "# Boolean-Spalte wieder entfernen\n",
    "kunden = kunden.drop(kunden.columns[-1], axis=1)\n",
    "kunden"
   ]
  },
  {
   "cell_type": "markdown",
   "id": "8e25bed9-a53d-4bdc-97b9-07a576355e97",
   "metadata": {},
   "source": [
    "## 3. Besucherdaten"
   ]
  },
  {
   "cell_type": "markdown",
   "id": "8d2f50a4-b8d0-4b6e-8994-76abdfdc4253",
   "metadata": {},
   "source": [
    "### 3.1 Besucherdatei einlesen"
   ]
  },
  {
   "cell_type": "code",
   "execution_count": 41,
   "id": "09fd1f7c-1849-44b9-bc35-4fcfc760f3fe",
   "metadata": {},
   "outputs": [
    {
     "data": {
      "text/html": [
       "<div>\n",
       "<style scoped>\n",
       "    .dataframe tbody tr th:only-of-type {\n",
       "        vertical-align: middle;\n",
       "    }\n",
       "\n",
       "    .dataframe tbody tr th {\n",
       "        vertical-align: top;\n",
       "    }\n",
       "\n",
       "    .dataframe thead th {\n",
       "        text-align: right;\n",
       "    }\n",
       "</style>\n",
       "<table border=\"1\" class=\"dataframe\">\n",
       "  <thead>\n",
       "    <tr style=\"text-align: right;\">\n",
       "      <th></th>\n",
       "      <th>Alter</th>\n",
       "      <th>Einkommen</th>\n",
       "      <th>Geschlecht</th>\n",
       "      <th>Zeit</th>\n",
       "      <th>KundeNr</th>\n",
       "    </tr>\n",
       "  </thead>\n",
       "  <tbody>\n",
       "    <tr>\n",
       "      <th>0</th>\n",
       "      <td>30</td>\n",
       "      <td>39919,0953348874</td>\n",
       "      <td>0</td>\n",
       "      <td>29,0</td>\n",
       "      <td>K1814</td>\n",
       "    </tr>\n",
       "    <tr>\n",
       "      <th>1</th>\n",
       "      <td>41</td>\n",
       "      <td>53430,67308587748</td>\n",
       "      <td>0</td>\n",
       "      <td>27,0</td>\n",
       "      <td>K1544</td>\n",
       "    </tr>\n",
       "    <tr>\n",
       "      <th>2</th>\n",
       "      <td>64</td>\n",
       "      <td>73163,2169267002</td>\n",
       "      <td>0</td>\n",
       "      <td>32,0</td>\n",
       "      <td>K1945</td>\n",
       "    </tr>\n",
       "    <tr>\n",
       "      <th>3</th>\n",
       "      <td>41</td>\n",
       "      <td>36761,482581315344</td>\n",
       "      <td>0</td>\n",
       "      <td>44,0</td>\n",
       "      <td>K1825</td>\n",
       "    </tr>\n",
       "    <tr>\n",
       "      <th>4</th>\n",
       "      <td>35</td>\n",
       "      <td>42684,33163178136</td>\n",
       "      <td>1</td>\n",
       "      <td>33,0</td>\n",
       "      <td>K1144</td>\n",
       "    </tr>\n",
       "  </tbody>\n",
       "</table>\n",
       "</div>"
      ],
      "text/plain": [
       "   Alter           Einkommen  Geschlecht  Zeit KundeNr\n",
       "0     30    39919,0953348874           0  29,0   K1814\n",
       "1     41   53430,67308587748           0  27,0   K1544\n",
       "2     64    73163,2169267002           0  32,0   K1945\n",
       "3     41  36761,482581315344           0  44,0   K1825\n",
       "4     35   42684,33163178136           1  33,0   K1144"
      ]
     },
     "execution_count": 41,
     "metadata": {},
     "output_type": "execute_result"
    }
   ],
   "source": [
    "besucher = pd.read_csv(\"besucher.csv\", decimal = '.', sep = \";\")\n",
    "besucher.head()"
   ]
  },
  {
   "cell_type": "markdown",
   "id": "952b4a01-a628-4ff6-bdb9-1de8fb234ca9",
   "metadata": {},
   "source": [
    "### 3.2 Überblick über Datentypen"
   ]
  },
  {
   "cell_type": "code",
   "execution_count": 42,
   "id": "9f45ee44-4546-49a5-8d16-01ba6e724738",
   "metadata": {},
   "outputs": [
    {
     "data": {
      "text/plain": [
       "Alter          int64\n",
       "Einkommen     object\n",
       "Geschlecht     int64\n",
       "Zeit          object\n",
       "KundeNr       object\n",
       "dtype: object"
      ]
     },
     "execution_count": 42,
     "metadata": {},
     "output_type": "execute_result"
    }
   ],
   "source": [
    "besucher.dtypes"
   ]
  },
  {
   "cell_type": "code",
   "execution_count": 43,
   "id": "151e9427-7596-4386-b3d8-cc9e64e043f6",
   "metadata": {},
   "outputs": [
    {
     "data": {
      "text/plain": [
       "Alter           int64\n",
       "Einkommen     float64\n",
       "Preis         float64\n",
       "Geschlecht    float64\n",
       "Zeit          float64\n",
       "KundeNr        object\n",
       "dtype: object"
      ]
     },
     "execution_count": 43,
     "metadata": {},
     "output_type": "execute_result"
    }
   ],
   "source": [
    "# zum Vergleich: Kunden\n",
    "kunden.dtypes"
   ]
  },
  {
   "cell_type": "code",
   "execution_count": 44,
   "id": "f8bcdd25-690d-423b-accc-f2d718a3546e",
   "metadata": {},
   "outputs": [],
   "source": [
    "# Alter = int, Einkommen = float (ändern bei besucher), Preis = float, Geschlecht = int (ändern bei kunden), Zeit = float (ändern bei besucher), KundeNr = object"
   ]
  },
  {
   "cell_type": "markdown",
   "id": "175b6b36-c3f8-4c85-a428-851a35d57c10",
   "metadata": {},
   "source": [
    "### 3.3. Bereinigung"
   ]
  },
  {
   "cell_type": "code",
   "execution_count": 45,
   "id": "03535ce2-f6bd-4636-be9e-3a5a74b9c24b",
   "metadata": {},
   "outputs": [],
   "source": [
    "# vermutlich ist die Kommaschreibweise aus dem deutschen, während wir die Werte in der englischen Schreibweise mit einem Punkt, statt Komma benötigen"
   ]
  },
  {
   "cell_type": "markdown",
   "id": "57d54a97-146f-44dc-9a1e-ccf0ec25ca63",
   "metadata": {},
   "source": [
    "### 3.3.1 Bereinigung der Nachkommastellen und Umwandlung der dtypes"
   ]
  },
  {
   "cell_type": "markdown",
   "id": "dfc4734e-3852-4438-be97-a513dac153bf",
   "metadata": {},
   "source": [
    "### 3.3.1.1 Einkommen"
   ]
  },
  {
   "cell_type": "code",
   "execution_count": 46,
   "id": "9c198db0-8c5e-4407-9fbb-7c03abcb7fc4",
   "metadata": {},
   "outputs": [
    {
     "data": {
      "text/html": [
       "<div>\n",
       "<style scoped>\n",
       "    .dataframe tbody tr th:only-of-type {\n",
       "        vertical-align: middle;\n",
       "    }\n",
       "\n",
       "    .dataframe tbody tr th {\n",
       "        vertical-align: top;\n",
       "    }\n",
       "\n",
       "    .dataframe thead th {\n",
       "        text-align: right;\n",
       "    }\n",
       "</style>\n",
       "<table border=\"1\" class=\"dataframe\">\n",
       "  <thead>\n",
       "    <tr style=\"text-align: right;\">\n",
       "      <th></th>\n",
       "      <th>Alter</th>\n",
       "      <th>Einkommen</th>\n",
       "      <th>Geschlecht</th>\n",
       "      <th>Zeit</th>\n",
       "      <th>KundeNr</th>\n",
       "    </tr>\n",
       "  </thead>\n",
       "  <tbody>\n",
       "    <tr>\n",
       "      <th>0</th>\n",
       "      <td>30</td>\n",
       "      <td>39919.0</td>\n",
       "      <td>0</td>\n",
       "      <td>29,0</td>\n",
       "      <td>K1814</td>\n",
       "    </tr>\n",
       "    <tr>\n",
       "      <th>1</th>\n",
       "      <td>41</td>\n",
       "      <td>53431.0</td>\n",
       "      <td>0</td>\n",
       "      <td>27,0</td>\n",
       "      <td>K1544</td>\n",
       "    </tr>\n",
       "    <tr>\n",
       "      <th>2</th>\n",
       "      <td>64</td>\n",
       "      <td>73163.0</td>\n",
       "      <td>0</td>\n",
       "      <td>32,0</td>\n",
       "      <td>K1945</td>\n",
       "    </tr>\n",
       "    <tr>\n",
       "      <th>3</th>\n",
       "      <td>41</td>\n",
       "      <td>36761.0</td>\n",
       "      <td>0</td>\n",
       "      <td>44,0</td>\n",
       "      <td>K1825</td>\n",
       "    </tr>\n",
       "    <tr>\n",
       "      <th>4</th>\n",
       "      <td>35</td>\n",
       "      <td>42684.0</td>\n",
       "      <td>1</td>\n",
       "      <td>33,0</td>\n",
       "      <td>K1144</td>\n",
       "    </tr>\n",
       "    <tr>\n",
       "      <th>...</th>\n",
       "      <td>...</td>\n",
       "      <td>...</td>\n",
       "      <td>...</td>\n",
       "      <td>...</td>\n",
       "      <td>...</td>\n",
       "    </tr>\n",
       "    <tr>\n",
       "      <th>886</th>\n",
       "      <td>32</td>\n",
       "      <td>34392.0</td>\n",
       "      <td>1</td>\n",
       "      <td>48,0</td>\n",
       "      <td>K1211</td>\n",
       "    </tr>\n",
       "    <tr>\n",
       "      <th>887</th>\n",
       "      <td>41</td>\n",
       "      <td>68516.0</td>\n",
       "      <td>0</td>\n",
       "      <td>34,0</td>\n",
       "      <td>K1375</td>\n",
       "    </tr>\n",
       "    <tr>\n",
       "      <th>888</th>\n",
       "      <td>65</td>\n",
       "      <td>89685.0</td>\n",
       "      <td>0</td>\n",
       "      <td>23,0</td>\n",
       "      <td>K1965</td>\n",
       "    </tr>\n",
       "    <tr>\n",
       "      <th>889</th>\n",
       "      <td>68</td>\n",
       "      <td>95714.0</td>\n",
       "      <td>0</td>\n",
       "      <td>32,0</td>\n",
       "      <td>K1540</td>\n",
       "    </tr>\n",
       "    <tr>\n",
       "      <th>890</th>\n",
       "      <td>49</td>\n",
       "      <td>73319.0</td>\n",
       "      <td>0</td>\n",
       "      <td>27,0</td>\n",
       "      <td>K1207</td>\n",
       "    </tr>\n",
       "  </tbody>\n",
       "</table>\n",
       "<p>891 rows × 5 columns</p>\n",
       "</div>"
      ],
      "text/plain": [
       "     Alter  Einkommen  Geschlecht  Zeit KundeNr\n",
       "0       30    39919.0           0  29,0   K1814\n",
       "1       41    53431.0           0  27,0   K1544\n",
       "2       64    73163.0           0  32,0   K1945\n",
       "3       41    36761.0           0  44,0   K1825\n",
       "4       35    42684.0           1  33,0   K1144\n",
       "..     ...        ...         ...   ...     ...\n",
       "886     32    34392.0           1  48,0   K1211\n",
       "887     41    68516.0           0  34,0   K1375\n",
       "888     65    89685.0           0  23,0   K1965\n",
       "889     68    95714.0           0  32,0   K1540\n",
       "890     49    73319.0           0  27,0   K1207\n",
       "\n",
       "[891 rows x 5 columns]"
      ]
     },
     "execution_count": 46,
     "metadata": {},
     "output_type": "execute_result"
    }
   ],
   "source": [
    "besucher[\"Einkommen\"] = besucher[\"Einkommen\"].str.replace(\",\",\".\")\n",
    "besucher[\"Einkommen\"] = pd.to_numeric(besucher[\"Einkommen\"]) \n",
    "besucher[\"Einkommen\"] = besucher[\"Einkommen\"].round(0).astype(\"float64\")\n",
    "besucher"
   ]
  },
  {
   "cell_type": "markdown",
   "id": "23574315-6cf8-49e4-861e-e5addac7028a",
   "metadata": {},
   "source": [
    "### 3.3.1.2 Zeit"
   ]
  },
  {
   "cell_type": "code",
   "execution_count": 47,
   "id": "68414472-6a88-4178-bf20-281e3a55ff41",
   "metadata": {},
   "outputs": [
    {
     "data": {
      "text/html": [
       "<div>\n",
       "<style scoped>\n",
       "    .dataframe tbody tr th:only-of-type {\n",
       "        vertical-align: middle;\n",
       "    }\n",
       "\n",
       "    .dataframe tbody tr th {\n",
       "        vertical-align: top;\n",
       "    }\n",
       "\n",
       "    .dataframe thead th {\n",
       "        text-align: right;\n",
       "    }\n",
       "</style>\n",
       "<table border=\"1\" class=\"dataframe\">\n",
       "  <thead>\n",
       "    <tr style=\"text-align: right;\">\n",
       "      <th></th>\n",
       "      <th>Alter</th>\n",
       "      <th>Einkommen</th>\n",
       "      <th>Geschlecht</th>\n",
       "      <th>Zeit</th>\n",
       "      <th>KundeNr</th>\n",
       "    </tr>\n",
       "  </thead>\n",
       "  <tbody>\n",
       "    <tr>\n",
       "      <th>0</th>\n",
       "      <td>30</td>\n",
       "      <td>39919.0</td>\n",
       "      <td>0</td>\n",
       "      <td>29.0</td>\n",
       "      <td>K1814</td>\n",
       "    </tr>\n",
       "    <tr>\n",
       "      <th>1</th>\n",
       "      <td>41</td>\n",
       "      <td>53431.0</td>\n",
       "      <td>0</td>\n",
       "      <td>27.0</td>\n",
       "      <td>K1544</td>\n",
       "    </tr>\n",
       "    <tr>\n",
       "      <th>2</th>\n",
       "      <td>64</td>\n",
       "      <td>73163.0</td>\n",
       "      <td>0</td>\n",
       "      <td>32.0</td>\n",
       "      <td>K1945</td>\n",
       "    </tr>\n",
       "    <tr>\n",
       "      <th>3</th>\n",
       "      <td>41</td>\n",
       "      <td>36761.0</td>\n",
       "      <td>0</td>\n",
       "      <td>44.0</td>\n",
       "      <td>K1825</td>\n",
       "    </tr>\n",
       "    <tr>\n",
       "      <th>4</th>\n",
       "      <td>35</td>\n",
       "      <td>42684.0</td>\n",
       "      <td>1</td>\n",
       "      <td>33.0</td>\n",
       "      <td>K1144</td>\n",
       "    </tr>\n",
       "    <tr>\n",
       "      <th>...</th>\n",
       "      <td>...</td>\n",
       "      <td>...</td>\n",
       "      <td>...</td>\n",
       "      <td>...</td>\n",
       "      <td>...</td>\n",
       "    </tr>\n",
       "    <tr>\n",
       "      <th>886</th>\n",
       "      <td>32</td>\n",
       "      <td>34392.0</td>\n",
       "      <td>1</td>\n",
       "      <td>48.0</td>\n",
       "      <td>K1211</td>\n",
       "    </tr>\n",
       "    <tr>\n",
       "      <th>887</th>\n",
       "      <td>41</td>\n",
       "      <td>68516.0</td>\n",
       "      <td>0</td>\n",
       "      <td>34.0</td>\n",
       "      <td>K1375</td>\n",
       "    </tr>\n",
       "    <tr>\n",
       "      <th>888</th>\n",
       "      <td>65</td>\n",
       "      <td>89685.0</td>\n",
       "      <td>0</td>\n",
       "      <td>23.0</td>\n",
       "      <td>K1965</td>\n",
       "    </tr>\n",
       "    <tr>\n",
       "      <th>889</th>\n",
       "      <td>68</td>\n",
       "      <td>95714.0</td>\n",
       "      <td>0</td>\n",
       "      <td>32.0</td>\n",
       "      <td>K1540</td>\n",
       "    </tr>\n",
       "    <tr>\n",
       "      <th>890</th>\n",
       "      <td>49</td>\n",
       "      <td>73319.0</td>\n",
       "      <td>0</td>\n",
       "      <td>27.0</td>\n",
       "      <td>K1207</td>\n",
       "    </tr>\n",
       "  </tbody>\n",
       "</table>\n",
       "<p>891 rows × 5 columns</p>\n",
       "</div>"
      ],
      "text/plain": [
       "     Alter  Einkommen  Geschlecht  Zeit KundeNr\n",
       "0       30    39919.0           0  29.0   K1814\n",
       "1       41    53431.0           0  27.0   K1544\n",
       "2       64    73163.0           0  32.0   K1945\n",
       "3       41    36761.0           0  44.0   K1825\n",
       "4       35    42684.0           1  33.0   K1144\n",
       "..     ...        ...         ...   ...     ...\n",
       "886     32    34392.0           1  48.0   K1211\n",
       "887     41    68516.0           0  34.0   K1375\n",
       "888     65    89685.0           0  23.0   K1965\n",
       "889     68    95714.0           0  32.0   K1540\n",
       "890     49    73319.0           0  27.0   K1207\n",
       "\n",
       "[891 rows x 5 columns]"
      ]
     },
     "execution_count": 47,
     "metadata": {},
     "output_type": "execute_result"
    }
   ],
   "source": [
    "besucher[\"Zeit\"] = besucher[\"Zeit\"].str.replace(\",\",\".\")\n",
    "besucher[\"Zeit\"] = pd.to_numeric(besucher[\"Zeit\"])\n",
    "besucher[\"Zeit\"] = besucher[\"Zeit\"].round(0).astype(\"float64\")\n",
    "besucher"
   ]
  },
  {
   "cell_type": "markdown",
   "id": "533a46f4-ca63-485b-ad11-f163e592794c",
   "metadata": {},
   "source": [
    "### 3.3.1.3 Geschlecht"
   ]
  },
  {
   "cell_type": "code",
   "execution_count": 48,
   "id": "50b45e99-580b-491b-be14-e9c3a65d36b1",
   "metadata": {},
   "outputs": [
    {
     "data": {
      "text/html": [
       "<div>\n",
       "<style scoped>\n",
       "    .dataframe tbody tr th:only-of-type {\n",
       "        vertical-align: middle;\n",
       "    }\n",
       "\n",
       "    .dataframe tbody tr th {\n",
       "        vertical-align: top;\n",
       "    }\n",
       "\n",
       "    .dataframe thead th {\n",
       "        text-align: right;\n",
       "    }\n",
       "</style>\n",
       "<table border=\"1\" class=\"dataframe\">\n",
       "  <thead>\n",
       "    <tr style=\"text-align: right;\">\n",
       "      <th></th>\n",
       "      <th>Alter</th>\n",
       "      <th>Einkommen</th>\n",
       "      <th>Preis</th>\n",
       "      <th>Geschlecht</th>\n",
       "      <th>Zeit</th>\n",
       "      <th>KundeNr</th>\n",
       "    </tr>\n",
       "  </thead>\n",
       "  <tbody>\n",
       "    <tr>\n",
       "      <th>0</th>\n",
       "      <td>64</td>\n",
       "      <td>66894.0</td>\n",
       "      <td>88160.31</td>\n",
       "      <td>1</td>\n",
       "      <td>43.0</td>\n",
       "      <td>K0310</td>\n",
       "    </tr>\n",
       "    <tr>\n",
       "      <th>1</th>\n",
       "      <td>54</td>\n",
       "      <td>77644.0</td>\n",
       "      <td>103145.70</td>\n",
       "      <td>1</td>\n",
       "      <td>40.0</td>\n",
       "      <td>K1042</td>\n",
       "    </tr>\n",
       "    <tr>\n",
       "      <th>2</th>\n",
       "      <td>55</td>\n",
       "      <td>44341.0</td>\n",
       "      <td>80565.16</td>\n",
       "      <td>0</td>\n",
       "      <td>37.0</td>\n",
       "      <td>K0382</td>\n",
       "    </tr>\n",
       "    <tr>\n",
       "      <th>3</th>\n",
       "      <td>49</td>\n",
       "      <td>67271.0</td>\n",
       "      <td>83949.89</td>\n",
       "      <td>0</td>\n",
       "      <td>42.0</td>\n",
       "      <td>K0498</td>\n",
       "    </tr>\n",
       "    <tr>\n",
       "      <th>4</th>\n",
       "      <td>46</td>\n",
       "      <td>49832.0</td>\n",
       "      <td>93781.58</td>\n",
       "      <td>0</td>\n",
       "      <td>41.0</td>\n",
       "      <td>K0552</td>\n",
       "    </tr>\n",
       "    <tr>\n",
       "      <th>...</th>\n",
       "      <td>...</td>\n",
       "      <td>...</td>\n",
       "      <td>...</td>\n",
       "      <td>...</td>\n",
       "      <td>...</td>\n",
       "      <td>...</td>\n",
       "    </tr>\n",
       "    <tr>\n",
       "      <th>1099</th>\n",
       "      <td>70</td>\n",
       "      <td>69581.0</td>\n",
       "      <td>103751.58</td>\n",
       "      <td>1</td>\n",
       "      <td>51.0</td>\n",
       "      <td>K0467</td>\n",
       "    </tr>\n",
       "    <tr>\n",
       "      <th>1100</th>\n",
       "      <td>38</td>\n",
       "      <td>48301.0</td>\n",
       "      <td>64230.98</td>\n",
       "      <td>1</td>\n",
       "      <td>33.0</td>\n",
       "      <td>K0122</td>\n",
       "    </tr>\n",
       "    <tr>\n",
       "      <th>1101</th>\n",
       "      <td>67</td>\n",
       "      <td>63547.0</td>\n",
       "      <td>103123.57</td>\n",
       "      <td>1</td>\n",
       "      <td>41.0</td>\n",
       "      <td>K1045</td>\n",
       "    </tr>\n",
       "    <tr>\n",
       "      <th>1102</th>\n",
       "      <td>37</td>\n",
       "      <td>32686.0</td>\n",
       "      <td>49215.87</td>\n",
       "      <td>1</td>\n",
       "      <td>36.0</td>\n",
       "      <td>K1096</td>\n",
       "    </tr>\n",
       "    <tr>\n",
       "      <th>1103</th>\n",
       "      <td>55</td>\n",
       "      <td>71240.0</td>\n",
       "      <td>106132.59</td>\n",
       "      <td>1</td>\n",
       "      <td>49.0</td>\n",
       "      <td>K0861</td>\n",
       "    </tr>\n",
       "  </tbody>\n",
       "</table>\n",
       "<p>1104 rows × 6 columns</p>\n",
       "</div>"
      ],
      "text/plain": [
       "      Alter  Einkommen      Preis  Geschlecht  Zeit KundeNr\n",
       "0        64    66894.0   88160.31           1  43.0   K0310\n",
       "1        54    77644.0  103145.70           1  40.0   K1042\n",
       "2        55    44341.0   80565.16           0  37.0   K0382\n",
       "3        49    67271.0   83949.89           0  42.0   K0498\n",
       "4        46    49832.0   93781.58           0  41.0   K0552\n",
       "...     ...        ...        ...         ...   ...     ...\n",
       "1099     70    69581.0  103751.58           1  51.0   K0467\n",
       "1100     38    48301.0   64230.98           1  33.0   K0122\n",
       "1101     67    63547.0  103123.57           1  41.0   K1045\n",
       "1102     37    32686.0   49215.87           1  36.0   K1096\n",
       "1103     55    71240.0  106132.59           1  49.0   K0861\n",
       "\n",
       "[1104 rows x 6 columns]"
      ]
     },
     "execution_count": 48,
     "metadata": {},
     "output_type": "execute_result"
    }
   ],
   "source": [
    "kunden[\"Geschlecht\"] = kunden[\"Geschlecht\"].astype(\"int64\")\n",
    "kunden"
   ]
  },
  {
   "cell_type": "code",
   "execution_count": 49,
   "id": "7f8d47fc-79e4-41ff-8f5e-6b95d062916a",
   "metadata": {},
   "outputs": [
    {
     "data": {
      "text/plain": [
       "(Alter           int64\n",
       " Einkommen     float64\n",
       " Geschlecht      int64\n",
       " Zeit          float64\n",
       " KundeNr        object\n",
       " dtype: object,\n",
       " Alter           int64\n",
       " Einkommen     float64\n",
       " Preis         float64\n",
       " Geschlecht      int64\n",
       " Zeit          float64\n",
       " KundeNr        object\n",
       " dtype: object)"
      ]
     },
     "execution_count": 49,
     "metadata": {},
     "output_type": "execute_result"
    }
   ],
   "source": [
    "# Überprüfen der dtypes\n",
    "besucher.dtypes, kunden.dtypes"
   ]
  },
  {
   "cell_type": "markdown",
   "id": "ecec2ca9-bbe4-47ec-8ff7-6e578fbcb81b",
   "metadata": {},
   "source": [
    "### 3.3.2 Fehlende Datenpunkte ermitteln und ersetzen"
   ]
  },
  {
   "cell_type": "code",
   "execution_count": 50,
   "id": "055acef9-70af-4af0-b9b3-ca8f8b3de400",
   "metadata": {},
   "outputs": [
    {
     "data": {
      "text/plain": [
       "Alter         0\n",
       "Einkommen     0\n",
       "Geschlecht    0\n",
       "Zeit          0\n",
       "KundeNr       0\n",
       "dtype: int64"
      ]
     },
     "execution_count": 50,
     "metadata": {},
     "output_type": "execute_result"
    }
   ],
   "source": [
    "besucher.isnull().sum()"
   ]
  },
  {
   "cell_type": "code",
   "execution_count": 51,
   "id": "703ca297-14dd-4032-a52a-83edcf48fd4c",
   "metadata": {},
   "outputs": [],
   "source": [
    "# keine fehlenden Datenpunkte im Datensatz"
   ]
  },
  {
   "cell_type": "markdown",
   "id": "720720bd-f6a7-4daf-be97-aba4c1e9fb97",
   "metadata": {},
   "source": [
    "### 3.3.3 Ausreißer ermitteln und entfernen"
   ]
  },
  {
   "cell_type": "code",
   "execution_count": 52,
   "id": "c406389b-29f5-49f1-8abc-6a00120023aa",
   "metadata": {},
   "outputs": [
    {
     "data": {
      "text/html": [
       "<div>\n",
       "<style scoped>\n",
       "    .dataframe tbody tr th:only-of-type {\n",
       "        vertical-align: middle;\n",
       "    }\n",
       "\n",
       "    .dataframe tbody tr th {\n",
       "        vertical-align: top;\n",
       "    }\n",
       "\n",
       "    .dataframe thead th {\n",
       "        text-align: right;\n",
       "    }\n",
       "</style>\n",
       "<table border=\"1\" class=\"dataframe\">\n",
       "  <thead>\n",
       "    <tr style=\"text-align: right;\">\n",
       "      <th></th>\n",
       "      <th>count</th>\n",
       "      <th>mean</th>\n",
       "      <th>std</th>\n",
       "      <th>min</th>\n",
       "      <th>25%</th>\n",
       "      <th>50%</th>\n",
       "      <th>75%</th>\n",
       "      <th>max</th>\n",
       "    </tr>\n",
       "  </thead>\n",
       "  <tbody>\n",
       "    <tr>\n",
       "      <th>Alter</th>\n",
       "      <td>1104.0</td>\n",
       "      <td>50.375000</td>\n",
       "      <td>11.951426</td>\n",
       "      <td>30.00</td>\n",
       "      <td>40.0000</td>\n",
       "      <td>51.000</td>\n",
       "      <td>61.000</td>\n",
       "      <td>70.00</td>\n",
       "    </tr>\n",
       "    <tr>\n",
       "      <th>Einkommen</th>\n",
       "      <td>1104.0</td>\n",
       "      <td>58850.907609</td>\n",
       "      <td>16443.509924</td>\n",
       "      <td>14547.00</td>\n",
       "      <td>46697.0000</td>\n",
       "      <td>59013.000</td>\n",
       "      <td>70270.250</td>\n",
       "      <td>100769.00</td>\n",
       "    </tr>\n",
       "    <tr>\n",
       "      <th>Preis</th>\n",
       "      <td>1104.0</td>\n",
       "      <td>88975.198714</td>\n",
       "      <td>24464.067781</td>\n",
       "      <td>21471.65</td>\n",
       "      <td>70609.4225</td>\n",
       "      <td>88931.455</td>\n",
       "      <td>107093.375</td>\n",
       "      <td>165482.31</td>\n",
       "    </tr>\n",
       "    <tr>\n",
       "      <th>Geschlecht</th>\n",
       "      <td>1104.0</td>\n",
       "      <td>0.639493</td>\n",
       "      <td>0.480365</td>\n",
       "      <td>0.00</td>\n",
       "      <td>0.0000</td>\n",
       "      <td>1.000</td>\n",
       "      <td>1.000</td>\n",
       "      <td>1.00</td>\n",
       "    </tr>\n",
       "    <tr>\n",
       "      <th>Zeit</th>\n",
       "      <td>1104.0</td>\n",
       "      <td>44.375906</td>\n",
       "      <td>10.848040</td>\n",
       "      <td>12.00</td>\n",
       "      <td>37.0000</td>\n",
       "      <td>44.000</td>\n",
       "      <td>52.000</td>\n",
       "      <td>80.00</td>\n",
       "    </tr>\n",
       "  </tbody>\n",
       "</table>\n",
       "</div>"
      ],
      "text/plain": [
       "             count          mean           std       min         25%  \\\n",
       "Alter       1104.0     50.375000     11.951426     30.00     40.0000   \n",
       "Einkommen   1104.0  58850.907609  16443.509924  14547.00  46697.0000   \n",
       "Preis       1104.0  88975.198714  24464.067781  21471.65  70609.4225   \n",
       "Geschlecht  1104.0      0.639493      0.480365      0.00      0.0000   \n",
       "Zeit        1104.0     44.375906     10.848040     12.00     37.0000   \n",
       "\n",
       "                  50%         75%        max  \n",
       "Alter          51.000      61.000      70.00  \n",
       "Einkommen   59013.000   70270.250  100769.00  \n",
       "Preis       88931.455  107093.375  165482.31  \n",
       "Geschlecht      1.000       1.000       1.00  \n",
       "Zeit           44.000      52.000      80.00  "
      ]
     },
     "execution_count": 52,
     "metadata": {},
     "output_type": "execute_result"
    }
   ],
   "source": [
    "# Außreißer ermitteln\n",
    "kunden.describe().T"
   ]
  },
  {
   "cell_type": "markdown",
   "id": "ef8fa4df-4149-4a8e-876b-78e18545f630",
   "metadata": {},
   "source": [
    "### 3.3.3.1 Alter"
   ]
  },
  {
   "cell_type": "code",
   "execution_count": 53,
   "id": "c8972a3c-3306-411d-b7d8-0877b95f2bef",
   "metadata": {},
   "outputs": [
    {
     "data": {
      "image/png": "[encoded data removed]",
      "text/plain": [
       "<Figure size 640x480 with 1 Axes>"
      ]
     },
     "metadata": {},
     "output_type": "display_data"
    }
   ],
   "source": [
    "boxplot_besucher_alter = besucher.boxplot(column = 'Alter')\n",
    "plt.show()"
   ]
  },
  {
   "cell_type": "code",
   "execution_count": 54,
   "id": "6730eca4-d2c7-4254-956e-e69f63d5fbaa",
   "metadata": {},
   "outputs": [],
   "source": [
    "# sowohl bei describe-Tabelle als auch beim boxplot keine Ausreißer zu erkennen"
   ]
  },
  {
   "cell_type": "markdown",
   "id": "61e27a0b-4be7-4af4-8c87-de153892f9f4",
   "metadata": {},
   "source": [
    "### 3.3.3.2 Einkommen"
   ]
  },
  {
   "cell_type": "code",
   "execution_count": 55,
   "id": "69523c19-d7c8-4f1c-8021-8695caf4eb55",
   "metadata": {},
   "outputs": [
    {
     "data": {
      "image/png": "[encoded data removed]",
      "text/plain": [
       "<Figure size 640x480 with 1 Axes>"
      ]
     },
     "metadata": {},
     "output_type": "display_data"
    }
   ],
   "source": [
    "boxplot_besucher_einkommen = besucher.boxplot(column = 'Einkommen')\n",
    "plt.show()"
   ]
  },
  {
   "cell_type": "code",
   "execution_count": 56,
   "id": "f151db84-24a3-4550-84e8-039750251c54",
   "metadata": {},
   "outputs": [],
   "source": [
    "# mehrere Ausreißer zu erkennen"
   ]
  },
  {
   "cell_type": "code",
   "execution_count": 57,
   "id": "f63485c2-4d8d-47f8-ab35-346c7ffe6ae9",
   "metadata": {},
   "outputs": [
    {
     "data": {
      "text/plain": [
       "Ausreißer\n",
       "False    888\n",
       "True       3\n",
       "Name: count, dtype: int64"
      ]
     },
     "execution_count": 57,
     "metadata": {},
     "output_type": "execute_result"
    }
   ],
   "source": [
    "# Berechnung von Q1, Q3 und IQR der Zeit-Spalte\n",
    "Q1_einkommen_besucher = besucher['Einkommen'].quantile(0.25)\n",
    "Q3_einkommen_besucher = besucher['Einkommen'].quantile(0.75)\n",
    "IQR_einkommen_besucher = Q3_einkommen_besucher - Q1_einkommen_besucher\n",
    "untere_grenze_einkommen_besucher = Q1_einkommen_besucher - 1.5 * IQR_einkommen_besucher\n",
    "obere_grenze_einkommen_besucher = Q3_einkommen_besucher + 1.5 * IQR_einkommen_besucher\n",
    "besucher['Ausreißer'] = (besucher['Einkommen'] < untere_grenze_einkommen_besucher) | (besucher['Einkommen'] > obere_grenze_einkommen_besucher)\n",
    "ausreißer_einkommen_besucher = besucher.Ausreißer.value_counts()\n",
    "ausreißer_einkommen_besucher"
   ]
  },
  {
   "cell_type": "code",
   "execution_count": 58,
   "id": "bcbbf688-41e1-441f-8639-5ec5192f1282",
   "metadata": {},
   "outputs": [
    {
     "data": {
      "text/html": [
       "<div>\n",
       "<style scoped>\n",
       "    .dataframe tbody tr th:only-of-type {\n",
       "        vertical-align: middle;\n",
       "    }\n",
       "\n",
       "    .dataframe tbody tr th {\n",
       "        vertical-align: top;\n",
       "    }\n",
       "\n",
       "    .dataframe thead th {\n",
       "        text-align: right;\n",
       "    }\n",
       "</style>\n",
       "<table border=\"1\" class=\"dataframe\">\n",
       "  <thead>\n",
       "    <tr style=\"text-align: right;\">\n",
       "      <th></th>\n",
       "      <th>Alter</th>\n",
       "      <th>Einkommen</th>\n",
       "      <th>Geschlecht</th>\n",
       "      <th>Zeit</th>\n",
       "      <th>KundeNr</th>\n",
       "      <th>Ausreißer</th>\n",
       "    </tr>\n",
       "  </thead>\n",
       "  <tbody>\n",
       "    <tr>\n",
       "      <th>44</th>\n",
       "      <td>69</td>\n",
       "      <td>108569.0</td>\n",
       "      <td>1</td>\n",
       "      <td>47.0</td>\n",
       "      <td>K1467</td>\n",
       "      <td>True</td>\n",
       "    </tr>\n",
       "    <tr>\n",
       "      <th>132</th>\n",
       "      <td>31</td>\n",
       "      <td>12032.0</td>\n",
       "      <td>1</td>\n",
       "      <td>32.0</td>\n",
       "      <td>K1586</td>\n",
       "      <td>True</td>\n",
       "    </tr>\n",
       "    <tr>\n",
       "      <th>265</th>\n",
       "      <td>31</td>\n",
       "      <td>10802.0</td>\n",
       "      <td>1</td>\n",
       "      <td>25.0</td>\n",
       "      <td>K1561</td>\n",
       "      <td>True</td>\n",
       "    </tr>\n",
       "  </tbody>\n",
       "</table>\n",
       "</div>"
      ],
      "text/plain": [
       "     Alter  Einkommen  Geschlecht  Zeit KundeNr  Ausreißer\n",
       "44      69   108569.0           1  47.0   K1467       True\n",
       "132     31    12032.0           1  32.0   K1586       True\n",
       "265     31    10802.0           1  25.0   K1561       True"
      ]
     },
     "execution_count": 58,
     "metadata": {},
     "output_type": "execute_result"
    }
   ],
   "source": [
    "# Ermitteln der genauen Werte der Ausreißer\n",
    "besucher.loc[besucher['Ausreißer'] == True]"
   ]
  },
  {
   "cell_type": "code",
   "execution_count": 59,
   "id": "c58942af-27b1-4263-8530-c70d0fe14583",
   "metadata": {},
   "outputs": [],
   "source": [
    "# so niedriges und so hohes Einkommen ist möglich, daher bleiben Werte erhalten"
   ]
  },
  {
   "cell_type": "markdown",
   "id": "8f97a96b-696b-4c6e-a53c-f940f0c122e3",
   "metadata": {},
   "source": [
    "### 3.3.3.3 Zeit"
   ]
  },
  {
   "cell_type": "code",
   "execution_count": 60,
   "id": "e4e47a9a-1213-46b8-a0d3-af6036c12a63",
   "metadata": {},
   "outputs": [
    {
     "data": {
      "image/png": "[encoded data removed]",
      "text/plain": [
       "<Figure size 640x480 with 1 Axes>"
      ]
     },
     "metadata": {},
     "output_type": "display_data"
    }
   ],
   "source": [
    "boxplot_besucher_zeit = besucher.boxplot(column = 'Zeit')\n",
    "plt.show()"
   ]
  },
  {
   "cell_type": "code",
   "execution_count": 61,
   "id": "d209cc1b-4b6d-4f67-8a45-f32c9050b6ab",
   "metadata": {},
   "outputs": [],
   "source": [
    "# mehrere Ausreißer zu erkennen"
   ]
  },
  {
   "cell_type": "code",
   "execution_count": 62,
   "id": "8a3cd720-982f-418d-8256-4e583e636db0",
   "metadata": {},
   "outputs": [
    {
     "data": {
      "text/plain": [
       "Ausreißer\n",
       "False    888\n",
       "True       3\n",
       "Name: count, dtype: int64"
      ]
     },
     "execution_count": 62,
     "metadata": {},
     "output_type": "execute_result"
    }
   ],
   "source": [
    "# Berechnung von Q1, Q3 und IQR der Zeit-Spalte\n",
    "Q1_zeit_besucher = besucher['Zeit'].quantile(0.25)\n",
    "Q3_zeit_besucher = besucher['Zeit'].quantile(0.75)\n",
    "IQR_zeit_besucher = Q3_zeit_besucher - Q1_zeit_besucher\n",
    "untere_grenze_zeit_besucher = Q1_zeit_besucher - 1.5 * IQR_zeit_besucher\n",
    "obere_grenze_zeit_besucher = Q3_zeit_besucher + 1.5 * IQR_zeit_besucher\n",
    "besucher['Ausreißer'] = (besucher['Zeit'] < untere_grenze_zeit_besucher) | (besucher['Zeit'] > obere_grenze_zeit_besucher)\n",
    "ausreißer_zeit_besucher = besucher.Ausreißer.value_counts()\n",
    "ausreißer_zeit_besucher"
   ]
  },
  {
   "cell_type": "code",
   "execution_count": 63,
   "id": "b8ae8dca-eba9-4281-b887-fb06dd646dc2",
   "metadata": {},
   "outputs": [
    {
     "data": {
      "text/html": [
       "<div>\n",
       "<style scoped>\n",
       "    .dataframe tbody tr th:only-of-type {\n",
       "        vertical-align: middle;\n",
       "    }\n",
       "\n",
       "    .dataframe tbody tr th {\n",
       "        vertical-align: top;\n",
       "    }\n",
       "\n",
       "    .dataframe thead th {\n",
       "        text-align: right;\n",
       "    }\n",
       "</style>\n",
       "<table border=\"1\" class=\"dataframe\">\n",
       "  <thead>\n",
       "    <tr style=\"text-align: right;\">\n",
       "      <th></th>\n",
       "      <th>Alter</th>\n",
       "      <th>Einkommen</th>\n",
       "      <th>Geschlecht</th>\n",
       "      <th>Zeit</th>\n",
       "      <th>KundeNr</th>\n",
       "      <th>Ausreißer</th>\n",
       "    </tr>\n",
       "  </thead>\n",
       "  <tbody>\n",
       "    <tr>\n",
       "      <th>105</th>\n",
       "      <td>40</td>\n",
       "      <td>39581.0</td>\n",
       "      <td>1</td>\n",
       "      <td>5.0</td>\n",
       "      <td>K1547</td>\n",
       "      <td>True</td>\n",
       "    </tr>\n",
       "    <tr>\n",
       "      <th>158</th>\n",
       "      <td>31</td>\n",
       "      <td>38299.0</td>\n",
       "      <td>1</td>\n",
       "      <td>3.0</td>\n",
       "      <td>K1623</td>\n",
       "      <td>True</td>\n",
       "    </tr>\n",
       "    <tr>\n",
       "      <th>603</th>\n",
       "      <td>62</td>\n",
       "      <td>84205.0</td>\n",
       "      <td>1</td>\n",
       "      <td>68.0</td>\n",
       "      <td>K1526</td>\n",
       "      <td>True</td>\n",
       "    </tr>\n",
       "  </tbody>\n",
       "</table>\n",
       "</div>"
      ],
      "text/plain": [
       "     Alter  Einkommen  Geschlecht  Zeit KundeNr  Ausreißer\n",
       "105     40    39581.0           1   5.0   K1547       True\n",
       "158     31    38299.0           1   3.0   K1623       True\n",
       "603     62    84205.0           1  68.0   K1526       True"
      ]
     },
     "execution_count": 63,
     "metadata": {},
     "output_type": "execute_result"
    }
   ],
   "source": [
    "# Ermittlung der genauen Werte der Ausreißer\n",
    "besucher.loc[besucher['Ausreißer'] == True]"
   ]
  },
  {
   "cell_type": "code",
   "execution_count": 64,
   "id": "3f92fb50-266b-4ea0-86a2-06924d00b1ed",
   "metadata": {},
   "outputs": [],
   "source": [
    "# so kurze und lange Zeiten sind möglich, daher bleiben Werte erhalten"
   ]
  },
  {
   "cell_type": "code",
   "execution_count": 65,
   "id": "785c0288-057e-4a89-aa3c-6a2f21644466",
   "metadata": {},
   "outputs": [
    {
     "data": {
      "text/html": [
       "<div>\n",
       "<style scoped>\n",
       "    .dataframe tbody tr th:only-of-type {\n",
       "        vertical-align: middle;\n",
       "    }\n",
       "\n",
       "    .dataframe tbody tr th {\n",
       "        vertical-align: top;\n",
       "    }\n",
       "\n",
       "    .dataframe thead th {\n",
       "        text-align: right;\n",
       "    }\n",
       "</style>\n",
       "<table border=\"1\" class=\"dataframe\">\n",
       "  <thead>\n",
       "    <tr style=\"text-align: right;\">\n",
       "      <th></th>\n",
       "      <th>Alter</th>\n",
       "      <th>Einkommen</th>\n",
       "      <th>Geschlecht</th>\n",
       "      <th>Zeit</th>\n",
       "      <th>KundeNr</th>\n",
       "      <th>Ausreißer</th>\n",
       "    </tr>\n",
       "  </thead>\n",
       "  <tbody>\n",
       "    <tr>\n",
       "      <th>0</th>\n",
       "      <td>30</td>\n",
       "      <td>39919.0</td>\n",
       "      <td>0</td>\n",
       "      <td>29.0</td>\n",
       "      <td>K1814</td>\n",
       "      <td>False</td>\n",
       "    </tr>\n",
       "    <tr>\n",
       "      <th>1</th>\n",
       "      <td>41</td>\n",
       "      <td>53431.0</td>\n",
       "      <td>0</td>\n",
       "      <td>27.0</td>\n",
       "      <td>K1544</td>\n",
       "      <td>False</td>\n",
       "    </tr>\n",
       "    <tr>\n",
       "      <th>2</th>\n",
       "      <td>64</td>\n",
       "      <td>73163.0</td>\n",
       "      <td>0</td>\n",
       "      <td>32.0</td>\n",
       "      <td>K1945</td>\n",
       "      <td>False</td>\n",
       "    </tr>\n",
       "    <tr>\n",
       "      <th>3</th>\n",
       "      <td>41</td>\n",
       "      <td>36761.0</td>\n",
       "      <td>0</td>\n",
       "      <td>44.0</td>\n",
       "      <td>K1825</td>\n",
       "      <td>False</td>\n",
       "    </tr>\n",
       "    <tr>\n",
       "      <th>4</th>\n",
       "      <td>35</td>\n",
       "      <td>42684.0</td>\n",
       "      <td>1</td>\n",
       "      <td>33.0</td>\n",
       "      <td>K1144</td>\n",
       "      <td>False</td>\n",
       "    </tr>\n",
       "    <tr>\n",
       "      <th>...</th>\n",
       "      <td>...</td>\n",
       "      <td>...</td>\n",
       "      <td>...</td>\n",
       "      <td>...</td>\n",
       "      <td>...</td>\n",
       "      <td>...</td>\n",
       "    </tr>\n",
       "    <tr>\n",
       "      <th>886</th>\n",
       "      <td>32</td>\n",
       "      <td>34392.0</td>\n",
       "      <td>1</td>\n",
       "      <td>48.0</td>\n",
       "      <td>K1211</td>\n",
       "      <td>False</td>\n",
       "    </tr>\n",
       "    <tr>\n",
       "      <th>887</th>\n",
       "      <td>41</td>\n",
       "      <td>68516.0</td>\n",
       "      <td>0</td>\n",
       "      <td>34.0</td>\n",
       "      <td>K1375</td>\n",
       "      <td>False</td>\n",
       "    </tr>\n",
       "    <tr>\n",
       "      <th>888</th>\n",
       "      <td>65</td>\n",
       "      <td>89685.0</td>\n",
       "      <td>0</td>\n",
       "      <td>23.0</td>\n",
       "      <td>K1965</td>\n",
       "      <td>False</td>\n",
       "    </tr>\n",
       "    <tr>\n",
       "      <th>889</th>\n",
       "      <td>68</td>\n",
       "      <td>95714.0</td>\n",
       "      <td>0</td>\n",
       "      <td>32.0</td>\n",
       "      <td>K1540</td>\n",
       "      <td>False</td>\n",
       "    </tr>\n",
       "    <tr>\n",
       "      <th>890</th>\n",
       "      <td>49</td>\n",
       "      <td>73319.0</td>\n",
       "      <td>0</td>\n",
       "      <td>27.0</td>\n",
       "      <td>K1207</td>\n",
       "      <td>False</td>\n",
       "    </tr>\n",
       "  </tbody>\n",
       "</table>\n",
       "<p>891 rows × 6 columns</p>\n",
       "</div>"
      ],
      "text/plain": [
       "     Alter  Einkommen  Geschlecht  Zeit KundeNr  Ausreißer\n",
       "0       30    39919.0           0  29.0   K1814      False\n",
       "1       41    53431.0           0  27.0   K1544      False\n",
       "2       64    73163.0           0  32.0   K1945      False\n",
       "3       41    36761.0           0  44.0   K1825      False\n",
       "4       35    42684.0           1  33.0   K1144      False\n",
       "..     ...        ...         ...   ...     ...        ...\n",
       "886     32    34392.0           1  48.0   K1211      False\n",
       "887     41    68516.0           0  34.0   K1375      False\n",
       "888     65    89685.0           0  23.0   K1965      False\n",
       "889     68    95714.0           0  32.0   K1540      False\n",
       "890     49    73319.0           0  27.0   K1207      False\n",
       "\n",
       "[891 rows x 6 columns]"
      ]
     },
     "execution_count": 65,
     "metadata": {},
     "output_type": "execute_result"
    }
   ],
   "source": [
    "besucher"
   ]
  },
  {
   "cell_type": "code",
   "execution_count": 66,
   "id": "6313b1d5-c967-45b0-8a11-76cd690aaa00",
   "metadata": {},
   "outputs": [],
   "source": [
    "# Boolean-Spalte wieder entfernen"
   ]
  },
  {
   "cell_type": "code",
   "execution_count": 67,
   "id": "9ed7ad57-ca0b-44eb-b6f3-49a9bcb8bbe4",
   "metadata": {},
   "outputs": [
    {
     "data": {
      "text/html": [
       "<div>\n",
       "<style scoped>\n",
       "    .dataframe tbody tr th:only-of-type {\n",
       "        vertical-align: middle;\n",
       "    }\n",
       "\n",
       "    .dataframe tbody tr th {\n",
       "        vertical-align: top;\n",
       "    }\n",
       "\n",
       "    .dataframe thead th {\n",
       "        text-align: right;\n",
       "    }\n",
       "</style>\n",
       "<table border=\"1\" class=\"dataframe\">\n",
       "  <thead>\n",
       "    <tr style=\"text-align: right;\">\n",
       "      <th></th>\n",
       "      <th>Alter</th>\n",
       "      <th>Einkommen</th>\n",
       "      <th>Geschlecht</th>\n",
       "      <th>Zeit</th>\n",
       "      <th>KundeNr</th>\n",
       "    </tr>\n",
       "  </thead>\n",
       "  <tbody>\n",
       "    <tr>\n",
       "      <th>0</th>\n",
       "      <td>30</td>\n",
       "      <td>39919.0</td>\n",
       "      <td>0</td>\n",
       "      <td>29.0</td>\n",
       "      <td>K1814</td>\n",
       "    </tr>\n",
       "    <tr>\n",
       "      <th>1</th>\n",
       "      <td>41</td>\n",
       "      <td>53431.0</td>\n",
       "      <td>0</td>\n",
       "      <td>27.0</td>\n",
       "      <td>K1544</td>\n",
       "    </tr>\n",
       "    <tr>\n",
       "      <th>2</th>\n",
       "      <td>64</td>\n",
       "      <td>73163.0</td>\n",
       "      <td>0</td>\n",
       "      <td>32.0</td>\n",
       "      <td>K1945</td>\n",
       "    </tr>\n",
       "    <tr>\n",
       "      <th>3</th>\n",
       "      <td>41</td>\n",
       "      <td>36761.0</td>\n",
       "      <td>0</td>\n",
       "      <td>44.0</td>\n",
       "      <td>K1825</td>\n",
       "    </tr>\n",
       "    <tr>\n",
       "      <th>4</th>\n",
       "      <td>35</td>\n",
       "      <td>42684.0</td>\n",
       "      <td>1</td>\n",
       "      <td>33.0</td>\n",
       "      <td>K1144</td>\n",
       "    </tr>\n",
       "    <tr>\n",
       "      <th>...</th>\n",
       "      <td>...</td>\n",
       "      <td>...</td>\n",
       "      <td>...</td>\n",
       "      <td>...</td>\n",
       "      <td>...</td>\n",
       "    </tr>\n",
       "    <tr>\n",
       "      <th>886</th>\n",
       "      <td>32</td>\n",
       "      <td>34392.0</td>\n",
       "      <td>1</td>\n",
       "      <td>48.0</td>\n",
       "      <td>K1211</td>\n",
       "    </tr>\n",
       "    <tr>\n",
       "      <th>887</th>\n",
       "      <td>41</td>\n",
       "      <td>68516.0</td>\n",
       "      <td>0</td>\n",
       "      <td>34.0</td>\n",
       "      <td>K1375</td>\n",
       "    </tr>\n",
       "    <tr>\n",
       "      <th>888</th>\n",
       "      <td>65</td>\n",
       "      <td>89685.0</td>\n",
       "      <td>0</td>\n",
       "      <td>23.0</td>\n",
       "      <td>K1965</td>\n",
       "    </tr>\n",
       "    <tr>\n",
       "      <th>889</th>\n",
       "      <td>68</td>\n",
       "      <td>95714.0</td>\n",
       "      <td>0</td>\n",
       "      <td>32.0</td>\n",
       "      <td>K1540</td>\n",
       "    </tr>\n",
       "    <tr>\n",
       "      <th>890</th>\n",
       "      <td>49</td>\n",
       "      <td>73319.0</td>\n",
       "      <td>0</td>\n",
       "      <td>27.0</td>\n",
       "      <td>K1207</td>\n",
       "    </tr>\n",
       "  </tbody>\n",
       "</table>\n",
       "<p>891 rows × 5 columns</p>\n",
       "</div>"
      ],
      "text/plain": [
       "     Alter  Einkommen  Geschlecht  Zeit KundeNr\n",
       "0       30    39919.0           0  29.0   K1814\n",
       "1       41    53431.0           0  27.0   K1544\n",
       "2       64    73163.0           0  32.0   K1945\n",
       "3       41    36761.0           0  44.0   K1825\n",
       "4       35    42684.0           1  33.0   K1144\n",
       "..     ...        ...         ...   ...     ...\n",
       "886     32    34392.0           1  48.0   K1211\n",
       "887     41    68516.0           0  34.0   K1375\n",
       "888     65    89685.0           0  23.0   K1965\n",
       "889     68    95714.0           0  32.0   K1540\n",
       "890     49    73319.0           0  27.0   K1207\n",
       "\n",
       "[891 rows x 5 columns]"
      ]
     },
     "execution_count": 67,
     "metadata": {},
     "output_type": "execute_result"
    }
   ],
   "source": [
    "besucher = besucher.drop(besucher.columns[-1], axis=1)\n",
    "besucher"
   ]
  },
  {
   "cell_type": "markdown",
   "id": "5bb228bf-4daa-4cfc-ba43-6c06e34edd18",
   "metadata": {},
   "source": [
    "## 4. Geodaten"
   ]
  },
  {
   "cell_type": "markdown",
   "id": "b9f50960-5e3a-498f-8dc9-0959b4c32e6f",
   "metadata": {},
   "source": [
    "### 4.1. Geodatei einlesen"
   ]
  },
  {
   "cell_type": "code",
   "execution_count": 68,
   "id": "c4136bca-9c51-4b6f-a76e-6062d74b898c",
   "metadata": {},
   "outputs": [
    {
     "data": {
      "text/html": [
       "<div>\n",
       "<style scoped>\n",
       "    .dataframe tbody tr th:only-of-type {\n",
       "        vertical-align: middle;\n",
       "    }\n",
       "\n",
       "    .dataframe tbody tr th {\n",
       "        vertical-align: top;\n",
       "    }\n",
       "\n",
       "    .dataframe thead th {\n",
       "        text-align: right;\n",
       "    }\n",
       "</style>\n",
       "<table border=\"1\" class=\"dataframe\">\n",
       "  <thead>\n",
       "    <tr style=\"text-align: right;\">\n",
       "      <th></th>\n",
       "      <th>KundeNr</th>\n",
       "      <th>Niederlassung</th>\n",
       "    </tr>\n",
       "  </thead>\n",
       "  <tbody>\n",
       "    <tr>\n",
       "      <th>0</th>\n",
       "      <td>K0001</td>\n",
       "      <td>Sachsen</td>\n",
       "    </tr>\n",
       "    <tr>\n",
       "      <th>1</th>\n",
       "      <td>K0002</td>\n",
       "      <td>NRW</td>\n",
       "    </tr>\n",
       "    <tr>\n",
       "      <th>2</th>\n",
       "      <td>K0003</td>\n",
       "      <td>Hessen</td>\n",
       "    </tr>\n",
       "    <tr>\n",
       "      <th>3</th>\n",
       "      <td>K0004</td>\n",
       "      <td>Bayern</td>\n",
       "    </tr>\n",
       "    <tr>\n",
       "      <th>4</th>\n",
       "      <td>K0005</td>\n",
       "      <td>Bayern</td>\n",
       "    </tr>\n",
       "  </tbody>\n",
       "</table>\n",
       "</div>"
      ],
      "text/plain": [
       "  KundeNr Niederlassung\n",
       "0   K0001       Sachsen\n",
       "1   K0002           NRW\n",
       "2   K0003        Hessen\n",
       "3   K0004        Bayern\n",
       "4   K0005        Bayern"
      ]
     },
     "execution_count": 68,
     "metadata": {},
     "output_type": "execute_result"
    }
   ],
   "source": [
    "geo = pd.read_csv(\"geo.txt\", sep = \"\\t\")\n",
    "geo.head()"
   ]
  },
  {
   "cell_type": "markdown",
   "id": "eac214be-89cb-44df-a00f-fbf4044d3c77",
   "metadata": {},
   "source": [
    "## 4.2 Überblick über Datentypen"
   ]
  },
  {
   "cell_type": "code",
   "execution_count": 69,
   "id": "1da63f41-b8ca-49db-98ef-44b0ed5b715b",
   "metadata": {},
   "outputs": [
    {
     "data": {
      "text/plain": [
       "KundeNr          object\n",
       "Niederlassung    object\n",
       "dtype: object"
      ]
     },
     "execution_count": 69,
     "metadata": {},
     "output_type": "execute_result"
    }
   ],
   "source": [
    "geo.dtypes"
   ]
  },
  {
   "cell_type": "code",
   "execution_count": 70,
   "id": "0ebe1254-c964-45fc-b56c-dce433c47d42",
   "metadata": {},
   "outputs": [],
   "source": [
    "# bei kunden und besucher ist der dypte der KundeNr auch object, daher keine Änderung benötigt"
   ]
  },
  {
   "cell_type": "markdown",
   "id": "b2509aeb-1297-4b33-b08e-da5826ae832d",
   "metadata": {},
   "source": [
    "### 4.3 Bereinigung"
   ]
  },
  {
   "cell_type": "markdown",
   "id": "cda090aa-6d08-48ab-bd1d-29bcabbcf8ed",
   "metadata": {},
   "source": [
    "### 4.3.1 Fehlende Datenpunkte ermitteln und ersetzen"
   ]
  },
  {
   "cell_type": "code",
   "execution_count": 71,
   "id": "646b5f4b-d218-4ab1-8be5-77caa154d1a6",
   "metadata": {},
   "outputs": [
    {
     "data": {
      "text/plain": [
       "KundeNr          0\n",
       "Niederlassung    0\n",
       "dtype: int64"
      ]
     },
     "execution_count": 71,
     "metadata": {},
     "output_type": "execute_result"
    }
   ],
   "source": [
    "geo.isnull().sum()"
   ]
  },
  {
   "cell_type": "markdown",
   "id": "3edcca31-790f-4c65-9dcd-74d1a22740fb",
   "metadata": {},
   "source": [
    "### 4.3.2 Ausreißer ermitteln und entfernen/ersetzen"
   ]
  },
  {
   "cell_type": "code",
   "execution_count": 72,
   "id": "3d3d6633-7542-42ef-b347-c883c0c98100",
   "metadata": {},
   "outputs": [
    {
     "name": "stdout",
     "output_type": "stream",
     "text": [
      "['Sachsen' 'NRW' 'Hessen' 'Bayern' 'Baden-Württemberg'\n",
      " 'Nordrhein-Westfalen' 'Berlin' 'Niedersachsen' 'Brandenburg' 'Thüringen'\n",
      " 'Hamburg' 'Düsseldorf' 'Berlin-Charlottenburg' 'Berlin-Mitte' 'BERLIN']\n"
     ]
    }
   ],
   "source": [
    "# Übersicht aller Niederlassungen\n",
    "geo_niederlassung_uniques = geo[\"Niederlassung\"].unique()\n",
    "print(geo_niederlassung_uniques)"
   ]
  },
  {
   "cell_type": "code",
   "execution_count": 73,
   "id": "4c4af355-f44b-4c59-8091-9e295aafdc8b",
   "metadata": {},
   "outputs": [],
   "source": [
    "# Bereinigung der Datenpunkte (NRW, Düsseldorf zu Nordrhein-Westfalen), (Berlin-Charlottenburg, Berlin-Mitte, BERLIN zu Berlin)\n",
    "geo_cleaning = {\n",
    "    \"NRW\" : \"Nordrhein-Westfalen\" , \n",
    "    \"Berlin-Charlottenburg\" : \"Berlin\" ,\n",
    "    \"Berlin-Mitte\" : \"Berlin\" ,\n",
    "    \"BERLIN\" : \"Berlin\",\n",
    "    \"Düsseldorf\" : \"Nordrhein-Westfalen\"}\n",
    "\n",
    "geo[\"Niederlassung\"] = geo[\"Niederlassung\"].replace(geo_cleaning, regex = True)"
   ]
  },
  {
   "cell_type": "code",
   "execution_count": 74,
   "id": "5c580644-5d8d-4562-8045-aea82c87e675",
   "metadata": {},
   "outputs": [
    {
     "name": "stdout",
     "output_type": "stream",
     "text": [
      "['Sachsen' 'Nordrhein-Westfalen' 'Hessen' 'Bayern' 'Baden-Württemberg'\n",
      " 'Berlin' 'Niedersachsen' 'Brandenburg' 'Thüringen' 'Hamburg']\n"
     ]
    }
   ],
   "source": [
    "# Überprüfung\n",
    "geo_niederlassung_uniques2 = geo[\"Niederlassung\"].unique()\n",
    "print(geo_niederlassung_uniques2)"
   ]
  },
  {
   "cell_type": "markdown",
   "id": "25bbee33-b3ae-48d0-b674-972f1792cd9c",
   "metadata": {},
   "source": [
    "## 5. Zusammenführung der Listen"
   ]
  },
  {
   "cell_type": "markdown",
   "id": "aac4a8b4-20b3-45a9-9424-6a32e248185d",
   "metadata": {},
   "source": [
    "### 5.1 Kunden und Besucher mit Geo"
   ]
  },
  {
   "cell_type": "markdown",
   "id": "db55aecc-b7c5-423c-852c-4589a0ba1a50",
   "metadata": {},
   "source": [
    "### 5.1.1 Kunden mit Geo "
   ]
  },
  {
   "cell_type": "code",
   "execution_count": 75,
   "id": "aea65563-39a7-4710-9d12-55d504810245",
   "metadata": {},
   "outputs": [
    {
     "data": {
      "text/html": [
       "<div>\n",
       "<style scoped>\n",
       "    .dataframe tbody tr th:only-of-type {\n",
       "        vertical-align: middle;\n",
       "    }\n",
       "\n",
       "    .dataframe tbody tr th {\n",
       "        vertical-align: top;\n",
       "    }\n",
       "\n",
       "    .dataframe thead th {\n",
       "        text-align: right;\n",
       "    }\n",
       "</style>\n",
       "<table border=\"1\" class=\"dataframe\">\n",
       "  <thead>\n",
       "    <tr style=\"text-align: right;\">\n",
       "      <th></th>\n",
       "      <th>Alter</th>\n",
       "      <th>Einkommen</th>\n",
       "      <th>Preis</th>\n",
       "      <th>Geschlecht</th>\n",
       "      <th>Zeit</th>\n",
       "      <th>KundeNr</th>\n",
       "      <th>Niederlassung</th>\n",
       "    </tr>\n",
       "  </thead>\n",
       "  <tbody>\n",
       "    <tr>\n",
       "      <th>0</th>\n",
       "      <td>64</td>\n",
       "      <td>66894.0</td>\n",
       "      <td>88160.31</td>\n",
       "      <td>1</td>\n",
       "      <td>43.0</td>\n",
       "      <td>K0310</td>\n",
       "      <td>Bayern</td>\n",
       "    </tr>\n",
       "    <tr>\n",
       "      <th>1</th>\n",
       "      <td>54</td>\n",
       "      <td>77644.0</td>\n",
       "      <td>103145.70</td>\n",
       "      <td>1</td>\n",
       "      <td>40.0</td>\n",
       "      <td>K1042</td>\n",
       "      <td>Berlin</td>\n",
       "    </tr>\n",
       "    <tr>\n",
       "      <th>2</th>\n",
       "      <td>55</td>\n",
       "      <td>44341.0</td>\n",
       "      <td>80565.16</td>\n",
       "      <td>0</td>\n",
       "      <td>37.0</td>\n",
       "      <td>K0382</td>\n",
       "      <td>Baden-Württemberg</td>\n",
       "    </tr>\n",
       "    <tr>\n",
       "      <th>3</th>\n",
       "      <td>49</td>\n",
       "      <td>67271.0</td>\n",
       "      <td>83949.89</td>\n",
       "      <td>0</td>\n",
       "      <td>42.0</td>\n",
       "      <td>K0498</td>\n",
       "      <td>Bayern</td>\n",
       "    </tr>\n",
       "    <tr>\n",
       "      <th>4</th>\n",
       "      <td>46</td>\n",
       "      <td>49832.0</td>\n",
       "      <td>93781.58</td>\n",
       "      <td>0</td>\n",
       "      <td>41.0</td>\n",
       "      <td>K0552</td>\n",
       "      <td>Hessen</td>\n",
       "    </tr>\n",
       "    <tr>\n",
       "      <th>...</th>\n",
       "      <td>...</td>\n",
       "      <td>...</td>\n",
       "      <td>...</td>\n",
       "      <td>...</td>\n",
       "      <td>...</td>\n",
       "      <td>...</td>\n",
       "      <td>...</td>\n",
       "    </tr>\n",
       "    <tr>\n",
       "      <th>1099</th>\n",
       "      <td>70</td>\n",
       "      <td>69581.0</td>\n",
       "      <td>103751.58</td>\n",
       "      <td>1</td>\n",
       "      <td>51.0</td>\n",
       "      <td>K0467</td>\n",
       "      <td>Thüringen</td>\n",
       "    </tr>\n",
       "    <tr>\n",
       "      <th>1100</th>\n",
       "      <td>38</td>\n",
       "      <td>48301.0</td>\n",
       "      <td>64230.98</td>\n",
       "      <td>1</td>\n",
       "      <td>33.0</td>\n",
       "      <td>K0122</td>\n",
       "      <td>Niedersachsen</td>\n",
       "    </tr>\n",
       "    <tr>\n",
       "      <th>1101</th>\n",
       "      <td>67</td>\n",
       "      <td>63547.0</td>\n",
       "      <td>103123.57</td>\n",
       "      <td>1</td>\n",
       "      <td>41.0</td>\n",
       "      <td>K1045</td>\n",
       "      <td>Berlin</td>\n",
       "    </tr>\n",
       "    <tr>\n",
       "      <th>1102</th>\n",
       "      <td>37</td>\n",
       "      <td>32686.0</td>\n",
       "      <td>49215.87</td>\n",
       "      <td>1</td>\n",
       "      <td>36.0</td>\n",
       "      <td>K1096</td>\n",
       "      <td>Baden-Württemberg</td>\n",
       "    </tr>\n",
       "    <tr>\n",
       "      <th>1103</th>\n",
       "      <td>55</td>\n",
       "      <td>71240.0</td>\n",
       "      <td>106132.59</td>\n",
       "      <td>1</td>\n",
       "      <td>49.0</td>\n",
       "      <td>K0861</td>\n",
       "      <td>Bayern</td>\n",
       "    </tr>\n",
       "  </tbody>\n",
       "</table>\n",
       "<p>1104 rows × 7 columns</p>\n",
       "</div>"
      ],
      "text/plain": [
       "      Alter  Einkommen      Preis  Geschlecht  Zeit KundeNr      Niederlassung\n",
       "0        64    66894.0   88160.31           1  43.0   K0310             Bayern\n",
       "1        54    77644.0  103145.70           1  40.0   K1042             Berlin\n",
       "2        55    44341.0   80565.16           0  37.0   K0382  Baden-Württemberg\n",
       "3        49    67271.0   83949.89           0  42.0   K0498             Bayern\n",
       "4        46    49832.0   93781.58           0  41.0   K0552             Hessen\n",
       "...     ...        ...        ...         ...   ...     ...                ...\n",
       "1099     70    69581.0  103751.58           1  51.0   K0467          Thüringen\n",
       "1100     38    48301.0   64230.98           1  33.0   K0122      Niedersachsen\n",
       "1101     67    63547.0  103123.57           1  41.0   K1045             Berlin\n",
       "1102     37    32686.0   49215.87           1  36.0   K1096  Baden-Württemberg\n",
       "1103     55    71240.0  106132.59           1  49.0   K0861             Bayern\n",
       "\n",
       "[1104 rows x 7 columns]"
      ]
     },
     "execution_count": 75,
     "metadata": {},
     "output_type": "execute_result"
    }
   ],
   "source": [
    "kunden_geo = pd.merge(kunden,geo, on = \"KundeNr\")\n",
    "kunden_geo"
   ]
  },
  {
   "cell_type": "markdown",
   "id": "2060d258-2dd8-42f8-a064-5ffe92fe7285",
   "metadata": {},
   "source": [
    "### 5.1.2 Besucher mit Geo"
   ]
  },
  {
   "cell_type": "code",
   "execution_count": 76,
   "id": "8eb4cb71-ba36-4f98-b58b-803d5251b16f",
   "metadata": {},
   "outputs": [
    {
     "data": {
      "text/html": [
       "<div>\n",
       "<style scoped>\n",
       "    .dataframe tbody tr th:only-of-type {\n",
       "        vertical-align: middle;\n",
       "    }\n",
       "\n",
       "    .dataframe tbody tr th {\n",
       "        vertical-align: top;\n",
       "    }\n",
       "\n",
       "    .dataframe thead th {\n",
       "        text-align: right;\n",
       "    }\n",
       "</style>\n",
       "<table border=\"1\" class=\"dataframe\">\n",
       "  <thead>\n",
       "    <tr style=\"text-align: right;\">\n",
       "      <th></th>\n",
       "      <th>Alter</th>\n",
       "      <th>Einkommen</th>\n",
       "      <th>Geschlecht</th>\n",
       "      <th>Zeit</th>\n",
       "      <th>KundeNr</th>\n",
       "      <th>Niederlassung</th>\n",
       "    </tr>\n",
       "  </thead>\n",
       "  <tbody>\n",
       "    <tr>\n",
       "      <th>0</th>\n",
       "      <td>30</td>\n",
       "      <td>39919.0</td>\n",
       "      <td>0</td>\n",
       "      <td>29.0</td>\n",
       "      <td>K1814</td>\n",
       "      <td>Bayern</td>\n",
       "    </tr>\n",
       "    <tr>\n",
       "      <th>1</th>\n",
       "      <td>41</td>\n",
       "      <td>53431.0</td>\n",
       "      <td>0</td>\n",
       "      <td>27.0</td>\n",
       "      <td>K1544</td>\n",
       "      <td>Baden-Württemberg</td>\n",
       "    </tr>\n",
       "    <tr>\n",
       "      <th>2</th>\n",
       "      <td>64</td>\n",
       "      <td>73163.0</td>\n",
       "      <td>0</td>\n",
       "      <td>32.0</td>\n",
       "      <td>K1945</td>\n",
       "      <td>Baden-Württemberg</td>\n",
       "    </tr>\n",
       "    <tr>\n",
       "      <th>3</th>\n",
       "      <td>41</td>\n",
       "      <td>36761.0</td>\n",
       "      <td>0</td>\n",
       "      <td>44.0</td>\n",
       "      <td>K1825</td>\n",
       "      <td>Baden-Württemberg</td>\n",
       "    </tr>\n",
       "    <tr>\n",
       "      <th>4</th>\n",
       "      <td>35</td>\n",
       "      <td>42684.0</td>\n",
       "      <td>1</td>\n",
       "      <td>33.0</td>\n",
       "      <td>K1144</td>\n",
       "      <td>Nordrhein-Westfalen</td>\n",
       "    </tr>\n",
       "    <tr>\n",
       "      <th>...</th>\n",
       "      <td>...</td>\n",
       "      <td>...</td>\n",
       "      <td>...</td>\n",
       "      <td>...</td>\n",
       "      <td>...</td>\n",
       "      <td>...</td>\n",
       "    </tr>\n",
       "    <tr>\n",
       "      <th>886</th>\n",
       "      <td>32</td>\n",
       "      <td>34392.0</td>\n",
       "      <td>1</td>\n",
       "      <td>48.0</td>\n",
       "      <td>K1211</td>\n",
       "      <td>Hessen</td>\n",
       "    </tr>\n",
       "    <tr>\n",
       "      <th>887</th>\n",
       "      <td>41</td>\n",
       "      <td>68516.0</td>\n",
       "      <td>0</td>\n",
       "      <td>34.0</td>\n",
       "      <td>K1375</td>\n",
       "      <td>Sachsen</td>\n",
       "    </tr>\n",
       "    <tr>\n",
       "      <th>888</th>\n",
       "      <td>65</td>\n",
       "      <td>89685.0</td>\n",
       "      <td>0</td>\n",
       "      <td>23.0</td>\n",
       "      <td>K1965</td>\n",
       "      <td>Bayern</td>\n",
       "    </tr>\n",
       "    <tr>\n",
       "      <th>889</th>\n",
       "      <td>68</td>\n",
       "      <td>95714.0</td>\n",
       "      <td>0</td>\n",
       "      <td>32.0</td>\n",
       "      <td>K1540</td>\n",
       "      <td>Bayern</td>\n",
       "    </tr>\n",
       "    <tr>\n",
       "      <th>890</th>\n",
       "      <td>49</td>\n",
       "      <td>73319.0</td>\n",
       "      <td>0</td>\n",
       "      <td>27.0</td>\n",
       "      <td>K1207</td>\n",
       "      <td>Niedersachsen</td>\n",
       "    </tr>\n",
       "  </tbody>\n",
       "</table>\n",
       "<p>891 rows × 6 columns</p>\n",
       "</div>"
      ],
      "text/plain": [
       "     Alter  Einkommen  Geschlecht  Zeit KundeNr        Niederlassung\n",
       "0       30    39919.0           0  29.0   K1814               Bayern\n",
       "1       41    53431.0           0  27.0   K1544    Baden-Württemberg\n",
       "2       64    73163.0           0  32.0   K1945    Baden-Württemberg\n",
       "3       41    36761.0           0  44.0   K1825    Baden-Württemberg\n",
       "4       35    42684.0           1  33.0   K1144  Nordrhein-Westfalen\n",
       "..     ...        ...         ...   ...     ...                  ...\n",
       "886     32    34392.0           1  48.0   K1211               Hessen\n",
       "887     41    68516.0           0  34.0   K1375              Sachsen\n",
       "888     65    89685.0           0  23.0   K1965               Bayern\n",
       "889     68    95714.0           0  32.0   K1540               Bayern\n",
       "890     49    73319.0           0  27.0   K1207        Niedersachsen\n",
       "\n",
       "[891 rows x 6 columns]"
      ]
     },
     "execution_count": 76,
     "metadata": {},
     "output_type": "execute_result"
    }
   ],
   "source": [
    "besucher_geo = pd.merge(besucher, geo, on = \"KundeNr\")\n",
    "besucher_geo"
   ]
  },
  {
   "cell_type": "markdown",
   "id": "5d4480c1-c2be-47b8-9646-c337ff0277ca",
   "metadata": {},
   "source": [
    "### 5.2 kunden_geo und besucher_geo zu df_final"
   ]
  },
  {
   "cell_type": "code",
   "execution_count": 77,
   "id": "ce8787f9-747a-4a4d-bde7-caa9a0f718d5",
   "metadata": {},
   "outputs": [
    {
     "data": {
      "text/html": [
       "<div>\n",
       "<style scoped>\n",
       "    .dataframe tbody tr th:only-of-type {\n",
       "        vertical-align: middle;\n",
       "    }\n",
       "\n",
       "    .dataframe tbody tr th {\n",
       "        vertical-align: top;\n",
       "    }\n",
       "\n",
       "    .dataframe thead th {\n",
       "        text-align: right;\n",
       "    }\n",
       "</style>\n",
       "<table border=\"1\" class=\"dataframe\">\n",
       "  <thead>\n",
       "    <tr style=\"text-align: right;\">\n",
       "      <th></th>\n",
       "      <th>Alter</th>\n",
       "      <th>Einkommen</th>\n",
       "      <th>Preis</th>\n",
       "      <th>Geschlecht</th>\n",
       "      <th>Zeit</th>\n",
       "      <th>KundeNr</th>\n",
       "      <th>Niederlassung</th>\n",
       "    </tr>\n",
       "  </thead>\n",
       "  <tbody>\n",
       "    <tr>\n",
       "      <th>0</th>\n",
       "      <td>64</td>\n",
       "      <td>66894.0</td>\n",
       "      <td>88160.31</td>\n",
       "      <td>1</td>\n",
       "      <td>43.0</td>\n",
       "      <td>K0310</td>\n",
       "      <td>Bayern</td>\n",
       "    </tr>\n",
       "    <tr>\n",
       "      <th>1</th>\n",
       "      <td>54</td>\n",
       "      <td>77644.0</td>\n",
       "      <td>103145.70</td>\n",
       "      <td>1</td>\n",
       "      <td>40.0</td>\n",
       "      <td>K1042</td>\n",
       "      <td>Berlin</td>\n",
       "    </tr>\n",
       "    <tr>\n",
       "      <th>2</th>\n",
       "      <td>55</td>\n",
       "      <td>44341.0</td>\n",
       "      <td>80565.16</td>\n",
       "      <td>0</td>\n",
       "      <td>37.0</td>\n",
       "      <td>K0382</td>\n",
       "      <td>Baden-Württemberg</td>\n",
       "    </tr>\n",
       "    <tr>\n",
       "      <th>3</th>\n",
       "      <td>49</td>\n",
       "      <td>67271.0</td>\n",
       "      <td>83949.89</td>\n",
       "      <td>0</td>\n",
       "      <td>42.0</td>\n",
       "      <td>K0498</td>\n",
       "      <td>Bayern</td>\n",
       "    </tr>\n",
       "    <tr>\n",
       "      <th>4</th>\n",
       "      <td>46</td>\n",
       "      <td>49832.0</td>\n",
       "      <td>93781.58</td>\n",
       "      <td>0</td>\n",
       "      <td>41.0</td>\n",
       "      <td>K0552</td>\n",
       "      <td>Hessen</td>\n",
       "    </tr>\n",
       "    <tr>\n",
       "      <th>...</th>\n",
       "      <td>...</td>\n",
       "      <td>...</td>\n",
       "      <td>...</td>\n",
       "      <td>...</td>\n",
       "      <td>...</td>\n",
       "      <td>...</td>\n",
       "      <td>...</td>\n",
       "    </tr>\n",
       "    <tr>\n",
       "      <th>1990</th>\n",
       "      <td>32</td>\n",
       "      <td>34392.0</td>\n",
       "      <td>NaN</td>\n",
       "      <td>1</td>\n",
       "      <td>48.0</td>\n",
       "      <td>K1211</td>\n",
       "      <td>Hessen</td>\n",
       "    </tr>\n",
       "    <tr>\n",
       "      <th>1991</th>\n",
       "      <td>41</td>\n",
       "      <td>68516.0</td>\n",
       "      <td>NaN</td>\n",
       "      <td>0</td>\n",
       "      <td>34.0</td>\n",
       "      <td>K1375</td>\n",
       "      <td>Sachsen</td>\n",
       "    </tr>\n",
       "    <tr>\n",
       "      <th>1992</th>\n",
       "      <td>65</td>\n",
       "      <td>89685.0</td>\n",
       "      <td>NaN</td>\n",
       "      <td>0</td>\n",
       "      <td>23.0</td>\n",
       "      <td>K1965</td>\n",
       "      <td>Bayern</td>\n",
       "    </tr>\n",
       "    <tr>\n",
       "      <th>1993</th>\n",
       "      <td>68</td>\n",
       "      <td>95714.0</td>\n",
       "      <td>NaN</td>\n",
       "      <td>0</td>\n",
       "      <td>32.0</td>\n",
       "      <td>K1540</td>\n",
       "      <td>Bayern</td>\n",
       "    </tr>\n",
       "    <tr>\n",
       "      <th>1994</th>\n",
       "      <td>49</td>\n",
       "      <td>73319.0</td>\n",
       "      <td>NaN</td>\n",
       "      <td>0</td>\n",
       "      <td>27.0</td>\n",
       "      <td>K1207</td>\n",
       "      <td>Niedersachsen</td>\n",
       "    </tr>\n",
       "  </tbody>\n",
       "</table>\n",
       "<p>1995 rows × 7 columns</p>\n",
       "</div>"
      ],
      "text/plain": [
       "      Alter  Einkommen      Preis  Geschlecht  Zeit KundeNr      Niederlassung\n",
       "0        64    66894.0   88160.31           1  43.0   K0310             Bayern\n",
       "1        54    77644.0  103145.70           1  40.0   K1042             Berlin\n",
       "2        55    44341.0   80565.16           0  37.0   K0382  Baden-Württemberg\n",
       "3        49    67271.0   83949.89           0  42.0   K0498             Bayern\n",
       "4        46    49832.0   93781.58           0  41.0   K0552             Hessen\n",
       "...     ...        ...        ...         ...   ...     ...                ...\n",
       "1990     32    34392.0        NaN           1  48.0   K1211             Hessen\n",
       "1991     41    68516.0        NaN           0  34.0   K1375            Sachsen\n",
       "1992     65    89685.0        NaN           0  23.0   K1965             Bayern\n",
       "1993     68    95714.0        NaN           0  32.0   K1540             Bayern\n",
       "1994     49    73319.0        NaN           0  27.0   K1207      Niedersachsen\n",
       "\n",
       "[1995 rows x 7 columns]"
      ]
     },
     "execution_count": 77,
     "metadata": {},
     "output_type": "execute_result"
    }
   ],
   "source": [
    "df_final = pd.concat([kunden_geo, besucher_geo], axis = 0, ignore_index = True)\n",
    "df_final"
   ]
  },
  {
   "cell_type": "markdown",
   "id": "f0253604",
   "metadata": {},
   "source": [
    "### 5.3 CSV Datei df_final"
   ]
  },
  {
   "cell_type": "code",
   "execution_count": 78,
   "id": "de0a6a1c",
   "metadata": {},
   "outputs": [],
   "source": [
    "df_final.to_csv('df_final.csv', index=False)"
   ]
  },
  {
   "cell_type": "markdown",
   "id": "89dbe370-694e-45de-8120-e884362b85ba",
   "metadata": {},
   "source": [
    "## 6. Fragen"
   ]
  },
  {
   "cell_type": "markdown",
   "id": "4ffabf5f-f067-4ede-abde-b2917eaf6dc4",
   "metadata": {},
   "source": [
    "### Frage 1: Wie viele Autos wurden verkauft?"
   ]
  },
  {
   "cell_type": "code",
   "execution_count": 79,
   "id": "c5e3c5b2-3b8a-40f0-aec5-82b1f3eb1cdc",
   "metadata": {},
   "outputs": [
    {
     "data": {
      "text/plain": [
       "1104"
      ]
     },
     "execution_count": 79,
     "metadata": {},
     "output_type": "execute_result"
    }
   ],
   "source": [
    "anzahl_verkaufter_autos = len(kunden_geo)\n",
    "anzahl_verkaufter_autos"
   ]
  },
  {
   "cell_type": "code",
   "execution_count": 80,
   "id": "fb39e496-8f31-4229-8d09-405f64e7c730",
   "metadata": {},
   "outputs": [
    {
     "data": {
      "text/plain": [
       "1104"
      ]
     },
     "execution_count": 80,
     "metadata": {},
     "output_type": "execute_result"
    }
   ],
   "source": [
    "autos_verkauft = kunden_geo.shape[0]\n",
    "autos_verkauft"
   ]
  },
  {
   "cell_type": "code",
   "execution_count": 81,
   "id": "0104f6f6-67fe-42ec-978f-6270c38c2dd9",
   "metadata": {},
   "outputs": [],
   "source": [
    "# Antwort zu Frage 1: 1104"
   ]
  },
  {
   "cell_type": "markdown",
   "id": "e593f456-3d6f-43e6-8308-cfb9f1d4692f",
   "metadata": {},
   "source": [
    "### Frage 2: Was ist der Höchst-, Mindest- und Durchschnittspreis?"
   ]
  },
  {
   "cell_type": "code",
   "execution_count": 82,
   "id": "ccba228c-cc8b-4ba0-9854-69b33d6c19ed",
   "metadata": {},
   "outputs": [
    {
     "data": {
      "text/plain": [
       "(165482.31, 21471.65, 88975.19871376813)"
      ]
     },
     "execution_count": 82,
     "metadata": {},
     "output_type": "execute_result"
    }
   ],
   "source": [
    "max_preis = kunden_geo[\"Preis\"].max()\n",
    "min_preis = kunden_geo[\"Preis\"].min()\n",
    "durchschnitt_preis = kunden_geo[\"Preis\"].mean()\n",
    "\n",
    "max_preis, min_preis, durchschnitt_preis"
   ]
  },
  {
   "cell_type": "code",
   "execution_count": 83,
   "id": "51e70578-817c-4d78-9faa-165558c25890",
   "metadata": {},
   "outputs": [],
   "source": [
    "# Antwort zu Frage 2: Höchstpreis = 165.482,31, Mindestpreis = 21.471,65 und Durchschnittspreis = 88.975,20"
   ]
  },
  {
   "cell_type": "markdown",
   "id": "980b38c9-ebde-48ee-9132-78812447647f",
   "metadata": {},
   "source": [
    "### Frage 3: Wie hoch war der Gesamtumsatz?"
   ]
  },
  {
   "cell_type": "code",
   "execution_count": 84,
   "id": "a71e79da-f9ea-4ec2-a75d-7bb32b65c9b1",
   "metadata": {},
   "outputs": [
    {
     "data": {
      "text/plain": [
       "98228619.38000001"
      ]
     },
     "execution_count": 84,
     "metadata": {},
     "output_type": "execute_result"
    }
   ],
   "source": [
    "gesamtumsatz = kunden_geo[\"Preis\"].sum()\n",
    "gesamtumsatz\n"
   ]
  },
  {
   "cell_type": "code",
   "execution_count": 85,
   "id": "57058795-a8ce-4fc3-9ae8-91c0a15426ae",
   "metadata": {},
   "outputs": [],
   "source": [
    "# Antwort zu Frage 3: Gesamtumsatz = 98.228.619,38 "
   ]
  },
  {
   "cell_type": "code",
   "execution_count": 86,
   "id": "be5a34bf-d0bc-4b48-81aa-b82614f55cda",
   "metadata": {},
   "outputs": [
    {
     "data": {
      "text/plain": [
       "'165,482.31€'"
      ]
     },
     "execution_count": 86,
     "metadata": {},
     "output_type": "execute_result"
    }
   ],
   "source": [
    "# Formattierung der Werte in EUR \n",
    "def form_eur(wert):\n",
    "    return \"{:,.2f}€\".format(wert)\n",
    "\n",
    "max_preis_eur = form_eur(max_preis)\n",
    "min_preis_eur = form_eur(min_preis)\n",
    "durchschnitt_preis_eur = form_eur(durchschnitt_preis)\n",
    "gesamtumsatz_eur = form_eur(gesamtumsatz)\n",
    "max_preis_eur"
   ]
  },
  {
   "cell_type": "code",
   "execution_count": 87,
   "id": "8c3e00b1-9dcf-425e-bc75-ee49a5932da9",
   "metadata": {},
   "outputs": [
    {
     "data": {
      "text/html": [
       "<div>\n",
       "<style scoped>\n",
       "    .dataframe tbody tr th:only-of-type {\n",
       "        vertical-align: middle;\n",
       "    }\n",
       "\n",
       "    .dataframe tbody tr th {\n",
       "        vertical-align: top;\n",
       "    }\n",
       "\n",
       "    .dataframe thead th {\n",
       "        text-align: right;\n",
       "    }\n",
       "</style>\n",
       "<table border=\"1\" class=\"dataframe\">\n",
       "  <thead>\n",
       "    <tr style=\"text-align: right;\">\n",
       "      <th></th>\n",
       "      <th>Maximaler Verkaufspreis</th>\n",
       "      <th>Minimaler Verkaufspreis</th>\n",
       "      <th>Durchschnittspreis</th>\n",
       "      <th>Gesamtumsatz</th>\n",
       "    </tr>\n",
       "  </thead>\n",
       "  <tbody>\n",
       "    <tr>\n",
       "      <th>0</th>\n",
       "      <td>165,482.31€</td>\n",
       "      <td>21,471.65€</td>\n",
       "      <td>88,975.20€</td>\n",
       "      <td>98,228,619.38€</td>\n",
       "    </tr>\n",
       "  </tbody>\n",
       "</table>\n",
       "</div>"
      ],
      "text/plain": [
       "  Maximaler Verkaufspreis Minimaler Verkaufspreis Durchschnittspreis  \\\n",
       "0             165,482.31€              21,471.65€         88,975.20€   \n",
       "\n",
       "     Gesamtumsatz  \n",
       "0  98,228,619.38€  "
      ]
     },
     "metadata": {},
     "output_type": "display_data"
    }
   ],
   "source": [
    "# Erstellung einer Preisübersicht\n",
    "Preisübersicht = pd.DataFrame({\n",
    "    \"Maximaler Verkaufspreis\" : [max_preis_eur],\n",
    "    \"Minimaler Verkaufspreis\" : [min_preis_eur],\n",
    "    \"Durchschnittspreis\" : [durchschnitt_preis_eur],\n",
    "    \"Gesamtumsatz\" : [gesamtumsatz_eur]\n",
    "})\n",
    "display(Preisübersicht)"
   ]
  },
  {
   "cell_type": "markdown",
   "id": "b83fa1e2-a4b1-48ea-b4d6-2c8d916dda3e",
   "metadata": {},
   "source": [
    "### Frage 4: Wie viele Autos wurden pro Bundesland verkauft?"
   ]
  },
  {
   "cell_type": "code",
   "execution_count": 88,
   "id": "e0b69c7d-f90b-46b1-a02b-be4ed0b967b3",
   "metadata": {
    "slideshow": {
     "slide_type": ""
    },
    "tags": []
   },
   "outputs": [
    {
     "data": {
      "text/plain": [
       "Niederlassung\n",
       "Baden-Württemberg      205\n",
       "Bayern                 188\n",
       "Nordrhein-Westfalen    175\n",
       "Berlin                 126\n",
       "Hessen                  96\n",
       "Niedersachsen           96\n",
       "Sachsen                 89\n",
       "Thüringen               49\n",
       "Hamburg                 43\n",
       "Brandenburg             37\n",
       "Name: count, dtype: int64"
      ]
     },
     "execution_count": 88,
     "metadata": {},
     "output_type": "execute_result"
    }
   ],
   "source": [
    "autos_pro_bundesland = kunden_geo[\"Niederlassung\"].value_counts()\n",
    "autos_pro_bundesland\n"
   ]
  },
  {
   "cell_type": "code",
   "execution_count": 89,
   "id": "359dd30a-c13f-43f6-9486-eaa5c657b6cd",
   "metadata": {},
   "outputs": [
    {
     "data": {
      "image/png": "[encoded data removed]",
      "text/plain": [
       "<Figure size 1000x600 with 1 Axes>"
      ]
     },
     "metadata": {},
     "output_type": "display_data"
    }
   ],
   "source": [
    "# Erstellen eines Diagramms zur Darstellung\n",
    "# Dataframe\n",
    "daten = {\"Bundesland\" : [\"Baden-Württemberg\" , \"Bayern\" , \"Nordrhein-Westfalen\" , \"Berlin\" , \"Hessen\" , \"Niedersachsen\",\n",
    "                        \"Sachsen\" , \"Thüringen\" , \"Hamburg\" , \"Brandenburg\"] , \n",
    "        \"Verkäufe\" : [205 , 188 , 175 , 126 , 96 , 96 , 89 , 49 , 43 , 37]}\n",
    "\n",
    "df_autos_pro_bundesland = pd.DataFrame(daten)\n",
    "\n",
    "verkäufe_durchschnitt = df_autos_pro_bundesland[\"Verkäufe\"].mean()\n",
    "\n",
    "# Diagramm\n",
    "plt.figure(figsize=(10, 6))\n",
    "diagramm = plt.bar(df_autos_pro_bundesland[\"Bundesland\"],df_autos_pro_bundesland[\"Verkäufe\"], color=\"lightsteelblue\")\n",
    "plt.axhline(y=verkäufe_durchschnitt, color='red', linestyle='--', linewidth=2)\n",
    "\n",
    "for bar in diagramm:\n",
    "    height = bar.get_height()\n",
    "    plt.text(bar.get_x() + bar.get_width() / 2, height, f\"{int(height)}\", ha = \"center\", va = \"center_baseline\", fontsize=10)\n",
    "    \n",
    "plt.title(\"Anzahl der verkauften Autos pro Bundesland\")\n",
    "plt.xlabel(\"Bundesland\")\n",
    "plt.ylabel(\"Anzahl der verkauften Autos\")\n",
    "plt.xticks(rotation=45, ha='right')  \n",
    "plt.tight_layout()\n",
    "plt.show()"
   ]
  },
  {
   "cell_type": "code",
   "execution_count": 90,
   "id": "f8c048c7-1715-423d-a872-9920d668ae31",
   "metadata": {},
   "outputs": [],
   "source": [
    "# Antwort zu Frage 4: siehe Diagramm"
   ]
  },
  {
   "cell_type": "markdown",
   "id": "eb1eb12c-6d1d-4d08-9358-a5e0c74e1f55",
   "metadata": {},
   "source": [
    "### Frage 5: Wie hoch war der durchschnittliche Umsatz (vermutlich ist Preis gemeint) pro Bundesland?"
   ]
  },
  {
   "cell_type": "code",
   "execution_count": 91,
   "id": "df37090c-5e4e-47ee-a4c7-43e79d5d6233",
   "metadata": {},
   "outputs": [
    {
     "data": {
      "text/plain": [
       "Niederlassung\n",
       "Baden-Württemberg      90969.56\n",
       "Bayern                 89344.31\n",
       "Berlin                 89584.98\n",
       "Brandenburg            86673.64\n",
       "Hamburg                85549.50\n",
       "Hessen                 85864.93\n",
       "Niedersachsen          87963.31\n",
       "Nordrhein-Westfalen    88633.27\n",
       "Sachsen                89455.08\n",
       "Thüringen              90816.99\n",
       "Name: Preis, dtype: float64"
      ]
     },
     "execution_count": 91,
     "metadata": {},
     "output_type": "execute_result"
    }
   ],
   "source": [
    "umsatz_pro_bundesland = kunden_geo.groupby(\"Niederlassung\")[\"Preis\"].agg(\"mean\")\n",
    "umsatz_pro_bundesland = umsatz_pro_bundesland.round(2)\n",
    "umsatz_pro_bundesland"
   ]
  },
  {
   "cell_type": "code",
   "execution_count": 92,
   "id": "2a09408b-4db1-4b92-9cdb-d109cda49c5a",
   "metadata": {},
   "outputs": [
    {
     "data": {
      "image/png": "[encoded data removed]",
      "text/plain": [
       "<Figure size 1000x600 with 1 Axes>"
      ]
     },
     "metadata": {},
     "output_type": "display_data"
    }
   ],
   "source": [
    "# Erstellen eines Diagramms zur Darstellung\n",
    "# Dataframe\n",
    "daten2 = {\"Bundesland\" : [\"Baden-Württemberg\" , \"Bayern\" , \"Nordrhein-Westfalen\" , \"Berlin\" , \"Hessen\" , \"Niedersachsen\",\n",
    "                        \"Sachsen\" , \"Thüringen\" , \"Hamburg\" , \"Brandenburg\"] , \n",
    "        \"Umsatz\" : [90969.56 , 89344.31 , 89584.98 , 86673.64 , 85549.50 , 85864.93 , 87963.31 , 88633.27 , 89455.08 , 90816.99]}\n",
    "\n",
    "df_umsatz_pro_bundesland = pd.DataFrame(daten2)\n",
    "\n",
    "# Diagramm\n",
    "plt.figure(figsize=(10, 6))\n",
    "diagramm2 = plt.bar(df_umsatz_pro_bundesland[\"Bundesland\"],df_umsatz_pro_bundesland[\"Umsatz\"], color=\"lightsteelblue\")\n",
    "\n",
    "for bar in diagramm2:\n",
    "    height = bar.get_height()\n",
    "    plt.text(bar.get_x() + bar.get_width() / 2, height, f\"{int(height)}\", ha = \"center\", va = \"center_baseline\", fontsize=10)\n",
    "\n",
    "plt.title(\"Umsatz pro Bundesland\")\n",
    "plt.xlabel(\"Bundesland\")\n",
    "plt.ylabel(\"Umsatz (in €)\")\n",
    "plt.xticks(rotation=45, ha='right')  \n",
    "plt.tight_layout()\n",
    "plt.show()\n"
   ]
  },
  {
   "cell_type": "code",
   "execution_count": 93,
   "id": "738fc09e-89bd-45dc-8588-e8a6b3bc549d",
   "metadata": {},
   "outputs": [],
   "source": [
    "# Antwort zu Frage 5: siehe Diagramm"
   ]
  },
  {
   "cell_type": "markdown",
   "id": "bd377ac2-bea4-40b9-a6b5-7b772f9ee352",
   "metadata": {},
   "source": [
    "### Frage 6: In welchem Bundesland wurde das teuerste Auto verkauft?"
   ]
  },
  {
   "cell_type": "code",
   "execution_count": 94,
   "id": "6f610c80-ebeb-4a67-a270-af57883c32db",
   "metadata": {},
   "outputs": [
    {
     "data": {
      "text/plain": [
       "'Niedersachsen'"
      ]
     },
     "execution_count": 94,
     "metadata": {},
     "output_type": "execute_result"
    }
   ],
   "source": [
    "teuerstes_auto_bundesland = kunden_geo.loc[kunden_geo[\"Preis\"].idxmax()][\"Niederlassung\"]\n",
    "teuerstes_auto_bundesland"
   ]
  },
  {
   "cell_type": "code",
   "execution_count": 95,
   "id": "a0ede2d9-37eb-4717-a946-c2788c488ff0",
   "metadata": {},
   "outputs": [],
   "source": [
    "# Antwort zu Frage 6: Das teuerste Auto wurde in Niedersachsen verkauft"
   ]
  },
  {
   "cell_type": "markdown",
   "id": "0c123aa4-ec00-4c2f-b8fb-e7b1a6b57403",
   "metadata": {},
   "source": [
    "### Frage 7: Haben mehr Frauen oder Männer unsere Autos gekauft?"
   ]
  },
  {
   "cell_type": "code",
   "execution_count": 96,
   "id": "b4fdd350-b83b-420c-9770-fc8b012b4812",
   "metadata": {},
   "outputs": [
    {
     "data": {
      "image/png": "[encoded data removed]",
      "text/plain": [
       "<Figure size 640x480 with 1 Axes>"
      ]
     },
     "metadata": {},
     "output_type": "display_data"
    }
   ],
   "source": [
    "geschlecht_vergleich = kunden_geo[\"Geschlecht\"].value_counts()\n",
    "\n",
    "labels = [\"männlich\", \"weiblich\"]\n",
    "sizes = [700,400]\n",
    "colors = [\"lightblue\",\"lightpink\"]\n",
    "plt.pie(sizes, labels = labels, colors = colors, autopct = \"%1.1f%%\", startangle = 90)\n",
    "plt.axis(\"equal\")\n",
    "plt.title(\"Verteilung der verkauften Autos nach Geschlecht\")\n",
    "plt.show()\n"
   ]
  },
  {
   "cell_type": "code",
   "execution_count": 97,
   "id": "e6c7d95d-766a-47b1-a6d2-a3a244f1b406",
   "metadata": {},
   "outputs": [],
   "source": [
    "# Antwort zu Frage 7: Es haben mehr Männer unsere Autos gekauft"
   ]
  },
  {
   "cell_type": "markdown",
   "id": "c725b277-7bd9-4f3f-9f4e-dc71d40cff15",
   "metadata": {},
   "source": [
    "### Frage 8: Wie hoch ist das Durchschnittsalter unserer Kunden? Wie hoch ist das Durchschnittsalter unserer Besucher?"
   ]
  },
  {
   "cell_type": "code",
   "execution_count": 98,
   "id": "a83d6c38-c939-411d-ad9f-6e0a898ea196",
   "metadata": {},
   "outputs": [
    {
     "data": {
      "text/plain": [
       "(50.375, 49.88103254769921)"
      ]
     },
     "execution_count": 98,
     "metadata": {},
     "output_type": "execute_result"
    }
   ],
   "source": [
    "durchschnittsalter_kunden = kunden_geo[\"Alter\"].mean()\n",
    "durchschnittsalter_besucher = besucher_geo[\"Alter\"].mean()\n",
    "\n",
    "durchschnittsalter_kunden, durchschnittsalter_besucher"
   ]
  },
  {
   "cell_type": "code",
   "execution_count": 99,
   "id": "84ab233c-9671-4c52-baa8-c7b05f10cbf6",
   "metadata": {},
   "outputs": [],
   "source": [
    "# Antwort zu Frage 8: Das Durchschnittsalter unserer Kunden ist 50,38 Jahre und das Durchschnittsalter unserer Besucher ist 49,88 Jahre"
   ]
  },
  {
   "cell_type": "markdown",
   "id": "32f401cd-d47e-4a54-9eff-a0debf3419cc",
   "metadata": {},
   "source": [
    "### Frage 9: Wie hoch ist das Durchschnittseinkommen unserer Kunden? Wie hoch ist das Durchschnittseinkommen unserer Besucher?"
   ]
  },
  {
   "cell_type": "code",
   "execution_count": 100,
   "id": "c56c7e7e-c117-4112-9a49-a71d41695e82",
   "metadata": {},
   "outputs": [
    {
     "data": {
      "text/plain": [
       "(58850.907608695656, 59367.93265993266)"
      ]
     },
     "execution_count": 100,
     "metadata": {},
     "output_type": "execute_result"
    }
   ],
   "source": [
    "durchschnittseinkommen_kunden = kunden_geo[\"Einkommen\"].mean()\n",
    "durchschnittseinkommen_besucher = besucher_geo[\"Einkommen\"].mean()\n",
    "\n",
    "durchschnittseinkommen_kunden, durchschnittseinkommen_besucher\n"
   ]
  },
  {
   "cell_type": "code",
   "execution_count": 101,
   "id": "dfeb26a8-9949-4628-8603-ac6c277424be",
   "metadata": {},
   "outputs": [],
   "source": [
    "# Antwort zu Frage 9: Das Durchschnittseinkommen unserer Kunden ist 58.850,91 und das Durchschnittseinkommen unserer Besucher ist 59.367,93"
   ]
  },
  {
   "cell_type": "markdown",
   "id": "12a39386",
   "metadata": {},
   "source": [
    "### Frage 10: Gibt es einen statistisch signifikanten Unterschied zwischen dem Durchschnittseinkommen der Kunden und dem der Besucher?"
   ]
  },
  {
   "cell_type": "code",
   "execution_count": 102,
   "id": "76c97210-58b3-436a-9907-d7edb63ed797",
   "metadata": {},
   "outputs": [
    {
     "data": {
      "text/plain": [
       "(-0.7047786382342843, 0.4810335763152168)"
      ]
     },
     "execution_count": 102,
     "metadata": {},
     "output_type": "execute_result"
    }
   ],
   "source": [
    "# H0:μ_kunden = μ_besucher\n",
    "# H1:μ_kunden != μ_besucher\n",
    "# α = 0.05\n",
    "\n",
    "stats.ttest_ind(kunden_geo[\"Einkommen\"], besucher_geo[\"Einkommen\"], equal_var = True) # Version Nici\n",
    "\n",
    "\n",
    "t_stat, p_val = stats.ttest_ind(kunden_geo[\"Einkommen\"].dropna(), besucher_geo[\"Einkommen\"].dropna(), equal_var=False)\n",
    "t_stat, p_val\n",
    "\n",
    "# Teststatistik = -0.7035, p-Wert = 0.4818\n",
    "# Da p-Wert > α , kann die H0 nicht abgelehnt werden. Es liegen nicht genügende Anhaltspunkte vor, dass das Durchschnittseinkommen der Besucher und Kunden unterschiedlich ist"
   ]
  },
  {
   "cell_type": "markdown",
   "id": "c28da68e",
   "metadata": {},
   "source": [
    "### Frage 11: Pearson-Korrelations-Koeffizient zwischen den Variablen Alter, Einkommen, Preis und Zeit"
   ]
  },
  {
   "cell_type": "code",
   "execution_count": 103,
   "id": "31136814",
   "metadata": {},
   "outputs": [
    {
     "data": {
      "image/png": "[encoded data removed]",
      "text/plain": [
       "<Figure size 640x480 with 2 Axes>"
      ]
     },
     "metadata": {},
     "output_type": "display_data"
    }
   ],
   "source": [
    "ausgewählte_spalten = [\"Alter\", \"Einkommen\", \"Preis\", \"Zeit\"]\n",
    "korrelations_matrix = kunden_geo[ausgewählte_spalten].corr(method = 'pearson')\n",
    "\n",
    "sns.heatmap(korrelations_matrix, annot = True, cmap = \"coolwarm\", linewidth = 1)\n",
    "plt.title(\"Korrelationsmatrix\")\n",
    "plt.show()"
   ]
  },
  {
   "cell_type": "markdown",
   "id": "14d10e9f",
   "metadata": {},
   "source": [
    "### Frage 12: ist die Variable Zeit approximativ normalverteilt? (qq-Plot)"
   ]
  },
  {
   "cell_type": "code",
   "execution_count": 113,
   "id": "b95dc825",
   "metadata": {},
   "outputs": [
    {
     "data": {
      "image/png": "[encoded data removed]",
      "text/plain": [
       "<Figure size 800x600 with 1 Axes>"
      ]
     },
     "metadata": {},
     "output_type": "display_data"
    }
   ],
   "source": [
    "zeit = df_final[\"Zeit\"]\n",
    "\n",
    "# qq-Plot erstellen:\n",
    "plt.figure(figsize = (8, 6))\n",
    "stats.probplot(zeit, dist=\"norm\", plot=plt)\n",
    "plt.title('QQ-Plot der Variable \"Zeit\"')\n",
    "plt.xlabel('Theoretische Quantile')\n",
    "plt.ylabel('Beobachtete Quantile')\n",
    "plt.show()\n",
    "# da die Punkte entlang einer geraden Linie verlaufen kann davon ausgegangen werden, dass die Daten approvimativ normalverteilt sind\n"
   ]
  },
  {
   "cell_type": "markdown",
   "id": "c3cb4c52",
   "metadata": {},
   "source": [
    "### Frage 13: Wie viele Kunden haben keinen Bankkredit aufgenommen, um ein Auto zu kaufen? Also wie viele Kunden haben ein Jahreseinkommen, das über dem Autopreis liegt?"
   ]
  },
  {
   "cell_type": "code",
   "execution_count": 105,
   "id": "19a0652f",
   "metadata": {},
   "outputs": [
    {
     "data": {
      "text/plain": [
       "5"
      ]
     },
     "execution_count": 105,
     "metadata": {},
     "output_type": "execute_result"
    }
   ],
   "source": [
    "bedingung_einkommen_größer_preis = kunden_geo[\"Einkommen\"] > kunden_geo[\"Preis\"]\n",
    "count_einkommen_größer_preis = bedingung_einkommen_größer_preis.sum()\n",
    "count_einkommen_größer_preis\n",
    "# 5 Kunden haben keinen Kredit aufnehmen müssen, um das Auto zu kaufen"
   ]
  },
  {
   "cell_type": "markdown",
   "id": "89f153b7",
   "metadata": {},
   "source": [
    "### 14: welche sozioökonomischen Merkmale beeinflussen den Kaufpreis? Schätzen Sie eine Regression."
   ]
  },
  {
   "cell_type": "code",
   "execution_count": 106,
   "id": "a8997005",
   "metadata": {},
   "outputs": [
    {
     "data": {
      "text/html": [
       "<table class=\"simpletable\">\n",
       "<caption>OLS Regression Results</caption>\n",
       "<tr>\n",
       "  <th>Dep. Variable:</th>          <td>Preis</td>      <th>  R-squared:         </th> <td>   0.822</td> \n",
       "</tr>\n",
       "<tr>\n",
       "  <th>Model:</th>                   <td>OLS</td>       <th>  Adj. R-squared:    </th> <td>   0.821</td> \n",
       "</tr>\n",
       "<tr>\n",
       "  <th>Method:</th>             <td>Least Squares</td>  <th>  F-statistic:       </th> <td>   1692.</td> \n",
       "</tr>\n",
       "<tr>\n",
       "  <th>Date:</th>             <td>Wed, 26 Jun 2024</td> <th>  Prob (F-statistic):</th>  <td>  0.00</td>  \n",
       "</tr>\n",
       "<tr>\n",
       "  <th>Time:</th>                 <td>16:35:54</td>     <th>  Log-Likelihood:    </th> <td> -11770.</td> \n",
       "</tr>\n",
       "<tr>\n",
       "  <th>No. Observations:</th>      <td>  1104</td>      <th>  AIC:               </th> <td>2.355e+04</td>\n",
       "</tr>\n",
       "<tr>\n",
       "  <th>Df Residuals:</th>          <td>  1100</td>      <th>  BIC:               </th> <td>2.357e+04</td>\n",
       "</tr>\n",
       "<tr>\n",
       "  <th>Df Model:</th>              <td>     3</td>      <th>                     </th>     <td> </td>    \n",
       "</tr>\n",
       "<tr>\n",
       "  <th>Covariance Type:</th>      <td>nonrobust</td>    <th>                     </th>     <td> </td>    \n",
       "</tr>\n",
       "</table>\n",
       "<table class=\"simpletable\">\n",
       "<tr>\n",
       "       <td></td>         <th>coef</th>     <th>std err</th>      <th>t</th>      <th>P>|t|</th>  <th>[0.025</th>    <th>0.975]</th>  \n",
       "</tr>\n",
       "<tr>\n",
       "  <th>const</th>      <td>  692.5659</td> <td> 1416.702</td> <td>    0.489</td> <td> 0.625</td> <td>-2087.177</td> <td> 3472.308</td>\n",
       "</tr>\n",
       "<tr>\n",
       "  <th>Alter</th>      <td>  499.5016</td> <td>   40.136</td> <td>   12.445</td> <td> 0.000</td> <td>  420.750</td> <td>  578.253</td>\n",
       "</tr>\n",
       "<tr>\n",
       "  <th>Einkommen</th>  <td>    1.0485</td> <td>    0.029</td> <td>   35.925</td> <td> 0.000</td> <td>    0.991</td> <td>    1.106</td>\n",
       "</tr>\n",
       "<tr>\n",
       "  <th>Geschlecht</th> <td> 2214.9438</td> <td>  648.591</td> <td>    3.415</td> <td> 0.001</td> <td>  942.328</td> <td> 3487.559</td>\n",
       "</tr>\n",
       "</table>\n",
       "<table class=\"simpletable\">\n",
       "<tr>\n",
       "  <th>Omnibus:</th>       <td>40.847</td> <th>  Durbin-Watson:     </th> <td>   2.104</td>\n",
       "</tr>\n",
       "<tr>\n",
       "  <th>Prob(Omnibus):</th> <td> 0.000</td> <th>  Jarque-Bera (JB):  </th> <td>  79.427</td>\n",
       "</tr>\n",
       "<tr>\n",
       "  <th>Skew:</th>          <td> 0.244</td> <th>  Prob(JB):          </th> <td>5.66e-18</td>\n",
       "</tr>\n",
       "<tr>\n",
       "  <th>Kurtosis:</th>      <td> 4.220</td> <th>  Cond. No.          </th> <td>2.81e+05</td>\n",
       "</tr>\n",
       "</table><br/><br/>Notes:<br/>[1] Standard Errors assume that the covariance matrix of the errors is correctly specified.<br/>[2] The condition number is large, 2.81e+05. This might indicate that there are<br/>strong multicollinearity or other numerical problems."
      ],
      "text/latex": [
       "\\begin{center}\n",
       "\\begin{tabular}{lclc}\n",
       "\\toprule\n",
       "\\textbf{Dep. Variable:}    &      Preis       & \\textbf{  R-squared:         } &     0.822   \\\\\n",
       "\\textbf{Model:}            &       OLS        & \\textbf{  Adj. R-squared:    } &     0.821   \\\\\n",
       "\\textbf{Method:}           &  Least Squares   & \\textbf{  F-statistic:       } &     1692.   \\\\\n",
       "\\textbf{Date:}             & Wed, 26 Jun 2024 & \\textbf{  Prob (F-statistic):} &     0.00    \\\\\n",
       "\\textbf{Time:}             &     16:35:54     & \\textbf{  Log-Likelihood:    } &   -11770.   \\\\\n",
       "\\textbf{No. Observations:} &        1104      & \\textbf{  AIC:               } & 2.355e+04   \\\\\n",
       "\\textbf{Df Residuals:}     &        1100      & \\textbf{  BIC:               } & 2.357e+04   \\\\\n",
       "\\textbf{Df Model:}         &           3      & \\textbf{                     } &             \\\\\n",
       "\\textbf{Covariance Type:}  &    nonrobust     & \\textbf{                     } &             \\\\\n",
       "\\bottomrule\n",
       "\\end{tabular}\n",
       "\\begin{tabular}{lcccccc}\n",
       "                    & \\textbf{coef} & \\textbf{std err} & \\textbf{t} & \\textbf{P$> |$t$|$} & \\textbf{[0.025} & \\textbf{0.975]}  \\\\\n",
       "\\midrule\n",
       "\\textbf{const}      &     692.5659  &     1416.702     &     0.489  &         0.625        &    -2087.177    &     3472.308     \\\\\n",
       "\\textbf{Alter}      &     499.5016  &       40.136     &    12.445  &         0.000        &      420.750    &      578.253     \\\\\n",
       "\\textbf{Einkommen}  &       1.0485  &        0.029     &    35.925  &         0.000        &        0.991    &        1.106     \\\\\n",
       "\\textbf{Geschlecht} &    2214.9438  &      648.591     &     3.415  &         0.001        &      942.328    &     3487.559     \\\\\n",
       "\\bottomrule\n",
       "\\end{tabular}\n",
       "\\begin{tabular}{lclc}\n",
       "\\textbf{Omnibus:}       & 40.847 & \\textbf{  Durbin-Watson:     } &    2.104  \\\\\n",
       "\\textbf{Prob(Omnibus):} &  0.000 & \\textbf{  Jarque-Bera (JB):  } &   79.427  \\\\\n",
       "\\textbf{Skew:}          &  0.244 & \\textbf{  Prob(JB):          } & 5.66e-18  \\\\\n",
       "\\textbf{Kurtosis:}      &  4.220 & \\textbf{  Cond. No.          } & 2.81e+05  \\\\\n",
       "\\bottomrule\n",
       "\\end{tabular}\n",
       "%\\caption{OLS Regression Results}\n",
       "\\end{center}\n",
       "\n",
       "Notes: \\newline\n",
       " [1] Standard Errors assume that the covariance matrix of the errors is correctly specified. \\newline\n",
       " [2] The condition number is large, 2.81e+05. This might indicate that there are \\newline\n",
       " strong multicollinearity or other numerical problems."
      ],
      "text/plain": [
       "<class 'statsmodels.iolib.summary.Summary'>\n",
       "\"\"\"\n",
       "                            OLS Regression Results                            \n",
       "==============================================================================\n",
       "Dep. Variable:                  Preis   R-squared:                       0.822\n",
       "Model:                            OLS   Adj. R-squared:                  0.821\n",
       "Method:                 Least Squares   F-statistic:                     1692.\n",
       "Date:                Wed, 26 Jun 2024   Prob (F-statistic):               0.00\n",
       "Time:                        16:35:54   Log-Likelihood:                -11770.\n",
       "No. Observations:                1104   AIC:                         2.355e+04\n",
       "Df Residuals:                    1100   BIC:                         2.357e+04\n",
       "Df Model:                           3                                         \n",
       "Covariance Type:            nonrobust                                         \n",
       "==============================================================================\n",
       "                 coef    std err          t      P>|t|      [0.025      0.975]\n",
       "------------------------------------------------------------------------------\n",
       "const        692.5659   1416.702      0.489      0.625   -2087.177    3472.308\n",
       "Alter        499.5016     40.136     12.445      0.000     420.750     578.253\n",
       "Einkommen      1.0485      0.029     35.925      0.000       0.991       1.106\n",
       "Geschlecht  2214.9438    648.591      3.415      0.001     942.328    3487.559\n",
       "==============================================================================\n",
       "Omnibus:                       40.847   Durbin-Watson:                   2.104\n",
       "Prob(Omnibus):                  0.000   Jarque-Bera (JB):               79.427\n",
       "Skew:                           0.244   Prob(JB):                     5.66e-18\n",
       "Kurtosis:                       4.220   Cond. No.                     2.81e+05\n",
       "==============================================================================\n",
       "\n",
       "Notes:\n",
       "[1] Standard Errors assume that the covariance matrix of the errors is correctly specified.\n",
       "[2] The condition number is large, 2.81e+05. This might indicate that there are\n",
       "strong multicollinearity or other numerical problems.\n",
       "\"\"\""
      ]
     },
     "execution_count": 106,
     "metadata": {},
     "output_type": "execute_result"
    }
   ],
   "source": [
    "# unabhängige Variablen: Alter, Einkommen, Geschlecht\n",
    "# abhängige Variable: Preis\n",
    "\n",
    "y_kunden = kunden_geo[\"Preis\"]\n",
    "\n",
    "X_kunden = kunden_geo[['Alter', 'Einkommen', 'Geschlecht']]\n",
    "\n",
    "X_kunden = sm.add_constant(X_kunden)  # Konstante für den Intercept\n",
    "                \n",
    "model_kunden = sm.OLS(y_kunden, X_kunden).fit()\n",
    "model_kunden.summary()\n",
    "# Regression: Preis = 692.5659 +499.5016*Alter +1.0485*Einkommen + 2214.9438*Geschlecht\n",
    "# alle drei Faktoren haben einen statistischen Einfluss auf den Preis"
   ]
  },
  {
   "cell_type": "markdown",
   "id": "76e07db6",
   "metadata": {},
   "source": [
    "### 15: Prognose des Kaufpreises für 32-jährigen männlichen Kunden mit Einkommen von 30 000 Euro. Prognose des Kaufpreises für einen männlichen Kunden von 51 Jahren und Einkommen von 54 000 Euro."
   ]
  },
  {
   "cell_type": "code",
   "execution_count": 107,
   "id": "622ec0b0",
   "metadata": {},
   "outputs": [
    {
     "data": {
      "text/plain": [
       "0    50345.858611\n",
       "1    84999.827319\n",
       "dtype: float64"
      ]
     },
     "execution_count": 107,
     "metadata": {},
     "output_type": "execute_result"
    }
   ],
   "source": [
    "X_predict_kunden = pd.DataFrame({\n",
    "    'Alter': [32, 51],\n",
    "    'Einkommen': [30000, 54000],\n",
    "    'Geschlecht': [1,1]\n",
    "})\n",
    "\n",
    "X_predict_kunden = sm.add_constant(X_predict_kunden, has_constant='add')\n",
    "\n",
    "prediction_kunden = model_kunden.predict(X_predict_kunden)\n",
    "\n",
    "prediction_kunden\n",
    "# Das Modell schätzt den Kaufpreis eines 32-jährigen männlichen Kundens mit Einkommen von 30 000 Euro auf 50345.86 Euro\n",
    "# Das Modell schätzt den Kaufpreis eines 51-jährigen männlichen Kundens mit Einkommen von 54 000 Euro auf 84999.83 Euro\n",
    "\n"
   ]
  },
  {
   "cell_type": "markdown",
   "id": "cd239c22",
   "metadata": {},
   "source": [
    "### 16: Welche Variable beeinflusst den Autopreis am meisten? Vergleichbarkeit der Regressionskoeffizienten durch logistische Regression."
   ]
  },
  {
   "cell_type": "code",
   "execution_count": 108,
   "id": "d618996b",
   "metadata": {},
   "outputs": [
    {
     "data": {
      "text/plain": [
       "Intercept    -0.000000\n",
       "Alter         0.244021\n",
       "Einkommen     0.704733\n",
       "Geschlecht    0.043492\n",
       "dtype: float64"
      ]
     },
     "execution_count": 108,
     "metadata": {},
     "output_type": "execute_result"
    }
   ],
   "source": [
    "# unabhängige Variablen: Alter, Einkommen, Geschlecht\n",
    "# abhängige Variable: Preis\n",
    "\n",
    "# Standardisierung\n",
    "X_stand = kunden_geo[['Alter', 'Einkommen', 'Geschlecht', \"Preis\"]]\n",
    "Standard = X_stand.select_dtypes(include=[np.number]).dropna().apply(stats.zscore)\n",
    "\n",
    "# Regression\n",
    "regression = 'Preis ~ Alter + Einkommen + Geschlecht' \n",
    "result = smf.ols(regression, data=Standard).fit()\n",
    "\n",
    "# Betas \n",
    "round(result.params, 6)\n",
    "\n",
    "# Den meisten Einfluss auf den Autopreis hat das Einkommen mit einem Beta von rund 0,7.\n"
   ]
  },
  {
   "cell_type": "markdown",
   "id": "74261642",
   "metadata": {},
   "source": [
    "### 17: Schätzen Sie eine Regression, die die Wahrscheinlichkeit des Kaufs eines Autos ermittelt"
   ]
  },
  {
   "cell_type": "code",
   "execution_count": 109,
   "id": "180c4e09",
   "metadata": {},
   "outputs": [
    {
     "data": {
      "text/html": [
       "<div>\n",
       "<style scoped>\n",
       "    .dataframe tbody tr th:only-of-type {\n",
       "        vertical-align: middle;\n",
       "    }\n",
       "\n",
       "    .dataframe tbody tr th {\n",
       "        vertical-align: top;\n",
       "    }\n",
       "\n",
       "    .dataframe thead th {\n",
       "        text-align: right;\n",
       "    }\n",
       "</style>\n",
       "<table border=\"1\" class=\"dataframe\">\n",
       "  <thead>\n",
       "    <tr style=\"text-align: right;\">\n",
       "      <th></th>\n",
       "      <th>Alter</th>\n",
       "      <th>Einkommen</th>\n",
       "      <th>Preis</th>\n",
       "      <th>Geschlecht</th>\n",
       "      <th>Zeit</th>\n",
       "      <th>KundeNr</th>\n",
       "      <th>Niederlassung</th>\n",
       "      <th>Kauf</th>\n",
       "    </tr>\n",
       "  </thead>\n",
       "  <tbody>\n",
       "    <tr>\n",
       "      <th>0</th>\n",
       "      <td>64</td>\n",
       "      <td>66894.0</td>\n",
       "      <td>88160.31</td>\n",
       "      <td>1</td>\n",
       "      <td>43.0</td>\n",
       "      <td>K0310</td>\n",
       "      <td>Bayern</td>\n",
       "      <td>1</td>\n",
       "    </tr>\n",
       "    <tr>\n",
       "      <th>1</th>\n",
       "      <td>54</td>\n",
       "      <td>77644.0</td>\n",
       "      <td>103145.70</td>\n",
       "      <td>1</td>\n",
       "      <td>40.0</td>\n",
       "      <td>K1042</td>\n",
       "      <td>Berlin</td>\n",
       "      <td>1</td>\n",
       "    </tr>\n",
       "    <tr>\n",
       "      <th>2</th>\n",
       "      <td>55</td>\n",
       "      <td>44341.0</td>\n",
       "      <td>80565.16</td>\n",
       "      <td>0</td>\n",
       "      <td>37.0</td>\n",
       "      <td>K0382</td>\n",
       "      <td>Baden-Württemberg</td>\n",
       "      <td>1</td>\n",
       "    </tr>\n",
       "    <tr>\n",
       "      <th>3</th>\n",
       "      <td>49</td>\n",
       "      <td>67271.0</td>\n",
       "      <td>83949.89</td>\n",
       "      <td>0</td>\n",
       "      <td>42.0</td>\n",
       "      <td>K0498</td>\n",
       "      <td>Bayern</td>\n",
       "      <td>1</td>\n",
       "    </tr>\n",
       "    <tr>\n",
       "      <th>4</th>\n",
       "      <td>46</td>\n",
       "      <td>49832.0</td>\n",
       "      <td>93781.58</td>\n",
       "      <td>0</td>\n",
       "      <td>41.0</td>\n",
       "      <td>K0552</td>\n",
       "      <td>Hessen</td>\n",
       "      <td>1</td>\n",
       "    </tr>\n",
       "    <tr>\n",
       "      <th>...</th>\n",
       "      <td>...</td>\n",
       "      <td>...</td>\n",
       "      <td>...</td>\n",
       "      <td>...</td>\n",
       "      <td>...</td>\n",
       "      <td>...</td>\n",
       "      <td>...</td>\n",
       "      <td>...</td>\n",
       "    </tr>\n",
       "    <tr>\n",
       "      <th>886</th>\n",
       "      <td>32</td>\n",
       "      <td>34392.0</td>\n",
       "      <td>NaN</td>\n",
       "      <td>1</td>\n",
       "      <td>48.0</td>\n",
       "      <td>K1211</td>\n",
       "      <td>Hessen</td>\n",
       "      <td>0</td>\n",
       "    </tr>\n",
       "    <tr>\n",
       "      <th>887</th>\n",
       "      <td>41</td>\n",
       "      <td>68516.0</td>\n",
       "      <td>NaN</td>\n",
       "      <td>0</td>\n",
       "      <td>34.0</td>\n",
       "      <td>K1375</td>\n",
       "      <td>Sachsen</td>\n",
       "      <td>0</td>\n",
       "    </tr>\n",
       "    <tr>\n",
       "      <th>888</th>\n",
       "      <td>65</td>\n",
       "      <td>89685.0</td>\n",
       "      <td>NaN</td>\n",
       "      <td>0</td>\n",
       "      <td>23.0</td>\n",
       "      <td>K1965</td>\n",
       "      <td>Bayern</td>\n",
       "      <td>0</td>\n",
       "    </tr>\n",
       "    <tr>\n",
       "      <th>889</th>\n",
       "      <td>68</td>\n",
       "      <td>95714.0</td>\n",
       "      <td>NaN</td>\n",
       "      <td>0</td>\n",
       "      <td>32.0</td>\n",
       "      <td>K1540</td>\n",
       "      <td>Bayern</td>\n",
       "      <td>0</td>\n",
       "    </tr>\n",
       "    <tr>\n",
       "      <th>890</th>\n",
       "      <td>49</td>\n",
       "      <td>73319.0</td>\n",
       "      <td>NaN</td>\n",
       "      <td>0</td>\n",
       "      <td>27.0</td>\n",
       "      <td>K1207</td>\n",
       "      <td>Niedersachsen</td>\n",
       "      <td>0</td>\n",
       "    </tr>\n",
       "  </tbody>\n",
       "</table>\n",
       "<p>1995 rows × 8 columns</p>\n",
       "</div>"
      ],
      "text/plain": [
       "     Alter  Einkommen      Preis  Geschlecht  Zeit KundeNr      Niederlassung  \\\n",
       "0       64    66894.0   88160.31           1  43.0   K0310             Bayern   \n",
       "1       54    77644.0  103145.70           1  40.0   K1042             Berlin   \n",
       "2       55    44341.0   80565.16           0  37.0   K0382  Baden-Württemberg   \n",
       "3       49    67271.0   83949.89           0  42.0   K0498             Bayern   \n",
       "4       46    49832.0   93781.58           0  41.0   K0552             Hessen   \n",
       "..     ...        ...        ...         ...   ...     ...                ...   \n",
       "886     32    34392.0        NaN           1  48.0   K1211             Hessen   \n",
       "887     41    68516.0        NaN           0  34.0   K1375            Sachsen   \n",
       "888     65    89685.0        NaN           0  23.0   K1965             Bayern   \n",
       "889     68    95714.0        NaN           0  32.0   K1540             Bayern   \n",
       "890     49    73319.0        NaN           0  27.0   K1207      Niedersachsen   \n",
       "\n",
       "     Kauf  \n",
       "0       1  \n",
       "1       1  \n",
       "2       1  \n",
       "3       1  \n",
       "4       1  \n",
       "..    ...  \n",
       "886     0  \n",
       "887     0  \n",
       "888     0  \n",
       "889     0  \n",
       "890     0  \n",
       "\n",
       "[1995 rows x 8 columns]"
      ]
     },
     "execution_count": 109,
     "metadata": {},
     "output_type": "execute_result"
    }
   ],
   "source": [
    "# spalte einfügen, ob Kunde = 1 oder Besucher = 0\n",
    "kunden_geo['Kauf'] = 1\n",
    "besucher_geo['Kauf'] = 0\n",
    "\n",
    "# Besucher unter Kunden anfügen\n",
    "daten_alle = pd.concat([kunden_geo, besucher_geo])\n",
    "\n",
    "# Überprüfung ob Käufer = 1 und Besucher = 0\n",
    "daten_alle"
   ]
  },
  {
   "cell_type": "code",
   "execution_count": 110,
   "id": "f0c12923-f96c-45ca-8b2c-d0651edb7f5e",
   "metadata": {},
   "outputs": [
    {
     "name": "stdout",
     "output_type": "stream",
     "text": [
      "Optimization terminated successfully.\n",
      "         Current function value: 0.578825\n",
      "         Iterations 6\n",
      "                           Logit Regression Results                           \n",
      "==============================================================================\n",
      "Dep. Variable:                   Kauf   No. Observations:                 1995\n",
      "Model:                          Logit   Df Residuals:                     1990\n",
      "Method:                           MLE   Df Model:                            4\n",
      "Date:                Wed, 26 Jun 2024   Pseudo R-squ.:                  0.1580\n",
      "Time:                        16:35:54   Log-Likelihood:                -1154.8\n",
      "converged:                       True   LL-Null:                       -1371.4\n",
      "Covariance Type:            nonrobust   LLR p-value:                 1.715e-92\n",
      "==============================================================================\n",
      "                 coef    std err          z      P>|z|      [0.025      0.975]\n",
      "------------------------------------------------------------------------------\n",
      "const         -2.4360      0.264     -9.242      0.000      -2.953      -1.919\n",
      "Alter          0.0183      0.007      2.662      0.008       0.005       0.032\n",
      "Einkommen  -4.243e-05   5.44e-06     -7.801      0.000   -5.31e-05   -3.18e-05\n",
      "Geschlecht     0.2455      0.103      2.383      0.017       0.044       0.447\n",
      "Zeit           0.1022      0.006     17.535      0.000       0.091       0.114\n",
      "==============================================================================\n"
     ]
    }
   ],
   "source": [
    "# Regression\n",
    "y_lg = daten_alle[\"Kauf\"]\n",
    "\n",
    "X_lg = daten_alle[['Alter', 'Einkommen', 'Geschlecht', 'Zeit']]\n",
    "\n",
    "X_lg = sm.add_constant(X_lg)\n",
    "\n",
    "model_lg = sm.Logit(y_lg, X_lg).fit()\n",
    "\n",
    "print(model_lg.summary())"
   ]
  },
  {
   "cell_type": "markdown",
   "id": "f5ebea07-0cb2-4cb9-a9ca-8e644d8028fa",
   "metadata": {},
   "source": [
    "### 18. Wie hoch ist die Wahrscheinlichkeit, dass Person x,y unser Auto kauft?"
   ]
  },
  {
   "cell_type": "code",
   "execution_count": 111,
   "id": "c6d07e51",
   "metadata": {},
   "outputs": [
    {
     "name": "stdout",
     "output_type": "stream",
     "text": [
      "0.5465430448696972\n",
      "0.7404466545605655\n"
     ]
    }
   ],
   "source": [
    "# Kundendaten\n",
    "Person_x = [1, 32, 30000, 1, 30]  # Kauf (1 = Kauf), Alter, Einkommen, Geschlecht (1 = männlich), Zeit \n",
    "Person_y = [1, 51, 54000, 1, 45] \n",
    "\n",
    "# Modell\n",
    "params = model_lg.params\n",
    "\n",
    "# Person X\n",
    "log_1 = np.dot(params, Person_x)\n",
    "wahrscheinlichkeit_person_x = 1 / (1 + np.exp(-log_1))\n",
    "\n",
    "# Person Y \n",
    "log_2 = np.dot(params, Person_y)\n",
    "wahrscheinlichkeit_person_y = 1 / (1 + np.exp(-log_2))\n",
    "\n",
    "print(wahrscheinlichkeit_person_x)\n",
    "print(wahrscheinlichkeit_person_y)"
   ]
  },
  {
   "cell_type": "markdown",
   "id": "c47f1329-0d7a-4f1c-8914-f1835c9339c6",
   "metadata": {},
   "source": [
    "### 19. Auf welche Probleme sind Sie bei der Zusammenführung des Datensatzes gestoßen? Stellen Sie die Operationen vor, die Sie zum Zusammenführen und Bereinigen der Daten durchgeführt haben"
   ]
  },
  {
   "cell_type": "code",
   "execution_count": 112,
   "id": "288e4035-10e3-4351-a5c9-7c580bf37369",
   "metadata": {},
   "outputs": [],
   "source": [
    "# 1. Fehlende Daten in Kundendatei für Geschlecht\n",
    "\n",
    "# Herausgefunden mit der Operation isnull().sum: zeigt die Werte mit \"NaN\", also wo keine Angaben sind\n",
    "# Ermittlung des Modalwerts mit kunden[\"Geschlecht\"].mode(): gibt den Modelwert des Geschlechts an\n",
    "# Ersetzen der fehlenden Werte mit Modalwert mit .fillna(): setzt einen Wert für \"NaN\" ein, bei uns den Modalwert"
   ]
  },
  {
   "cell_type": "code",
   "execution_count": null,
   "id": "e5e3d66b-2461-45e8-a608-3f6d8a58c3c6",
   "metadata": {},
   "outputs": [],
   "source": []
  },
  {
   "cell_type": "code",
   "execution_count": null,
   "id": "73929d03-62eb-4dd3-a725-ea4d7eb19215",
   "metadata": {},
   "outputs": [],
   "source": []
  },
  {
   "cell_type": "code",
   "execution_count": null,
   "id": "70593410-9442-4281-bd40-18e1e39797eb",
   "metadata": {},
   "outputs": [],
   "source": []
  },
  {
   "cell_type": "code",
   "execution_count": null,
   "id": "454224fc-f705-4ef1-b8f1-4404c428384c",
   "metadata": {},
   "outputs": [],
   "source": []
  },
  {
   "cell_type": "code",
   "execution_count": null,
   "id": "c0244eb3-9a90-4c16-a811-a3f00c93a313",
   "metadata": {},
   "outputs": [],
   "source": []
  },
  {
   "cell_type": "code",
   "execution_count": null,
   "id": "d626a6e1-7da3-446e-b63d-de24b6224e94",
   "metadata": {},
   "outputs": [],
   "source": []
  },
  {
   "cell_type": "code",
   "execution_count": null,
   "id": "5da8b2e8-03f8-430b-8f71-7786ecf3b019",
   "metadata": {},
   "outputs": [],
   "source": []
  },
  {
   "cell_type": "code",
   "execution_count": null,
   "id": "c043de99-31b9-4d4a-9b46-280cd9b94cc6",
   "metadata": {},
   "outputs": [],
   "source": []
  },
  {
   "cell_type": "code",
   "execution_count": null,
   "id": "12a4e532-eb35-4917-9928-7a9db415cd91",
   "metadata": {},
   "outputs": [],
   "source": []
  },
  {
   "cell_type": "code",
   "execution_count": null,
   "id": "18bb730d-354a-41f1-bca3-87536ad8b84c",
   "metadata": {},
   "outputs": [],
   "source": []
  },
  {
   "cell_type": "code",
   "execution_count": null,
   "id": "e43ca4b3-f586-4de4-b113-7110dd0bae38",
   "metadata": {},
   "outputs": [],
   "source": []
  },
  {
   "cell_type": "code",
   "execution_count": null,
   "id": "1409f0b0-e983-4f8f-ac8d-f2bffe77e3f9",
   "metadata": {},
   "outputs": [],
   "source": []
  },
  {
   "cell_type": "code",
   "execution_count": null,
   "id": "51105429-fb07-4e03-898a-3762acd4b05b",
   "metadata": {},
   "outputs": [],
   "source": []
  },
  {
   "cell_type": "code",
   "execution_count": null,
   "id": "cd584ad7-8e30-409a-a2d3-7beba7f67e97",
   "metadata": {},
   "outputs": [],
   "source": []
  },
  {
   "cell_type": "code",
   "execution_count": null,
   "id": "c3c936d6-18b6-4e88-8d6f-153188c82ed7",
   "metadata": {},
   "outputs": [],
   "source": []
  },
  {
   "cell_type": "code",
   "execution_count": null,
   "id": "a974543c-fa95-434b-898d-dc738191cd8c",
   "metadata": {},
   "outputs": [],
   "source": []
  },
  {
   "cell_type": "code",
   "execution_count": null,
   "id": "c14525a8-d0cb-4520-b409-ad5110c7f002",
   "metadata": {},
   "outputs": [],
   "source": []
  },
  {
   "cell_type": "code",
   "execution_count": null,
   "id": "be581cd1-d94d-4277-bc94-3af17b29bc34",
   "metadata": {},
   "outputs": [],
   "source": []
  },
  {
   "cell_type": "code",
   "execution_count": null,
   "id": "c5c481a4-7890-4a73-93f5-e985e5f74478",
   "metadata": {},
   "outputs": [],
   "source": []
  },
  {
   "cell_type": "code",
   "execution_count": null,
   "id": "c2f5f573-5c60-4e82-b2f8-31f953dcaae8",
   "metadata": {},
   "outputs": [],
   "source": []
  },
  {
   "cell_type": "code",
   "execution_count": null,
   "id": "d84d39f7-8c94-48ee-833e-05b38f9796e9",
   "metadata": {},
   "outputs": [],
   "source": []
  },
  {
   "cell_type": "code",
   "execution_count": null,
   "id": "1b2cd298-6e52-46e0-b059-b1660b51d793",
   "metadata": {},
   "outputs": [],
   "source": []
  },
  {
   "cell_type": "code",
   "execution_count": null,
   "id": "48d3a9b3-f292-423e-b2c9-168803c11370",
   "metadata": {},
   "outputs": [],
   "source": []
  },
  {
   "cell_type": "code",
   "execution_count": null,
   "id": "87975b74-7e96-4aaf-9a42-f07ef887c594",
   "metadata": {},
   "outputs": [],
   "source": []
  },
  {
   "cell_type": "code",
   "execution_count": null,
   "id": "09e40cf9-46fb-4be1-8756-4e538f096256",
   "metadata": {},
   "outputs": [],
   "source": []
  },
  {
   "cell_type": "code",
   "execution_count": null,
   "id": "527e47fd-4d7f-431a-8d69-eb458b1ada6c",
   "metadata": {},
   "outputs": [],
   "source": []
  },
  {
   "cell_type": "code",
   "execution_count": null,
   "id": "6208225f-d78b-4a26-aa59-cf0ec2f8b306",
   "metadata": {},
   "outputs": [],
   "source": []
  },
  {
   "cell_type": "code",
   "execution_count": null,
   "id": "fc9f3c9e-9c2c-4653-ba41-87f4e69c5c02",
   "metadata": {},
   "outputs": [],
   "source": []
  },
  {
   "cell_type": "code",
   "execution_count": null,
   "id": "b20b62e3-598c-4d0b-8a26-3af69bbe7251",
   "metadata": {},
   "outputs": [],
   "source": []
  },
  {
   "cell_type": "code",
   "execution_count": null,
   "id": "cef4a468-0838-470d-8283-f37ba27dc451",
   "metadata": {},
   "outputs": [],
   "source": []
  },
  {
   "cell_type": "code",
   "execution_count": null,
   "id": "57a79cf4-f5b9-4f1b-99a8-798ac1352ebd",
   "metadata": {},
   "outputs": [],
   "source": []
  },
  {
   "cell_type": "code",
   "execution_count": null,
   "id": "c9d59053-61c5-45e0-8fb4-c1fd0589245e",
   "metadata": {},
   "outputs": [],
   "source": []
  },
  {
   "cell_type": "code",
   "execution_count": null,
   "id": "1ce936a0-95fb-4dc9-a958-4f7e4e8287be",
   "metadata": {},
   "outputs": [],
   "source": []
  },
  {
   "cell_type": "code",
   "execution_count": null,
   "id": "66e080fc-38b8-460d-bc3b-ac2eda0453ff",
   "metadata": {},
   "outputs": [],
   "source": []
  },
  {
   "cell_type": "code",
   "execution_count": null,
   "id": "c52db37b-1c9c-4da5-84d5-59890757e2e7",
   "metadata": {},
   "outputs": [],
   "source": []
  },
  {
   "cell_type": "code",
   "execution_count": null,
   "id": "3b80859b-2c51-4926-8386-e1a06d1034e3",
   "metadata": {},
   "outputs": [],
   "source": []
  },
  {
   "cell_type": "code",
   "execution_count": null,
   "id": "ba2fa217-4b4b-449a-9ed3-f8a361654735",
   "metadata": {},
   "outputs": [],
   "source": []
  },
  {
   "cell_type": "code",
   "execution_count": null,
   "id": "de900583-fdd5-4ca6-88ad-e0ed28fa5e1a",
   "metadata": {},
   "outputs": [],
   "source": []
  },
  {
   "cell_type": "code",
   "execution_count": null,
   "id": "55b39233-dbee-4db4-8ef5-724ef0330290",
   "metadata": {},
   "outputs": [],
   "source": []
  },
  {
   "cell_type": "code",
   "execution_count": null,
   "id": "6a7a2904-f2c8-4999-88b7-ccdac1ae8fad",
   "metadata": {},
   "outputs": [],
   "source": []
  },
  {
   "cell_type": "code",
   "execution_count": null,
   "id": "edd1df8d-682e-4e8b-b155-33258320f1ed",
   "metadata": {},
   "outputs": [],
   "source": []
  },
  {
   "cell_type": "code",
   "execution_count": null,
   "id": "537dfccd-073c-4a93-b89b-9c01a8531534",
   "metadata": {},
   "outputs": [],
   "source": []
  },
  {
   "cell_type": "code",
   "execution_count": null,
   "id": "38135947-3864-4e5f-bc6d-eeeb4d2a272b",
   "metadata": {},
   "outputs": [],
   "source": []
  },
  {
   "cell_type": "code",
   "execution_count": null,
   "id": "be996b7e-777e-4844-a96e-4e2fafbe19d4",
   "metadata": {},
   "outputs": [],
   "source": []
  },
  {
   "cell_type": "code",
   "execution_count": null,
   "id": "71512b16-4b90-4d7f-8b2f-db563735356c",
   "metadata": {},
   "outputs": [],
   "source": []
  },
  {
   "cell_type": "code",
   "execution_count": null,
   "id": "e34ca177-84e9-4471-ae91-09a58683c888",
   "metadata": {},
   "outputs": [],
   "source": []
  },
  {
   "cell_type": "code",
   "execution_count": null,
   "id": "0c5ff789-3d79-4337-a8b9-986c2dff62b0",
   "metadata": {},
   "outputs": [],
   "source": []
  },
  {
   "cell_type": "code",
   "execution_count": null,
   "id": "89a6bc3c-be8e-4622-8541-2c282ed0e218",
   "metadata": {},
   "outputs": [],
   "source": []
  },
  {
   "cell_type": "code",
   "execution_count": null,
   "id": "15c51732-1390-46a5-8dae-d8108f48c832",
   "metadata": {},
   "outputs": [],
   "source": []
  },
  {
   "cell_type": "code",
   "execution_count": null,
   "id": "aacf048a-a15f-4d14-af7b-5999d5e96fc1",
   "metadata": {},
   "outputs": [],
   "source": []
  },
  {
   "cell_type": "code",
   "execution_count": null,
   "id": "1540dee6-53e4-4dca-be0c-62f68e31e77a",
   "metadata": {},
   "outputs": [],
   "source": []
  },
  {
   "cell_type": "code",
   "execution_count": null,
   "id": "dce4ea2a-a07c-476e-b03c-42c63c31f362",
   "metadata": {},
   "outputs": [],
   "source": []
  },
  {
   "cell_type": "code",
   "execution_count": null,
   "id": "0325e4da-ceac-4002-8b6c-9a1db50fcb20",
   "metadata": {},
   "outputs": [],
   "source": []
  },
  {
   "cell_type": "code",
   "execution_count": null,
   "id": "4558b1a5-a629-42a0-8d74-41c8401eeb94",
   "metadata": {},
   "outputs": [],
   "source": []
  },
  {
   "cell_type": "code",
   "execution_count": null,
   "id": "85e3ba7f-07de-411b-b6de-27d559dfa223",
   "metadata": {},
   "outputs": [],
   "source": []
  },
  {
   "cell_type": "code",
   "execution_count": null,
   "id": "c71aab1c-038e-4959-bcd1-1dd212cd83d1",
   "metadata": {},
   "outputs": [],
   "source": []
  },
  {
   "cell_type": "code",
   "execution_count": null,
   "id": "e89cab0e-b0da-424a-9873-3f6adae324e6",
   "metadata": {},
   "outputs": [],
   "source": []
  },
  {
   "cell_type": "code",
   "execution_count": null,
   "id": "73d9ec93-1abe-45f5-ac70-c33b0b1916c5",
   "metadata": {},
   "outputs": [],
   "source": []
  },
  {
   "cell_type": "code",
   "execution_count": null,
   "id": "17790f52-2607-4809-9d42-b19740315ad4",
   "metadata": {},
   "outputs": [],
   "source": []
  },
  {
   "cell_type": "code",
   "execution_count": null,
   "id": "149b73ad-5d8a-4378-b214-26a0ccc0f6e3",
   "metadata": {},
   "outputs": [],
   "source": []
  },
  {
   "cell_type": "code",
   "execution_count": null,
   "id": "e502b770-6c79-4a0e-838a-df53d5daf017",
   "metadata": {},
   "outputs": [],
   "source": []
  },
  {
   "cell_type": "code",
   "execution_count": null,
   "id": "49b128a9-5017-4ab4-8bc6-853e9a64e3b6",
   "metadata": {},
   "outputs": [],
   "source": []
  },
  {
   "cell_type": "code",
   "execution_count": null,
   "id": "d0e7757e-0d9e-45cc-9499-77ef68f96272",
   "metadata": {},
   "outputs": [],
   "source": []
  },
  {
   "cell_type": "code",
   "execution_count": null,
   "id": "4c0445dc-2345-46b8-85b6-f2130ab8276a",
   "metadata": {},
   "outputs": [],
   "source": []
  },
  {
   "cell_type": "code",
   "execution_count": null,
   "id": "d1370e97-cb67-480a-bec4-92330a37cd8d",
   "metadata": {},
   "outputs": [],
   "source": []
  },
  {
   "cell_type": "code",
   "execution_count": null,
   "id": "cde59fe6-f413-4e5a-9508-e4a60ffb5b65",
   "metadata": {},
   "outputs": [],
   "source": []
  },
  {
   "cell_type": "code",
   "execution_count": null,
   "id": "4c4cd4cb-b39c-4137-93f0-9e152726e756",
   "metadata": {},
   "outputs": [],
   "source": []
  },
  {
   "cell_type": "code",
   "execution_count": null,
   "id": "47a436b7-817b-4618-aaa9-dcd9fa4f62c5",
   "metadata": {},
   "outputs": [],
   "source": []
  },
  {
   "cell_type": "code",
   "execution_count": null,
   "id": "92c386db-ed83-4e6c-962e-64003578f7fe",
   "metadata": {},
   "outputs": [],
   "source": []
  },
  {
   "cell_type": "code",
   "execution_count": null,
   "id": "e13958b3-5ffe-4bfe-ada1-b0f6249a430d",
   "metadata": {},
   "outputs": [],
   "source": []
  },
  {
   "cell_type": "code",
   "execution_count": null,
   "id": "365a06df-ce39-4448-9ae4-7cd879c748c0",
   "metadata": {},
   "outputs": [],
   "source": []
  },
  {
   "cell_type": "code",
   "execution_count": null,
   "id": "57feb605-a26a-42b5-8110-936528d5a5e5",
   "metadata": {},
   "outputs": [],
   "source": []
  },
  {
   "cell_type": "code",
   "execution_count": null,
   "id": "20a4f664-695c-40df-84ce-efb2f3633747",
   "metadata": {},
   "outputs": [],
   "source": []
  },
  {
   "cell_type": "code",
   "execution_count": null,
   "id": "78cc3da2-0f68-40c9-bc5a-bba65d4c3199",
   "metadata": {},
   "outputs": [],
   "source": []
  },
  {
   "cell_type": "code",
   "execution_count": null,
   "id": "8d594364-c728-435e-8c90-e13f31d59eb6",
   "metadata": {},
   "outputs": [],
   "source": []
  },
  {
   "cell_type": "code",
   "execution_count": null,
   "id": "8567a5bb-cc0a-4a69-99fc-691e45904e69",
   "metadata": {},
   "outputs": [],
   "source": []
  },
  {
   "cell_type": "code",
   "execution_count": null,
   "id": "4a3e703a-1c5c-4f55-9a44-d3c275b62767",
   "metadata": {},
   "outputs": [],
   "source": []
  },
  {
   "cell_type": "code",
   "execution_count": null,
   "id": "66513fd7-fe6c-4759-97fa-6a48913e21f8",
   "metadata": {},
   "outputs": [],
   "source": []
  },
  {
   "cell_type": "code",
   "execution_count": null,
   "id": "54b175b6-65d5-43bd-920b-eab9fc7b1345",
   "metadata": {},
   "outputs": [],
   "source": []
  },
  {
   "cell_type": "code",
   "execution_count": null,
   "id": "5cf439cb-8aeb-42dd-9253-d209a7240de9",
   "metadata": {},
   "outputs": [],
   "source": []
  },
  {
   "cell_type": "code",
   "execution_count": null,
   "id": "84200fc1-f8fe-49f2-a6e0-be170492b960",
   "metadata": {},
   "outputs": [],
   "source": []
  },
  {
   "cell_type": "code",
   "execution_count": null,
   "id": "de823c9c-bda6-4c66-9b42-34e87caf8ae3",
   "metadata": {},
   "outputs": [],
   "source": []
  },
  {
   "cell_type": "code",
   "execution_count": null,
   "id": "8735d62e-37b6-46c3-b636-02abcf7e5828",
   "metadata": {},
   "outputs": [],
   "source": []
  },
  {
   "cell_type": "code",
   "execution_count": null,
   "id": "2be2ee71-a284-4c86-add4-5a8f451b49d0",
   "metadata": {},
   "outputs": [],
   "source": []
  },
  {
   "cell_type": "code",
   "execution_count": null,
   "id": "41217c39-2fa7-4dc9-b11d-e0e8d167b5de",
   "metadata": {},
   "outputs": [],
   "source": []
  },
  {
   "cell_type": "code",
   "execution_count": null,
   "id": "ff9b2416-54de-42af-afe5-5cdba3190391",
   "metadata": {},
   "outputs": [],
   "source": []
  },
  {
   "cell_type": "code",
   "execution_count": null,
   "id": "e24e1241-9c2d-43f3-a34b-5e1c70741dd0",
   "metadata": {},
   "outputs": [],
   "source": []
  },
  {
   "cell_type": "code",
   "execution_count": null,
   "id": "af14b489-db1d-4cb9-be5a-fef568de022b",
   "metadata": {},
   "outputs": [],
   "source": []
  },
  {
   "cell_type": "code",
   "execution_count": null,
   "id": "95c9f0c6-6d69-4309-ab53-e9f0c0fc0c6b",
   "metadata": {},
   "outputs": [],
   "source": []
  },
  {
   "cell_type": "code",
   "execution_count": null,
   "id": "7b3800e5-5793-43b2-8d7a-41d9abb10749",
   "metadata": {},
   "outputs": [],
   "source": []
  },
  {
   "cell_type": "code",
   "execution_count": null,
   "id": "d0a56669-6ed6-4e17-9d68-419806b10bbe",
   "metadata": {},
   "outputs": [],
   "source": []
  },
  {
   "cell_type": "code",
   "execution_count": null,
   "id": "725c650f-536e-42b6-b137-986bac2646fe",
   "metadata": {},
   "outputs": [],
   "source": []
  },
  {
   "cell_type": "code",
   "execution_count": null,
   "id": "bd9452c7-633a-4b6e-9fb8-d3f8296840f5",
   "metadata": {},
   "outputs": [],
   "source": []
  },
  {
   "cell_type": "code",
   "execution_count": null,
   "id": "1002aa56-3a32-420c-9c8c-137b602a0022",
   "metadata": {},
   "outputs": [],
   "source": []
  },
  {
   "cell_type": "code",
   "execution_count": null,
   "id": "f1c81cc4-807e-4196-939a-9d7f42ed976d",
   "metadata": {},
   "outputs": [],
   "source": []
  },
  {
   "cell_type": "code",
   "execution_count": null,
   "id": "52d4475b-4b61-4799-b507-262281ca1de4",
   "metadata": {},
   "outputs": [],
   "source": []
  },
  {
   "cell_type": "code",
   "execution_count": null,
   "id": "b6465e1d-6a26-47fd-91df-cc494e9370af",
   "metadata": {},
   "outputs": [],
   "source": []
  },
  {
   "cell_type": "code",
   "execution_count": null,
   "id": "4038b756-45ad-46ce-a373-a6d69547556f",
   "metadata": {},
   "outputs": [],
   "source": []
  },
  {
   "cell_type": "code",
   "execution_count": null,
   "id": "49c04008-27f2-4e2e-9487-3469951af362",
   "metadata": {},
   "outputs": [],
   "source": []
  },
  {
   "cell_type": "code",
   "execution_count": null,
   "id": "ad680a32-3ea2-4148-a9b4-3c30f5f3505b",
   "metadata": {},
   "outputs": [],
   "source": []
  },
  {
   "cell_type": "code",
   "execution_count": null,
   "id": "9bdfbccd-cc3b-4904-ab0c-26258a36d403",
   "metadata": {},
   "outputs": [],
   "source": []
  },
  {
   "cell_type": "code",
   "execution_count": null,
   "id": "9e855926-18d1-4b75-a95d-1736573a0caf",
   "metadata": {},
   "outputs": [],
   "source": []
  },
  {
   "cell_type": "code",
   "execution_count": null,
   "id": "c2c629bf-e576-47dd-bd3f-9d605f7a4293",
   "metadata": {},
   "outputs": [],
   "source": []
  },
  {
   "cell_type": "code",
   "execution_count": null,
   "id": "1d15bfbd-bc92-4e28-ab4e-600655817ca0",
   "metadata": {},
   "outputs": [],
   "source": []
  },
  {
   "cell_type": "code",
   "execution_count": null,
   "id": "6083703d-1306-4d3c-ba64-b39d66e60c49",
   "metadata": {},
   "outputs": [],
   "source": []
  },
  {
   "cell_type": "code",
   "execution_count": null,
   "id": "69eaee0d-84f5-4ffe-a2c5-e025d7a131b6",
   "metadata": {},
   "outputs": [],
   "source": []
  },
  {
   "cell_type": "code",
   "execution_count": null,
   "id": "f460b5a2-e882-4e62-9c62-d61438979a30",
   "metadata": {},
   "outputs": [],
   "source": []
  },
  {
   "cell_type": "code",
   "execution_count": null,
   "id": "a16d3bf2-9976-4d19-a4d7-a4029fb4d352",
   "metadata": {},
   "outputs": [],
   "source": []
  },
  {
   "cell_type": "code",
   "execution_count": null,
   "id": "57544c3c-ba20-4c40-b8d6-9ad7a78a9e44",
   "metadata": {},
   "outputs": [],
   "source": []
  },
  {
   "cell_type": "code",
   "execution_count": null,
   "id": "27da2f82-e1eb-4243-91c9-0bc2b15a225d",
   "metadata": {},
   "outputs": [],
   "source": []
  },
  {
   "cell_type": "code",
   "execution_count": null,
   "id": "b123da11-7817-47c8-85d4-19027a2e7d75",
   "metadata": {},
   "outputs": [],
   "source": []
  },
  {
   "cell_type": "code",
   "execution_count": null,
   "id": "a491b350-7900-4f5b-b6c2-31bcdfd54af8",
   "metadata": {},
   "outputs": [],
   "source": []
  },
  {
   "cell_type": "code",
   "execution_count": null,
   "id": "e4bba30f-9214-44ff-bc1d-5d0818db8d5c",
   "metadata": {},
   "outputs": [],
   "source": []
  },
  {
   "cell_type": "code",
   "execution_count": null,
   "id": "51744df0-e8d6-44fc-9059-678ef440c923",
   "metadata": {},
   "outputs": [],
   "source": []
  },
  {
   "cell_type": "code",
   "execution_count": null,
   "id": "f2ad5227-5db8-4915-bade-18f057ebd1c3",
   "metadata": {},
   "outputs": [],
   "source": []
  },
  {
   "cell_type": "code",
   "execution_count": null,
   "id": "20fa2657-3876-42e5-9bb5-00132d9f6999",
   "metadata": {},
   "outputs": [],
   "source": []
  },
  {
   "cell_type": "code",
   "execution_count": null,
   "id": "9916b0df-0b4d-4062-8764-c50ac07dbb0e",
   "metadata": {},
   "outputs": [],
   "source": []
  },
  {
   "cell_type": "code",
   "execution_count": null,
   "id": "3cf11ffb-4f3b-4995-8b42-a0749600622c",
   "metadata": {},
   "outputs": [],
   "source": []
  },
  {
   "cell_type": "code",
   "execution_count": null,
   "id": "507d620d-e9da-41d7-890b-0d6f38f8d1a4",
   "metadata": {},
   "outputs": [],
   "source": []
  },
  {
   "cell_type": "code",
   "execution_count": null,
   "id": "cb4ace71-07eb-4c30-b370-24c3f6562638",
   "metadata": {},
   "outputs": [],
   "source": []
  },
  {
   "cell_type": "code",
   "execution_count": null,
   "id": "a75c1414-962f-40e6-a44c-8bd2e455483e",
   "metadata": {},
   "outputs": [],
   "source": []
  },
  {
   "cell_type": "code",
   "execution_count": null,
   "id": "7b9d55ec-dda0-4698-b34f-022fcf6b7421",
   "metadata": {},
   "outputs": [],
   "source": []
  },
  {
   "cell_type": "code",
   "execution_count": null,
   "id": "1a86357d-4904-4c7d-b152-e0ca3ebeb379",
   "metadata": {},
   "outputs": [],
   "source": []
  },
  {
   "cell_type": "code",
   "execution_count": null,
   "id": "89f2b992-bc53-4fb0-b33e-23cd5af16611",
   "metadata": {},
   "outputs": [],
   "source": []
  },
  {
   "cell_type": "code",
   "execution_count": null,
   "id": "0f328a7e-ca39-4d39-85e1-64d785b1de21",
   "metadata": {},
   "outputs": [],
   "source": []
  },
  {
   "cell_type": "code",
   "execution_count": null,
   "id": "cc793759-5e33-4f96-acb3-6e02c9e804d4",
   "metadata": {},
   "outputs": [],
   "source": []
  },
  {
   "cell_type": "code",
   "execution_count": null,
   "id": "2fb3d3d7-3e0f-465f-9b78-58edbd2880e7",
   "metadata": {},
   "outputs": [],
   "source": []
  },
  {
   "cell_type": "code",
   "execution_count": null,
   "id": "b4fd65a8-c2ea-4f89-9cfb-6dc31fe2c48b",
   "metadata": {},
   "outputs": [],
   "source": []
  },
  {
   "cell_type": "code",
   "execution_count": null,
   "id": "dc580774-622f-4d7e-a080-4ec30e4387a7",
   "metadata": {},
   "outputs": [],
   "source": []
  },
  {
   "cell_type": "code",
   "execution_count": null,
   "id": "a2ee4835-5087-4a42-9c52-56b67f5eb27a",
   "metadata": {},
   "outputs": [],
   "source": []
  },
  {
   "cell_type": "code",
   "execution_count": null,
   "id": "daa55a1f-5194-4532-895d-24b81468f9a8",
   "metadata": {},
   "outputs": [],
   "source": []
  },
  {
   "cell_type": "code",
   "execution_count": null,
   "id": "c9a6ed01-3a88-444c-bd66-62eb109c952f",
   "metadata": {},
   "outputs": [],
   "source": []
  },
  {
   "cell_type": "code",
   "execution_count": null,
   "id": "35e46721-b84a-45bf-b26b-59625cd1c165",
   "metadata": {},
   "outputs": [],
   "source": []
  },
  {
   "cell_type": "code",
   "execution_count": null,
   "id": "c02f62ee-ef4e-4a0c-a0aa-bea5f901b1fb",
   "metadata": {},
   "outputs": [],
   "source": []
  },
  {
   "cell_type": "code",
   "execution_count": null,
   "id": "444e5718-6c54-4d87-a2a5-9e83ef40fa91",
   "metadata": {},
   "outputs": [],
   "source": []
  },
  {
   "cell_type": "code",
   "execution_count": null,
   "id": "9e1d58f8-3680-46ad-9274-6f136605aab0",
   "metadata": {},
   "outputs": [],
   "source": []
  },
  {
   "cell_type": "code",
   "execution_count": null,
   "id": "0e8e20b8-220f-41af-a8a6-6c4a916bdf08",
   "metadata": {},
   "outputs": [],
   "source": []
  },
  {
   "cell_type": "code",
   "execution_count": null,
   "id": "36e1a16b-d6ba-47cd-a900-52c50eecd99d",
   "metadata": {},
   "outputs": [],
   "source": []
  },
  {
   "cell_type": "code",
   "execution_count": null,
   "id": "4cfecbc8-d69b-4cf9-8f5f-89038f9c4c83",
   "metadata": {},
   "outputs": [],
   "source": []
  },
  {
   "cell_type": "code",
   "execution_count": null,
   "id": "38457309-dbe8-4527-9caa-f416f4970ec5",
   "metadata": {},
   "outputs": [],
   "source": []
  },
  {
   "cell_type": "code",
   "execution_count": null,
   "id": "fdc07d01-9dc5-4a80-8b8f-4fd04d77244b",
   "metadata": {},
   "outputs": [],
   "source": []
  },
  {
   "cell_type": "code",
   "execution_count": null,
   "id": "fc8200ef-a8c0-4506-a78c-ef9962b29408",
   "metadata": {},
   "outputs": [],
   "source": []
  },
  {
   "cell_type": "code",
   "execution_count": null,
   "id": "fbda4f98-0b11-4daf-bca0-0d7e827fc898",
   "metadata": {},
   "outputs": [],
   "source": []
  },
  {
   "cell_type": "code",
   "execution_count": null,
   "id": "82a94f4f-afc0-4ea8-96ac-7a5050e0c945",
   "metadata": {},
   "outputs": [],
   "source": []
  },
  {
   "cell_type": "code",
   "execution_count": null,
   "id": "f05acf4a-7a7a-42eb-8d8a-528e4d2bc1a9",
   "metadata": {},
   "outputs": [],
   "source": []
  },
  {
   "cell_type": "code",
   "execution_count": null,
   "id": "329a101e-92c1-4386-b5ee-8a12ded0c4a6",
   "metadata": {},
   "outputs": [],
   "source": []
  },
  {
   "cell_type": "code",
   "execution_count": null,
   "id": "c13242aa-eb77-48c8-8121-1441f3667827",
   "metadata": {},
   "outputs": [],
   "source": []
  },
  {
   "cell_type": "code",
   "execution_count": null,
   "id": "0f74b74a-569a-41a5-b8c0-0c3770f25ea4",
   "metadata": {},
   "outputs": [],
   "source": []
  },
  {
   "cell_type": "code",
   "execution_count": null,
   "id": "d5305706-d8d6-43e6-bad1-c6ad07207ad9",
   "metadata": {},
   "outputs": [],
   "source": []
  },
  {
   "cell_type": "code",
   "execution_count": null,
   "id": "c9f64a33-998d-4a2a-9bbe-ee8d3d6d37da",
   "metadata": {},
   "outputs": [],
   "source": []
  },
  {
   "cell_type": "code",
   "execution_count": null,
   "id": "83456aa1-b509-4cf0-bd3a-657417a07a19",
   "metadata": {},
   "outputs": [],
   "source": []
  },
  {
   "cell_type": "code",
   "execution_count": null,
   "id": "9ce08452-5e17-4e4e-8eb0-12c30758f543",
   "metadata": {},
   "outputs": [],
   "source": []
  },
  {
   "cell_type": "code",
   "execution_count": null,
   "id": "c537da05-1b76-40b8-9413-407aae5adc4d",
   "metadata": {},
   "outputs": [],
   "source": []
  },
  {
   "cell_type": "code",
   "execution_count": null,
   "id": "302f44cb-c760-4354-ab36-509e50524183",
   "metadata": {},
   "outputs": [],
   "source": []
  },
  {
   "cell_type": "code",
   "execution_count": null,
   "id": "d9199b90-70eb-4f6e-9347-72fce522e27a",
   "metadata": {},
   "outputs": [],
   "source": [
    "\n"
   ]
  }
 ],
 "metadata": {
  "kernelspec": {
   "display_name": "Python 3 (ipykernel)",
   "language": "python",
   "name": "python3"
  },
  "language_info": {
   "codemirror_mode": {
    "name": "ipython",
    "version": 3
   },
   "file_extension": ".py",
   "mimetype": "text/x-python",
   "name": "python",
   "nbconvert_exporter": "python",
   "pygments_lexer": "ipython3",
   "version": "3.11.5"
  }
 },
 "nbformat": 4,
 "nbformat_minor": 5
}
